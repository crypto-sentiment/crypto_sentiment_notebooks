{
  "nbformat": 4,
  "nbformat_minor": 0,
  "metadata": {
    "colab": {
      "name": "RSS-parser.ipynb",
      "provenance": []
    },
    "kernelspec": {
      "name": "python3",
      "display_name": "Python 3"
    },
    "language_info": {
      "name": "python"
    }
  },
  "cells": [
    {
      "cell_type": "code",
      "execution_count": 1,
      "metadata": {
        "colab": {
          "base_uri": "https://localhost:8080/"
        },
        "id": "pi1osOB-y4ri",
        "outputId": "ca25c08f-99a8-403d-f89c-f8beab900f2e"
      },
      "outputs": [
        {
          "output_type": "stream",
          "name": "stdout",
          "text": [
            "Requirement already satisfied: feedparser in /usr/local/lib/python3.7/dist-packages (6.0.8)\n",
            "Requirement already satisfied: sgmllib3k in /usr/local/lib/python3.7/dist-packages (from feedparser) (1.0.0)\n"
          ]
        }
      ],
      "source": [
        "pip install feedparser"
      ]
    },
    {
      "cell_type": "code",
      "source": [
        "import pandas as pd\n",
        "import feedparser\n",
        "from tqdm import tqdm"
      ],
      "metadata": {
        "id": "flzG3ltG0o1E"
      },
      "execution_count": 19,
      "outputs": []
    },
    {
      "cell_type": "code",
      "source": [
        "feeds = pd.read_csv('/content/Crypto feeds.csv')\n",
        "urls = list(feeds.Feeds)\n",
        "feeds = [feedparser.parse(url)['entries'] for url in urls]"
      ],
      "metadata": {
        "id": "Q7jSxokZ9JMd"
      },
      "execution_count": 3,
      "outputs": []
    },
    {
      "cell_type": "markdown",
      "source": [
        "убираю пустые фиды"
      ],
      "metadata": {
        "id": "z_2ieysuH9fG"
      }
    },
    {
      "cell_type": "code",
      "source": [
        "non_zero_feeds = []\n",
        "for i in range(len(feeds)):\n",
        "  if len(feeds[i]) != 0:\n",
        "    non_zero_feeds.append(feeds[i])\n",
        "  else:\n",
        "    print(pd.read_csv('/content/Crypto feeds.csv').iloc[i].Feeds)"
      ],
      "metadata": {
        "colab": {
          "base_uri": "https://localhost:8080/"
        },
        "id": "DFsPaI0_BAPw",
        "outputId": "0026ebcb-3445-4a2a-f7c2-c539be979d03"
      },
      "execution_count": 4,
      "outputs": [
        {
          "output_type": "stream",
          "name": "stdout",
          "text": [
            "https://blog.bitpanda.com/feed\n",
            "https://coinatmradar.com/blog/feed/?x=1\n",
            "https://www.coin.space/feed/\n",
            "https://blog.coinspectator.com/feed/\n",
            "https://belfrics.com/blog/feed/\n",
            "https://www.hegion.com/feed\n",
            "https://bitcoin-millionaire.com/feed/\n",
            "https://blog.flitpay.in/feed/\n",
            "https://paperblockchain.com/feed/\n",
            "http://bitcoinmxn.com/feed\n",
            "https://blog.spectrocoin.com/en/feed/\n",
            "https://oilblockchain.news/feed/\n",
            "https://coincurrencynews.com/feed/\n",
            "https://www.goldsilveranalyst.com/feed\n",
            "https://medium.com/feed/@satoshiknotabolo\n",
            "https://blog.zebpay.com/feed\n",
            "https://bitcoinspakistan.com/feed/\n",
            "https://blog.feedspot.com/feed/\n"
          ]
        }
      ]
    },
    {
      "cell_type": "markdown",
      "source": [
        "ищу фиды, в которых для каждой новости не указана дата"
      ],
      "metadata": {
        "id": "lrxxPolOIDBh"
      }
    },
    {
      "cell_type": "code",
      "source": [
        "\n",
        "for i in range(len(non_zero_feeds)):\n",
        "  if ('published' not in non_zero_feeds[i][1].keys()) and ('pubDate' not in non_zero_feeds[i][1].keys()):\n",
        "    print(i)\n"
      ],
      "metadata": {
        "colab": {
          "base_uri": "https://localhost:8080/"
        },
        "id": "q8jCqgrF6VpT",
        "outputId": "b132fda0-d828-4a7e-b996-31b3bf195678"
      },
      "execution_count": 5,
      "outputs": [
        {
          "output_type": "stream",
          "name": "stdout",
          "text": [
            "39\n"
          ]
        }
      ]
    },
    {
      "cell_type": "code",
      "source": [
        "needed_feeds = non_zero_feeds[:39] + non_zero_feeds[40:]"
      ],
      "metadata": {
        "id": "OSOemyBB0_jK"
      },
      "execution_count": 6,
      "outputs": []
    },
    {
      "cell_type": "markdown",
      "source": [
        "преобразую в датафрейм"
      ],
      "metadata": {
        "id": "INkqoW3nj2Dg"
      }
    },
    {
      "cell_type": "code",
      "source": [
        "news = pd.DataFrame(columns = {'title':[], 'date_published':[]})\n",
        "\n",
        "for k in needed_feeds:\n",
        "  for j in range(len(k)):\n",
        "    if ('published' in k[j].keys()):\n",
        "      unit = pd.DataFrame({'title': [k[j].title], 'date_published': [k[j].published]})\n",
        "    elif ('pubDate' in k[j].keys()):\n",
        "      unit = pd.DataFrame({'title': [k[j].title], 'date_published': [k[j].pubDate]})\n",
        "    news = pd.concat([news, unit], axis = 0)"
      ],
      "metadata": {
        "id": "JAYAjj8lbVqe"
      },
      "execution_count": 18,
      "outputs": []
    },
    {
      "cell_type": "code",
      "source": [
        "news"
      ],
      "metadata": {
        "colab": {
          "base_uri": "https://localhost:8080/",
          "height": 423
        },
        "id": "wJJjrzdffaJw",
        "outputId": "74927f1b-5fc0-4f51-cea5-dcc25a8a9f20"
      },
      "execution_count": 24,
      "outputs": [
        {
          "output_type": "execute_result",
          "data": {
            "text/plain": [
              "                                                title  \\\n",
              "0   Algorand aims to convert network transaction f...   \n",
              "0   GBTC premium nears 2022 high as SEC faces call...   \n",
              "0   Binance limits services in Russia due to the E...   \n",
              "0   US investors realized 6x more crypto gains in ...   \n",
              "0   German banking giant Commerzbank applies for c...   \n",
              "..                                                ...   \n",
              "0   BTC Media Announces Comedy Hour As Part Of Sou...   \n",
              "0   Defactor Is First To Bring DeFi Finance Servic...   \n",
              "0   Defactor Announces Partnership With Amplify Pr...   \n",
              "0   SparkWorld* announces partnership with Islande...   \n",
              "0   Zebu Digital shortlisted for StartUp Awards Na...   \n",
              "\n",
              "                     date_published  \n",
              "0   Thu, 21 Apr 2022 10:15:31 +0100  \n",
              "0   Thu, 21 Apr 2022 09:08:01 +0100  \n",
              "0   Thu, 21 Apr 2022 09:07:32 +0100  \n",
              "0   Thu, 21 Apr 2022 06:42:17 +0100  \n",
              "0   Thu, 21 Apr 2022 05:41:33 +0100  \n",
              "..                              ...  \n",
              "0   Mon, 04 Apr 2022 11:57:58 +0000  \n",
              "0   Sun, 03 Apr 2022 17:52:21 +0000  \n",
              "0   Fri, 01 Apr 2022 09:56:04 +0000  \n",
              "0   Thu, 31 Mar 2022 14:57:34 +0000  \n",
              "0   Wed, 30 Mar 2022 12:21:26 +0000  \n",
              "\n",
              "[2138 rows x 2 columns]"
            ],
            "text/html": [
              "\n",
              "  <div id=\"df-600aa8b3-bbe4-47dc-b819-6188edf744a1\">\n",
              "    <div class=\"colab-df-container\">\n",
              "      <div>\n",
              "<style scoped>\n",
              "    .dataframe tbody tr th:only-of-type {\n",
              "        vertical-align: middle;\n",
              "    }\n",
              "\n",
              "    .dataframe tbody tr th {\n",
              "        vertical-align: top;\n",
              "    }\n",
              "\n",
              "    .dataframe thead th {\n",
              "        text-align: right;\n",
              "    }\n",
              "</style>\n",
              "<table border=\"1\" class=\"dataframe\">\n",
              "  <thead>\n",
              "    <tr style=\"text-align: right;\">\n",
              "      <th></th>\n",
              "      <th>title</th>\n",
              "      <th>date_published</th>\n",
              "    </tr>\n",
              "  </thead>\n",
              "  <tbody>\n",
              "    <tr>\n",
              "      <th>0</th>\n",
              "      <td>Algorand aims to convert network transaction f...</td>\n",
              "      <td>Thu, 21 Apr 2022 10:15:31 +0100</td>\n",
              "    </tr>\n",
              "    <tr>\n",
              "      <th>0</th>\n",
              "      <td>GBTC premium nears 2022 high as SEC faces call...</td>\n",
              "      <td>Thu, 21 Apr 2022 09:08:01 +0100</td>\n",
              "    </tr>\n",
              "    <tr>\n",
              "      <th>0</th>\n",
              "      <td>Binance limits services in Russia due to the E...</td>\n",
              "      <td>Thu, 21 Apr 2022 09:07:32 +0100</td>\n",
              "    </tr>\n",
              "    <tr>\n",
              "      <th>0</th>\n",
              "      <td>US investors realized 6x more crypto gains in ...</td>\n",
              "      <td>Thu, 21 Apr 2022 06:42:17 +0100</td>\n",
              "    </tr>\n",
              "    <tr>\n",
              "      <th>0</th>\n",
              "      <td>German banking giant Commerzbank applies for c...</td>\n",
              "      <td>Thu, 21 Apr 2022 05:41:33 +0100</td>\n",
              "    </tr>\n",
              "    <tr>\n",
              "      <th>...</th>\n",
              "      <td>...</td>\n",
              "      <td>...</td>\n",
              "    </tr>\n",
              "    <tr>\n",
              "      <th>0</th>\n",
              "      <td>BTC Media Announces Comedy Hour As Part Of Sou...</td>\n",
              "      <td>Mon, 04 Apr 2022 11:57:58 +0000</td>\n",
              "    </tr>\n",
              "    <tr>\n",
              "      <th>0</th>\n",
              "      <td>Defactor Is First To Bring DeFi Finance Servic...</td>\n",
              "      <td>Sun, 03 Apr 2022 17:52:21 +0000</td>\n",
              "    </tr>\n",
              "    <tr>\n",
              "      <th>0</th>\n",
              "      <td>Defactor Announces Partnership With Amplify Pr...</td>\n",
              "      <td>Fri, 01 Apr 2022 09:56:04 +0000</td>\n",
              "    </tr>\n",
              "    <tr>\n",
              "      <th>0</th>\n",
              "      <td>SparkWorld* announces partnership with Islande...</td>\n",
              "      <td>Thu, 31 Mar 2022 14:57:34 +0000</td>\n",
              "    </tr>\n",
              "    <tr>\n",
              "      <th>0</th>\n",
              "      <td>Zebu Digital shortlisted for StartUp Awards Na...</td>\n",
              "      <td>Wed, 30 Mar 2022 12:21:26 +0000</td>\n",
              "    </tr>\n",
              "  </tbody>\n",
              "</table>\n",
              "<p>2138 rows × 2 columns</p>\n",
              "</div>\n",
              "      <button class=\"colab-df-convert\" onclick=\"convertToInteractive('df-600aa8b3-bbe4-47dc-b819-6188edf744a1')\"\n",
              "              title=\"Convert this dataframe to an interactive table.\"\n",
              "              style=\"display:none;\">\n",
              "        \n",
              "  <svg xmlns=\"http://www.w3.org/2000/svg\" height=\"24px\"viewBox=\"0 0 24 24\"\n",
              "       width=\"24px\">\n",
              "    <path d=\"M0 0h24v24H0V0z\" fill=\"none\"/>\n",
              "    <path d=\"M18.56 5.44l.94 2.06.94-2.06 2.06-.94-2.06-.94-.94-2.06-.94 2.06-2.06.94zm-11 1L8.5 8.5l.94-2.06 2.06-.94-2.06-.94L8.5 2.5l-.94 2.06-2.06.94zm10 10l.94 2.06.94-2.06 2.06-.94-2.06-.94-.94-2.06-.94 2.06-2.06.94z\"/><path d=\"M17.41 7.96l-1.37-1.37c-.4-.4-.92-.59-1.43-.59-.52 0-1.04.2-1.43.59L10.3 9.45l-7.72 7.72c-.78.78-.78 2.05 0 2.83L4 21.41c.39.39.9.59 1.41.59.51 0 1.02-.2 1.41-.59l7.78-7.78 2.81-2.81c.8-.78.8-2.07 0-2.86zM5.41 20L4 18.59l7.72-7.72 1.47 1.35L5.41 20z\"/>\n",
              "  </svg>\n",
              "      </button>\n",
              "      \n",
              "  <style>\n",
              "    .colab-df-container {\n",
              "      display:flex;\n",
              "      flex-wrap:wrap;\n",
              "      gap: 12px;\n",
              "    }\n",
              "\n",
              "    .colab-df-convert {\n",
              "      background-color: #E8F0FE;\n",
              "      border: none;\n",
              "      border-radius: 50%;\n",
              "      cursor: pointer;\n",
              "      display: none;\n",
              "      fill: #1967D2;\n",
              "      height: 32px;\n",
              "      padding: 0 0 0 0;\n",
              "      width: 32px;\n",
              "    }\n",
              "\n",
              "    .colab-df-convert:hover {\n",
              "      background-color: #E2EBFA;\n",
              "      box-shadow: 0px 1px 2px rgba(60, 64, 67, 0.3), 0px 1px 3px 1px rgba(60, 64, 67, 0.15);\n",
              "      fill: #174EA6;\n",
              "    }\n",
              "\n",
              "    [theme=dark] .colab-df-convert {\n",
              "      background-color: #3B4455;\n",
              "      fill: #D2E3FC;\n",
              "    }\n",
              "\n",
              "    [theme=dark] .colab-df-convert:hover {\n",
              "      background-color: #434B5C;\n",
              "      box-shadow: 0px 1px 3px 1px rgba(0, 0, 0, 0.15);\n",
              "      filter: drop-shadow(0px 1px 2px rgba(0, 0, 0, 0.3));\n",
              "      fill: #FFFFFF;\n",
              "    }\n",
              "  </style>\n",
              "\n",
              "      <script>\n",
              "        const buttonEl =\n",
              "          document.querySelector('#df-600aa8b3-bbe4-47dc-b819-6188edf744a1 button.colab-df-convert');\n",
              "        buttonEl.style.display =\n",
              "          google.colab.kernel.accessAllowed ? 'block' : 'none';\n",
              "\n",
              "        async function convertToInteractive(key) {\n",
              "          const element = document.querySelector('#df-600aa8b3-bbe4-47dc-b819-6188edf744a1');\n",
              "          const dataTable =\n",
              "            await google.colab.kernel.invokeFunction('convertToInteractive',\n",
              "                                                     [key], {});\n",
              "          if (!dataTable) return;\n",
              "\n",
              "          const docLinkHtml = 'Like what you see? Visit the ' +\n",
              "            '<a target=\"_blank\" href=https://colab.research.google.com/notebooks/data_table.ipynb>data table notebook</a>'\n",
              "            + ' to learn more about interactive tables.';\n",
              "          element.innerHTML = '';\n",
              "          dataTable['output_type'] = 'display_data';\n",
              "          await google.colab.output.renderOutput(dataTable, element);\n",
              "          const docLink = document.createElement('div');\n",
              "          docLink.innerHTML = docLinkHtml;\n",
              "          element.appendChild(docLink);\n",
              "        }\n",
              "      </script>\n",
              "    </div>\n",
              "  </div>\n",
              "  "
            ]
          },
          "metadata": {},
          "execution_count": 24
        }
      ]
    },
    {
      "cell_type": "code",
      "source": [
        "news.date_published.min()"
      ],
      "metadata": {
        "colab": {
          "base_uri": "https://localhost:8080/",
          "height": 36
        },
        "id": "mnm22OL-keaN",
        "outputId": "6d6fc0e0-2335-4c32-81a8-d42c2d745d20"
      },
      "execution_count": 25,
      "outputs": [
        {
          "output_type": "execute_result",
          "data": {
            "text/plain": [
              "'Fri, 01 Apr 2022 07:53:05 +0000'"
            ],
            "application/vnd.google.colaboratory.intrinsic+json": {
              "type": "string"
            }
          },
          "metadata": {},
          "execution_count": 25
        }
      ]
    }
  ]
}