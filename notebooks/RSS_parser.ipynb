{
  "nbformat": 4,
  "nbformat_minor": 0,
  "metadata": {
    "colab": {
      "name": "RSS-parser.ipynb",
      "provenance": [],
      "collapsed_sections": []
    },
    "kernelspec": {
      "name": "python3",
      "display_name": "Python 3"
    },
    "language_info": {
      "name": "python"
    }
  },
  "cells": [
    {
      "cell_type": "markdown",
      "source": [
        "Author\n",
        "Nikita Zakharov\n",
        "\n",
        "Reference\n",
        "\n",
        "[Notion ticket](https://www.notion.so/0616f7dfedd7459bae5f01a75f4fcc39)\n",
        "\n",
        "Idea\n",
        "\n",
        "RSS feed - an API that gives you the latest posts or news from the site. It used to be popular, it's rarer now, but it's still there somewhere!\n",
        "RSS feeds are easier to parse than HTML page code, so it's much easier to do automatic parsing every day.\n",
        "In addition, the news in such feeds is selected by humans, so you don't have to come up with heuristics that would filter news from non-news.\n",
        "\n",
        "Results\n",
        "\n",
        "- ~1k up-to-date feeds are saved locally, of which 212 were published in the past day\n",
        "- removed hungarian and spanish sources\n"
      ],
      "metadata": {
        "id": "T5Iq2iHVlRtx"
      }
    },
    {
      "cell_type": "code",
      "execution_count": 184,
      "metadata": {
        "colab": {
          "base_uri": "https://localhost:8080/"
        },
        "id": "pi1osOB-y4ri",
        "outputId": "c64c6997-75c6-40ce-dcd0-a98033ebc499"
      },
      "outputs": [
        {
          "output_type": "stream",
          "name": "stdout",
          "text": [
            "Requirement already satisfied: feedparser in /usr/local/lib/python3.7/dist-packages (6.0.8)\n",
            "Requirement already satisfied: sgmllib3k in /usr/local/lib/python3.7/dist-packages (from feedparser) (1.0.0)\n"
          ]
        }
      ],
      "source": [
        "pip install feedparser"
      ]
    },
    {
      "cell_type": "code",
      "source": [
        "pip install spacy_langdetect"
      ],
      "metadata": {
        "colab": {
          "base_uri": "https://localhost:8080/"
        },
        "id": "ZjbQFothF4Km",
        "outputId": "f13c928a-eaf9-46ee-ad8c-63cbe68599fc"
      },
      "execution_count": 201,
      "outputs": [
        {
          "output_type": "stream",
          "name": "stdout",
          "text": [
            "Collecting spacy_langdetect\n",
            "  Downloading spacy_langdetect-0.1.2-py3-none-any.whl (5.0 kB)\n",
            "Requirement already satisfied: pytest in /usr/local/lib/python3.7/dist-packages (from spacy_langdetect) (3.6.4)\n",
            "Collecting langdetect==1.0.7\n",
            "  Downloading langdetect-1.0.7.zip (998 kB)\n",
            "\u001b[K     |████████████████████████████████| 998 kB 5.3 MB/s \n",
            "\u001b[?25hRequirement already satisfied: six in /usr/local/lib/python3.7/dist-packages (from langdetect==1.0.7->spacy_langdetect) (1.15.0)\n",
            "Requirement already satisfied: pluggy<0.8,>=0.5 in /usr/local/lib/python3.7/dist-packages (from pytest->spacy_langdetect) (0.7.1)\n",
            "Requirement already satisfied: py>=1.5.0 in /usr/local/lib/python3.7/dist-packages (from pytest->spacy_langdetect) (1.11.0)\n",
            "Requirement already satisfied: setuptools in /usr/local/lib/python3.7/dist-packages (from pytest->spacy_langdetect) (57.4.0)\n",
            "Requirement already satisfied: more-itertools>=4.0.0 in /usr/local/lib/python3.7/dist-packages (from pytest->spacy_langdetect) (8.12.0)\n",
            "Requirement already satisfied: atomicwrites>=1.0 in /usr/local/lib/python3.7/dist-packages (from pytest->spacy_langdetect) (1.4.0)\n",
            "Requirement already satisfied: attrs>=17.4.0 in /usr/local/lib/python3.7/dist-packages (from pytest->spacy_langdetect) (21.4.0)\n",
            "Building wheels for collected packages: langdetect\n",
            "  Building wheel for langdetect (setup.py) ... \u001b[?25l\u001b[?25hdone\n",
            "  Created wheel for langdetect: filename=langdetect-1.0.7-py3-none-any.whl size=993431 sha256=46a17e53321d2941bd1b3e735bcd379bea2eb24ae97cbfc37b2ae63f3beca8a0\n",
            "  Stored in directory: /root/.cache/pip/wheels/89/79/3b/9885ae7f4308f73c514f96d8574d40d7d8173a27731b674013\n",
            "Successfully built langdetect\n",
            "Installing collected packages: langdetect, spacy-langdetect\n",
            "Successfully installed langdetect-1.0.7 spacy-langdetect-0.1.2\n"
          ]
        }
      ]
    },
    {
      "cell_type": "code",
      "source": [
        "import pandas as pd\n",
        "import feedparser\n",
        "from tqdm import tqdm\n",
        "import numpy as np\n",
        "import matplotlib.pyplot as plt\n",
        "from spacy_langdetect import LanguageDetector\n",
        "import spacy"
      ],
      "metadata": {
        "id": "flzG3ltG0o1E"
      },
      "execution_count": 202,
      "outputs": []
    },
    {
      "cell_type": "code",
      "source": [
        "feeds = pd.read_csv('/content/Crypto feeds.csv')\n",
        "urls = list(feeds.Feeds)\n",
        "feeds = [feedparser.parse(url)['entries'] for url in urls]"
      ],
      "metadata": {
        "id": "Q7jSxokZ9JMd"
      },
      "execution_count": 186,
      "outputs": []
    },
    {
      "cell_type": "markdown",
      "source": [
        "removing empty feeds"
      ],
      "metadata": {
        "id": "z_2ieysuH9fG"
      }
    },
    {
      "cell_type": "code",
      "source": [
        "non_zero_feeds = []\n",
        "for i in range(len(feeds)):\n",
        "  if len(feeds[i]) != 0:\n",
        "    non_zero_feeds.append(feeds[i])\n",
        "  else:\n",
        "    print(pd.read_csv('/content/Crypto feeds.csv').iloc[i].Feeds)"
      ],
      "metadata": {
        "colab": {
          "base_uri": "https://localhost:8080/"
        },
        "id": "DFsPaI0_BAPw",
        "outputId": "70dd2c98-e2a0-46fa-ab48-b0bb40c99ab7"
      },
      "execution_count": 187,
      "outputs": [
        {
          "output_type": "stream",
          "name": "stdout",
          "text": [
            "https://blog.bitpanda.com/feed\n",
            "https://coinatmradar.com/blog/feed/?x=1\n",
            "https://www.coin.space/feed/\n",
            "https://blog.coinspectator.com/feed/\n",
            "https://bitcoinwarrior.net/feed/\n",
            "https://belfrics.com/blog/feed/\n",
            "https://www.hegion.com/feed\n",
            "https://bitcoin-millionaire.com/feed/\n",
            "https://blog.flitpay.in/feed/\n",
            "https://paperblockchain.com/feed/\n",
            "http://bitcoinmxn.com/feed\n",
            "https://blog.spectrocoin.com/en/feed/\n",
            "https://oilblockchain.news/feed/\n",
            "https://coincurrencynews.com/feed/\n",
            "https://www.goldsilveranalyst.com/feed\n",
            "https://medium.com/feed/@satoshiknotabolo\n",
            "https://blog.zebpay.com/feed\n",
            "https://bitcoinspakistan.com/feed/\n",
            "https://blog.feedspot.com/feed/\n",
            "https://medium.com/feed/@nikita-monastyrskiy\n",
            "https://medium.com/feed/buyucoin-talks\n"
          ]
        }
      ]
    },
    {
      "cell_type": "markdown",
      "source": [
        "looking for feeds that do not have a date for each news item"
      ],
      "metadata": {
        "id": "lrxxPolOIDBh"
      }
    },
    {
      "cell_type": "code",
      "source": [
        "\n",
        "for i in range(len(non_zero_feeds)):\n",
        "  if ('published' not in non_zero_feeds[i][1].keys()) and ('pubDate' not in non_zero_feeds[i][1].keys()):\n",
        "    print(i)\n"
      ],
      "metadata": {
        "colab": {
          "base_uri": "https://localhost:8080/"
        },
        "id": "q8jCqgrF6VpT",
        "outputId": "8d0c7896-6dd9-4538-ae53-fbbfd8f30b81"
      },
      "execution_count": 188,
      "outputs": [
        {
          "output_type": "stream",
          "name": "stdout",
          "text": [
            "37\n"
          ]
        }
      ]
    },
    {
      "cell_type": "markdown",
      "source": [
        "remove that feed"
      ],
      "metadata": {
        "id": "12DDBwTw35bo"
      }
    },
    {
      "cell_type": "code",
      "source": [
        "needed_feeds = non_zero_feeds[:39] + non_zero_feeds[40:]"
      ],
      "metadata": {
        "id": "OSOemyBB0_jK"
      },
      "execution_count": 189,
      "outputs": []
    },
    {
      "cell_type": "code",
      "source": [
        "for i in range(len(needed_feeds)):\n",
        "  if ('summary_detail' not in needed_feeds[i][1].keys()):\n",
        "    print(i)"
      ],
      "metadata": {
        "colab": {
          "base_uri": "https://localhost:8080/"
        },
        "id": "EWIxS0Az5Amw",
        "outputId": "5926745e-097c-4386-e02e-b4f25030179c"
      },
      "execution_count": 190,
      "outputs": [
        {
          "output_type": "stream",
          "name": "stdout",
          "text": [
            "2\n",
            "6\n",
            "49\n",
            "63\n",
            "71\n",
            "72\n"
          ]
        }
      ]
    },
    {
      "cell_type": "markdown",
      "source": [
        "convert to dataframe"
      ],
      "metadata": {
        "id": "INkqoW3nj2Dg"
      }
    },
    {
      "cell_type": "code",
      "source": [
        "news = pd.DataFrame(columns = {'title':[], 'date_published':[], 'source': []})\n",
        "\n",
        "for k in needed_feeds:\n",
        "  for j in range(len(k)):\n",
        "    if (('summary_detail' in k[j].keys()) and ('title_detail' in k[j].keys())):\n",
        "      if ('published' in k[j].keys()):\n",
        "        unit = pd.DataFrame({'title': [k[j].title], 'date_published': [k[j].published], 'source': [k[j].summary_detail['base']]})\n",
        "      elif ('pubDate' in k[j].keys()):\n",
        "        unit = pd.DataFrame({'title': [k[j].title], 'date_published': [k[j].pubDate], 'source': [k[j].summary_detail['base']]})\n",
        "      news = pd.concat([news, unit], axis = 0)\n",
        "    if (('summary_detail' not in k[j].keys()) and ('title_detail' in k[j].keys())):\n",
        "      if ('published' in k[j].keys()):\n",
        "        unit = pd.DataFrame({'title': [k[j].title], 'date_published': [k[j].published], 'source': [k[j].title_detail['base']]})\n",
        "      elif ('pubDate' in k[j].keys()):\n",
        "        unit = pd.DataFrame({'title': [k[j].title], 'date_published': [k[j].pubDate], 'source': [k[j].title_detail['base']]})\n",
        "      news = pd.concat([news, unit], axis = 0)"
      ],
      "metadata": {
        "id": "JAYAjj8lbVqe"
      },
      "execution_count": 223,
      "outputs": []
    },
    {
      "cell_type": "markdown",
      "source": [
        "Drop duplicate news"
      ],
      "metadata": {
        "id": "404TiwZt884L"
      }
    },
    {
      "cell_type": "code",
      "source": [
        "news = news.drop_duplicates(subset = ['title', 'source'])"
      ],
      "metadata": {
        "id": "p99QmUOg8s61"
      },
      "execution_count": 224,
      "outputs": []
    },
    {
      "cell_type": "markdown",
      "source": [
        "detect language of title, remove non-english text"
      ],
      "metadata": {
        "id": "U-rZHDtaHNSr"
      }
    },
    {
      "cell_type": "code",
      "source": [
        "news['language'] = list(map(lambda row: nlp(row)._.language['language'], news['title']))"
      ],
      "metadata": {
        "id": "TpYiCYVdHR54"
      },
      "execution_count": 225,
      "outputs": []
    },
    {
      "cell_type": "code",
      "source": [
        "news.language.value_counts()"
      ],
      "metadata": {
        "colab": {
          "base_uri": "https://localhost:8080/"
        },
        "id": "ejXnCVgDHTZl",
        "outputId": "8143a0a1-45b5-48fd-ba73-f774ecdac0d2"
      },
      "execution_count": 226,
      "outputs": [
        {
          "output_type": "execute_result",
          "data": {
            "text/plain": [
              "en         2999\n",
              "no           30\n",
              "da           25\n",
              "de           22\n",
              "nl           16\n",
              "tl           10\n",
              "fr            8\n",
              "it            6\n",
              "ca            6\n",
              "sv            5\n",
              "id            5\n",
              "af            4\n",
              "ro            3\n",
              "pt            3\n",
              "es            3\n",
              "et            2\n",
              "tr            2\n",
              "so            1\n",
              "sw            1\n",
              "UNKNOWN       1\n",
              "Name: language, dtype: int64"
            ]
          },
          "metadata": {},
          "execution_count": 226
        }
      ]
    },
    {
      "cell_type": "code",
      "source": [
        "news = news[news.language == 'en']"
      ],
      "metadata": {
        "id": "yhFGf2GKH2fe"
      },
      "execution_count": 227,
      "outputs": []
    },
    {
      "cell_type": "code",
      "source": [
        "news['date'] = pd.to_datetime(news['date_published'], utc = True)\n",
        "news['date'] = news['date'].dt.date\n",
        "dates = pd.DataFrame(news.date.value_counts().reset_index()).sort_values('index')"
      ],
      "metadata": {
        "colab": {
          "base_uri": "https://localhost:8080/"
        },
        "id": "nVSUgOhmwOnJ",
        "outputId": "b451a506-5e15-4a47-d817-61d6e5ba18a6"
      },
      "execution_count": 228,
      "outputs": [
        {
          "output_type": "stream",
          "name": "stderr",
          "text": [
            "/usr/local/lib/python3.7/dist-packages/dateutil/parser/_parser.py:1212: UnknownTimezoneWarning: tzname EST identified but not understood.  Pass `tzinfos` argument in order to correctly return a timezone-aware datetime.  In a future version, this will raise an exception.\n",
            "  category=UnknownTimezoneWarning)\n",
            "/usr/local/lib/python3.7/dist-packages/dateutil/parser/_parser.py:1212: UnknownTimezoneWarning: tzname EDT identified but not understood.  Pass `tzinfos` argument in order to correctly return a timezone-aware datetime.  In a future version, this will raise an exception.\n",
            "  category=UnknownTimezoneWarning)\n"
          ]
        }
      ]
    },
    {
      "cell_type": "code",
      "source": [
        "plt.plot(dates['index'], dates.date, linestyle = 'solid')"
      ],
      "metadata": {
        "colab": {
          "base_uri": "https://localhost:8080/",
          "height": 282
        },
        "id": "UOXtL1KmrjDo",
        "outputId": "67a72c85-2b71-457e-80f0-e5c73f594f5b"
      },
      "execution_count": 229,
      "outputs": [
        {
          "output_type": "execute_result",
          "data": {
            "text/plain": [
              "[<matplotlib.lines.Line2D at 0x7ff0956aa950>]"
            ]
          },
          "metadata": {},
          "execution_count": 229
        },
        {
          "output_type": "display_data",
          "data": {
            "text/plain": [
              "<Figure size 432x288 with 1 Axes>"
            ],
            "image/png": "[encoded data removed]"
          },
          "metadata": {
            "needs_background": "light"
          }
        }
      ]
    },
    {
      "cell_type": "markdown",
      "source": [
        "There is a certain amount of old news, they need to be removed"
      ],
      "metadata": {
        "id": "q-6HhRne1UWH"
      }
    },
    {
      "cell_type": "code",
      "source": [
        "news = news[news.date > (pd.to_datetime(\"today\") - np.timedelta64(1, 'M'))]\n",
        "len(news)"
      ],
      "metadata": {
        "colab": {
          "base_uri": "https://localhost:8080/"
        },
        "id": "5VvauLmQ0bZF",
        "outputId": "8c02ab14-46ac-497d-dced-740f0eeb895f"
      },
      "execution_count": 230,
      "outputs": [
        {
          "output_type": "stream",
          "name": "stderr",
          "text": [
            "/usr/local/lib/python3.7/dist-packages/pandas/core/ops/array_ops.py:73: FutureWarning: Comparison of Timestamp with datetime.date is deprecated in order to match the standard library behavior.  In a future version these will be considered non-comparable.Use 'ts == pd.Timestamp(date)' or 'ts.date() == date' instead.\n",
            "  result = libops.scalar_compare(x.ravel(), y, op)\n"
          ]
        },
        {
          "output_type": "execute_result",
          "data": {
            "text/plain": [
              "1236"
            ]
          },
          "metadata": {},
          "execution_count": 230
        }
      ]
    },
    {
      "cell_type": "code",
      "source": [
        "dates = pd.DataFrame(news.date.value_counts().reset_index()).sort_values('index')\n",
        "plt.plot(dates['index'], dates.date, linestyle = 'solid')"
      ],
      "metadata": {
        "colab": {
          "base_uri": "https://localhost:8080/",
          "height": 282
        },
        "id": "rubILtNF2M6e",
        "outputId": "bcf15105-9287-456f-df6b-081cc313ce07"
      },
      "execution_count": 231,
      "outputs": [
        {
          "output_type": "execute_result",
          "data": {
            "text/plain": [
              "[<matplotlib.lines.Line2D at 0x7ff0970dbcd0>]"
            ]
          },
          "metadata": {},
          "execution_count": 231
        },
        {
          "output_type": "display_data",
          "data": {
            "text/plain": [
              "<Figure size 432x288 with 1 Axes>"
            ],
            "image/png": "[encoded data removed]"
          },
          "metadata": {
            "needs_background": "light"
          }
        }
      ]
    },
    {
      "cell_type": "code",
      "source": [
        "last_news = news[news.date > (pd.to_datetime(\"today\") - np.timedelta64(2, 'D'))]\n",
        "len(last_news)"
      ],
      "metadata": {
        "colab": {
          "base_uri": "https://localhost:8080/"
        },
        "id": "P3FV_Z291o6k",
        "outputId": "cf904fad-4cb7-450e-eb00-382d8eaad6be"
      },
      "execution_count": 232,
      "outputs": [
        {
          "output_type": "stream",
          "name": "stderr",
          "text": [
            "/usr/local/lib/python3.7/dist-packages/pandas/core/ops/array_ops.py:73: FutureWarning: Comparison of Timestamp with datetime.date is deprecated in order to match the standard library behavior.  In a future version these will be considered non-comparable.Use 'ts == pd.Timestamp(date)' or 'ts.date() == date' instead.\n",
            "  result = libops.scalar_compare(x.ravel(), y, op)\n"
          ]
        },
        {
          "output_type": "execute_result",
          "data": {
            "text/plain": [
              "212"
            ]
          },
          "metadata": {},
          "execution_count": 232
        }
      ]
    },
    {
      "cell_type": "code",
      "source": [
        "last_news.source.value_counts()"
      ],
      "metadata": {
        "colab": {
          "base_uri": "https://localhost:8080/"
        },
        "id": "orz19m2E8QMo",
        "outputId": "cd4de2a2-ece2-4c86-812c-5bb1d0ea5d3d"
      },
      "execution_count": 233,
      "outputs": [
        {
          "output_type": "execute_result",
          "data": {
            "text/plain": [
              "https://cointelegraph.com/feed                                           17\n",
              "https://u.today/                                                         11\n",
              "https://www.dcforecasts.com/feed/                                        10\n",
              "https://news.bitcoin.com/feed/                                           10\n",
              "https://investing-api-eng.ambcrypto.com/feed/merge_category              10\n",
              "https://www.coinspeaker.com/feed/                                        10\n",
              "http://www.bitcoin-rss.com/rss/latest-posts                              10\n",
              "https://www.helenabitcoinmining.com/feed/                                10\n",
              "https://coinpedia.org/feed/                                              10\n",
              "https://blog.buyucoin.com/feed/                                          10\n",
              "https://cryptoslate.com/feed/                                            10\n",
              "https://insidebitcoins.com/feed                                          10\n",
              "https://cryptopotato.com/feed                                             9\n",
              "https://bitcoinist.com/feed/                                              8\n",
              "http://bitcoinist.com/feed/                                               8\n",
              "https://www.livebitcoinnews.com/feed/                                     7\n",
              "https://www.newsbtc.com/feed/                                             7\n",
              "https://decrypt.co/feed                                                   7\n",
              "https://tokenhell.com/feed/                                               5\n",
              "https://zycrypto.com/feed/                                                4\n",
              "https://www.cryptonewsz.com/feed/                                         4\n",
              "https://www.financemagnates.com/cryptocurrency/feed/                      3\n",
              "https://coincheckup.com/blog/feed/                                        3\n",
              "https://coinjournal.net/feed/                                             3\n",
              "https://www.tronweekly.com/feed/                                          3\n",
              "https://www.cryptocurrencynewscast.online/feeds/posts/default?alt=rss     2\n",
              "https://bitcoinmagazine.com/.rss/full/                                    2\n",
              "https://coinquora.com/news/feed/                                          2\n",
              "https://www.crypto-news-flash.com/feed/                                   2\n",
              "https://www.cryptocynews.com/feed/                                        1\n",
              "http://feeds.feedburner.com/nigeriabitcoincommunity                       1\n",
              "https://cryptobriefing.com/feed/                                          1\n",
              "https://99bitcoins.com/feed/                                              1\n",
              "https://thebitcoinnews.com/feed/                                          1\n",
              "Name: source, dtype: int64"
            ]
          },
          "metadata": {},
          "execution_count": 233
        }
      ]
    },
    {
      "cell_type": "code",
      "source": [
        ""
      ],
      "metadata": {
        "id": "AGfwF4aVHg_V"
      },
      "execution_count": 238,
      "outputs": []
    }
  ]
}