{
 "cells": [
  {
   "cell_type": "markdown",
   "id": "2825af15",
   "metadata": {},
   "source": [
    "#### Author\n",
    "Victor Aleksandrin\n",
    "\n",
    "#### Reference\n",
    "[Notion ticket](https://www.notion.so/a74951e4e815480584dea7d61ddce6cc?v=dbfdb1207d0e451b827d3c5041ed0cfd&p=7fd764a4d88643feb275ff4ab37911c6)\n",
    "\n",
    "#### Idea\n",
    "Test different active learning approaches. \n",
    "\n",
    "#### Data\n",
    "4500 cryptonews titles labeled as positive, neutral or negative – zipped pwd-protected [CSV](https://drive.google.com/file/d/1Apr3YPZVf0kOJ5Pc1RYDoQxTdjJPbnt4/view?usp=sharing) (not to be shared outside of the project!)\n",
    "\n",
    "#### Result\n",
    "Least confidence, variation ratio and BALD querying strategies perform better than random sampling baseline. Entropy and margin show comparable results. "
   ]
  },
  {
   "cell_type": "code",
   "execution_count": 1,
   "id": "94260c92",
   "metadata": {},
   "outputs": [],
   "source": [
    "import pandas as pd\n",
    "import numpy as np\n",
    "from copy import deepcopy\n",
    "import matplotlib.pyplot as plt\n",
    "import yaml\n",
    "\n",
    "from sklearn.preprocessing import LabelEncoder\n",
    "from typing import Dict, Any, Tuple, List, Union, Callable\n",
    "\n",
    "from active_learning_utils.dataset import split_train_val\n",
    "from active_learning_utils.pipeline import SentimentPipeline\n",
    "from active_learning_utils.active_learning import (\n",
    "    RandomSampling, LeastConfidenceSampling, EntropySampling, \n",
    "    MarginSampling, VariationRatioSampling, BALDSampling, ActiveLearning\n",
    ")\n",
    "\n",
    "import torch\n",
    "from random import randint\n",
    "\n",
    "import seaborn as sns\n",
    "\n",
    "import warnings\n",
    "warnings.filterwarnings('ignore')\n",
    "\n",
    "import logging\n",
    "logging.disable(logging.INFO)\n",
    "logging.disable(logging.WARNING)"
   ]
  },
  {
   "cell_type": "markdown",
   "id": "a889ce6c",
   "metadata": {},
   "source": [
    "### Read data"
   ]
  },
  {
   "cell_type": "code",
   "execution_count": 2,
   "id": "e169a112",
   "metadata": {},
   "outputs": [],
   "source": [
    "DATA_PATH = '../data/20190110_train_4500.csv'"
   ]
  },
  {
   "cell_type": "code",
   "execution_count": 3,
   "id": "81505c3f",
   "metadata": {},
   "outputs": [],
   "source": [
    "dataset = pd.read_csv(DATA_PATH)"
   ]
  },
  {
   "cell_type": "code",
   "execution_count": 4,
   "id": "fe15d7da",
   "metadata": {},
   "outputs": [
    {
     "data": {
      "text/html": [
       "<div>\n",
       "<style scoped>\n",
       "    .dataframe tbody tr th:only-of-type {\n",
       "        vertical-align: middle;\n",
       "    }\n",
       "\n",
       "    .dataframe tbody tr th {\n",
       "        vertical-align: top;\n",
       "    }\n",
       "\n",
       "    .dataframe thead th {\n",
       "        text-align: right;\n",
       "    }\n",
       "</style>\n",
       "<table border=\"1\" class=\"dataframe\">\n",
       "  <thead>\n",
       "    <tr style=\"text-align: right;\">\n",
       "      <th></th>\n",
       "      <th>title</th>\n",
       "      <th>sentiment</th>\n",
       "    </tr>\n",
       "  </thead>\n",
       "  <tbody>\n",
       "    <tr>\n",
       "      <th>0</th>\n",
       "      <td>Bitcoin Market Has Run Out of Juice: Cryptocur...</td>\n",
       "      <td>Negative</td>\n",
       "    </tr>\n",
       "    <tr>\n",
       "      <th>1</th>\n",
       "      <td>Bitcoin Core 0.14.0 Speeds Up Blockchain Synci...</td>\n",
       "      <td>Positive</td>\n",
       "    </tr>\n",
       "    <tr>\n",
       "      <th>2</th>\n",
       "      <td>Thinking of Travelling With Bitcoin? With Thes...</td>\n",
       "      <td>Positive</td>\n",
       "    </tr>\n",
       "    <tr>\n",
       "      <th>3</th>\n",
       "      <td>Investors Carried Out Mental Gymnastics to Jus...</td>\n",
       "      <td>Negative</td>\n",
       "    </tr>\n",
       "    <tr>\n",
       "      <th>4</th>\n",
       "      <td>Bitcoin Price Holds Above $8,500 as Market Fig...</td>\n",
       "      <td>Positive</td>\n",
       "    </tr>\n",
       "  </tbody>\n",
       "</table>\n",
       "</div>"
      ],
      "text/plain": [
       "                                               title sentiment\n",
       "0  Bitcoin Market Has Run Out of Juice: Cryptocur...  Negative\n",
       "1  Bitcoin Core 0.14.0 Speeds Up Blockchain Synci...  Positive\n",
       "2  Thinking of Travelling With Bitcoin? With Thes...  Positive\n",
       "3  Investors Carried Out Mental Gymnastics to Jus...  Negative\n",
       "4  Bitcoin Price Holds Above $8,500 as Market Fig...  Positive"
      ]
     },
     "execution_count": 4,
     "metadata": {},
     "output_type": "execute_result"
    }
   ],
   "source": [
    "dataset.head()"
   ]
  },
  {
   "cell_type": "code",
   "execution_count": 5,
   "id": "7427f6f4",
   "metadata": {},
   "outputs": [],
   "source": [
    "le = LabelEncoder()\n",
    "\n",
    "dataset[\"label\"] = le.fit_transform(dataset[\"sentiment\"])"
   ]
  },
  {
   "cell_type": "markdown",
   "id": "bdf1a630",
   "metadata": {},
   "source": [
    "### Config"
   ]
  },
  {
   "cell_type": "code",
   "execution_count": 6,
   "id": "11dbd8e1",
   "metadata": {},
   "outputs": [],
   "source": [
    "cfg_str = \"\"\"\n",
    "epochs: 3\n",
    "train_batch_size: 32\n",
    "val_batch_size: 64\n",
    "seed: 42\n",
    "\n",
    "model_name: &model_name distilbert-base-uncased\n",
    "\n",
    "tokenizer:\n",
    "    class: transformers.DistilBertTokenizerFast\n",
    "    params:\n",
    "        pretrained_model_name_or_path: *model_name\n",
    "        model_max_length: 50\n",
    "\n",
    "model:\n",
    "    class: transformers.DistilBertForSequenceClassification\n",
    "    params:\n",
    "        pretrained_model_name_or_path: *model_name\n",
    "        dropout: 0.2\n",
    "        attention_dropout: 0.2\n",
    "        num_labels: 3\n",
    "\n",
    "optimizer:\n",
    "    class: transformers.AdamW\n",
    "    params:\n",
    "        lr: 0.00005\n",
    "        weight_decay: 0.001\n",
    "\n",
    "scheduler:\n",
    "    params:\n",
    "        name: linear\n",
    "        num_warmup_steps: 500\n",
    "\"\"\""
   ]
  },
  {
   "cell_type": "code",
   "execution_count": 7,
   "id": "66d2e9ea",
   "metadata": {},
   "outputs": [],
   "source": [
    "cfg = yaml.safe_load(cfg_str)"
   ]
  },
  {
   "cell_type": "markdown",
   "id": "c469c365",
   "metadata": {},
   "source": [
    "### Task description\n",
    "\n",
    "Our goal is to find the most optimal way to collect unlabelled samples to retrain/finetune our model.\n",
    "\n",
    "\n",
    "#### Model uncertainty estimation\n",
    "Using deep neural networks for active learning is hard because they produce over confident output. Also neural networks used for classification are descriminative models and produce only so-called point estimate. Their output is not real probability distribution. One of the possible solutions is to apply Monte Carlo Dropout (MCDO). The idea is to add dropout to the model, perform several forward passes and produce multiple outputs for the same input. As we use pretrained model we simply switch dropout layers into training mode during evaluation to obtain MCDO setting.\n",
    "\n",
    "\n",
    "#### Approaches\n",
    "- [Random Sampling (baseline)](#Random-Sampling)\n",
    "- [Least confidence sampling](#Least-confidence-sampling)\n",
    "- [Predictive Entropy](#Entropy-sampling)\n",
    "- [Margin Sampling](#Margin-Sampling)\n",
    "- [Variation Ratio](#Variation-Ratio)\n",
    "- [Bayesian Active Learning by Disagreement (BALD)](#BALD)\n",
    "\n",
    "[**Models comparison**](#Comparison)\n",
    "\n",
    "#### Evaluation\n",
    "\n",
    "\n",
    "1. Split dataset on init and pool (80%) and validation part(20%). Then init and pool split on init (20%) and pool (80%).  \n",
    "2. Use init part to train model and report validation accuracy\n",
    "3. Employ trained model to predict probabilities for pool data samples.\n",
    "4. Select 10% of new samples from the pool data to be added to the train dataset. Selection based on choosen active learning strategy\n",
    "5. Repeat from step 2. Stopping criterion is defined by choosen active learning strategy. By default we continue until pool part is empty\n",
    "\n",
    "\n",
    "**Evaluation metrics**: Accuracy and Area Under learning Curve (AUC)\n",
    "\n",
    "#### References\n",
    "- [Active learning for reducing labeling effort in text classification tasks](https://arxiv.org/abs/2109.04847#:~:text=Active%20learning%20(AL)%20is%20a,Language%20Processing%20(NLP)%2)\n",
    "- [Overview of Active Learning for Deep Learning](https://jacobgil.github.io/deeplearning/activelearning#learning-loss-for-active-learning)\n",
    "- [Deep Bayesian Active Learning with Image Data](https://arxiv.org/abs/1703.02910)"
   ]
  },
  {
   "cell_type": "markdown",
   "id": "8f6a3b66",
   "metadata": {},
   "source": [
    "### Split dataset"
   ]
  },
  {
   "cell_type": "code",
   "execution_count": 8,
   "id": "31d0ca4a",
   "metadata": {},
   "outputs": [],
   "source": [
    "# test_data = unlabelled part\n",
    "init_pool_data, val_data, _, _ = split_train_val(dataset, test_size=0.2)"
   ]
  },
  {
   "cell_type": "code",
   "execution_count": 9,
   "id": "87382355",
   "metadata": {},
   "outputs": [],
   "source": [
    "init_data, pool_data, _, _ = split_train_val(init_pool_data, test_size=0.8)"
   ]
  },
  {
   "cell_type": "code",
   "execution_count": 10,
   "id": "2d776631",
   "metadata": {},
   "outputs": [
    {
     "data": {
      "text/plain": [
       "728"
      ]
     },
     "execution_count": 10,
     "metadata": {},
     "output_type": "execute_result"
    }
   ],
   "source": [
    "len(init_data)"
   ]
  },
  {
   "cell_type": "code",
   "execution_count": 11,
   "id": "6f613ab1",
   "metadata": {},
   "outputs": [
    {
     "data": {
      "text/plain": [
       "2915"
      ]
     },
     "execution_count": 11,
     "metadata": {},
     "output_type": "execute_result"
    }
   ],
   "source": [
    "len(pool_data)"
   ]
  },
  {
   "cell_type": "code",
   "execution_count": 12,
   "id": "a5308633",
   "metadata": {},
   "outputs": [
    {
     "data": {
      "text/plain": [
       "911"
      ]
     },
     "execution_count": 12,
     "metadata": {},
     "output_type": "execute_result"
    }
   ],
   "source": [
    "len(val_data)"
   ]
  },
  {
   "cell_type": "markdown",
   "id": "c7c95f5d",
   "metadata": {},
   "source": [
    "#### Helpers"
   ]
  },
  {
   "cell_type": "code",
   "execution_count": 13,
   "id": "50dee244",
   "metadata": {},
   "outputs": [],
   "source": [
    "def plot(\n",
    "    x: np.ndarray, \n",
    "    scores: Union[List[np.ndarray], np.ndarray], \n",
    "    model_name: Union[str, List[str]], \n",
    "    title: str = \"\", \n",
    "    color: Union[str, List[str]] = \"xkcd:sky blue\"\n",
    "):\n",
    "    fig, ax = plt.subplots(figsize=(10, 6))\n",
    "    \n",
    "    if isinstance(scores, list):\n",
    "        for i in range(len(scores)):\n",
    "            ax.errorbar(\n",
    "                x, \n",
    "                scores[i].mean(axis=0), \n",
    "                yerr=scores[i].std(axis=0), \n",
    "                fmt=\"o\", \n",
    "                ls=\"-\", \n",
    "                capsize=3, \n",
    "                label=model_name[i],\n",
    "                color=color[i]\n",
    "            )  \n",
    "    else:\n",
    "        ax.errorbar(\n",
    "            x, \n",
    "            scores.mean(axis=0), \n",
    "            yerr=scores.std(axis=0), \n",
    "            fmt=\"o\", \n",
    "            ls=\"-\", \n",
    "            capsize=3, \n",
    "            label=model_name,\n",
    "            color=color\n",
    "        )\n",
    "    \n",
    "    ax.set_xlabel(\"Train size\")\n",
    "    ax.set_ylabel(\"Validation accuracy\")\n",
    "    ax.legend()\n",
    "    ax.set_title(title)"
   ]
  },
  {
   "cell_type": "code",
   "execution_count": 14,
   "id": "961c9a29",
   "metadata": {},
   "outputs": [],
   "source": [
    "def run_exp(\n",
    "    model_cls,\n",
    "    model_kwargs: Dict[str, Any],\n",
    "    init_data: pd.DataFrame, \n",
    "    val_data: pd.DataFrame, \n",
    "    pool_data: pd.DataFrame,\n",
    "    repeat_num: int = 1\n",
    ") -> Tuple[np.ndarray, np.ndarray, np.ndarray]:\n",
    "    \n",
    "    scores: List[List[float]] = []\n",
    "    aucs: List[float] = []\n",
    "        \n",
    "    for _ in range(repeat_num):\n",
    "        model_kwargs[\"cfg\"][\"seed\"] = randint(0, 100)\n",
    "        model = model_cls(**model_kwargs)\n",
    "        \n",
    "        train_sizes, val_scores = model.train(init_data, val_data, pool_data)\n",
    "        \n",
    "        scores.append(val_scores)\n",
    "        \n",
    "        auc = np.trapz(\n",
    "            val_scores,\n",
    "            train_sizes / np.max(train_sizes)\n",
    "        )\n",
    "        \n",
    "        aucs.append(auc)\n",
    "    \n",
    "    return np.array(train_sizes), np.array(scores), np.array(aucs), model"
   ]
  },
  {
   "cell_type": "markdown",
   "id": "863a8b7a",
   "metadata": {},
   "source": [
    "### Experiments setup"
   ]
  },
  {
   "cell_type": "code",
   "execution_count": 15,
   "id": "d571f189",
   "metadata": {},
   "outputs": [],
   "source": [
    "NUM_RUNS_PER_EXP = 3\n",
    "SELECT_TOP_PERCENT = 0.1\n",
    "NUM_STOCHASTIC_FORWARD_PASSES = 10"
   ]
  },
  {
   "cell_type": "markdown",
   "id": "cd7316ee",
   "metadata": {},
   "source": [
    "### Random Sampling\n",
    "\n",
    "Idea: Sample random 10% examples from pool set on every step"
   ]
  },
  {
   "cell_type": "code",
   "execution_count": 16,
   "id": "8e9364a1",
   "metadata": {},
   "outputs": [
    {
     "name": "stdout",
     "output_type": "stream",
     "text": [
      "CPU times: user 10min 51s, sys: 48.1 s, total: 11min 39s\n",
      "Wall time: 18min 3s\n"
     ]
    }
   ],
   "source": [
    "%%time\n",
    "%%capture\n",
    "rs_train_sizes, rs_scores, rs_aucs, rs = run_exp(\n",
    "    RandomSampling, \n",
    "    {\"cfg\": cfg, \"select_top_percent\": SELECT_TOP_PERCENT}, \n",
    "    init_data, \n",
    "    val_data,\n",
    "    pool_data, \n",
    "    NUM_RUNS_PER_EXP\n",
    ")"
   ]
  },
  {
   "cell_type": "code",
   "execution_count": 17,
   "id": "0cd113db",
   "metadata": {},
   "outputs": [
    {
     "data": {
      "text/plain": [
       "array([0.56804486, 0.57344479, 0.58424462])"
      ]
     },
     "execution_count": 17,
     "metadata": {},
     "output_type": "execute_result"
    }
   ],
   "source": [
    "rs_aucs"
   ]
  },
  {
   "cell_type": "code",
   "execution_count": 18,
   "id": "365691dd",
   "metadata": {},
   "outputs": [
    {
     "data": {
      "image/png": "[encoded data removed]",
      "text/plain": [
       "<Figure size 720x432 with 1 Axes>"
      ]
     },
     "metadata": {
      "needs_background": "light"
     },
     "output_type": "display_data"
    }
   ],
   "source": [
    "plot(\n",
    "    rs_train_sizes, \n",
    "    rs_scores, \n",
    "    model_name=\"Random Sampling\", \n",
    "    color=\"xkcd:salmon\", \n",
    "    title=\"Random Sampling\"\n",
    ")"
   ]
  },
  {
   "cell_type": "markdown",
   "id": "4cf9b54f",
   "metadata": {},
   "source": [
    "### Least confidence sampling\n",
    "\n",
    "Idea: sample top 10% least confident examples on every step"
   ]
  },
  {
   "cell_type": "code",
   "execution_count": 19,
   "id": "c7ab408c",
   "metadata": {},
   "outputs": [
    {
     "name": "stdout",
     "output_type": "stream",
     "text": [
      "CPU times: user 15min 58s, sys: 47.1 s, total: 16min 45s\n",
      "Wall time: 25min 22s\n"
     ]
    }
   ],
   "source": [
    "%%time\n",
    "%%capture\n",
    "lc_train_sizes, lc_scores, lc_aucs, lc = run_exp(\n",
    "    LeastConfidenceSampling, \n",
    "    {\n",
    "        \"cfg\": cfg, \n",
    "        \"select_top_percent\": SELECT_TOP_PERCENT, \n",
    "        \"num_stochastic_forward_passes\": NUM_STOCHASTIC_FORWARD_PASSES\n",
    "    }, \n",
    "    init_data, \n",
    "    val_data,\n",
    "    pool_data, \n",
    "    NUM_RUNS_PER_EXP\n",
    ")"
   ]
  },
  {
   "cell_type": "code",
   "execution_count": 20,
   "id": "29371489",
   "metadata": {},
   "outputs": [
    {
     "data": {
      "text/plain": [
       "array([0.58082027, 0.58753724, 0.5838056 ])"
      ]
     },
     "execution_count": 20,
     "metadata": {},
     "output_type": "execute_result"
    }
   ],
   "source": [
    "lc_aucs"
   ]
  },
  {
   "cell_type": "code",
   "execution_count": 21,
   "id": "f245cf17",
   "metadata": {},
   "outputs": [
    {
     "data": {
      "image/png": "[encoded data removed]",
      "text/plain": [
       "<Figure size 720x432 with 1 Axes>"
      ]
     },
     "metadata": {
      "needs_background": "light"
     },
     "output_type": "display_data"
    }
   ],
   "source": [
    "plot(\n",
    "    lc_train_sizes, \n",
    "    lc_scores, \n",
    "    model_name=\"Least confidence\", \n",
    "    color=\"xkcd:orange\", \n",
    "    title=\"Least confidence\"\n",
    ")"
   ]
  },
  {
   "cell_type": "markdown",
   "id": "bcac6201",
   "metadata": {},
   "source": [
    "### Entropy sampling\n",
    "\n",
    "Idea: sample 10% examples with most entropy from the pool set on every step"
   ]
  },
  {
   "cell_type": "code",
   "execution_count": 22,
   "id": "ad29653d",
   "metadata": {},
   "outputs": [
    {
     "name": "stdout",
     "output_type": "stream",
     "text": [
      "CPU times: user 15min 53s, sys: 46.4 s, total: 16min 40s\n",
      "Wall time: 25min 45s\n"
     ]
    }
   ],
   "source": [
    "%%time\n",
    "%%capture\n",
    "es_train_sizes, es_scores, es_aucs, es = run_exp(\n",
    "    EntropySampling, \n",
    "    {\n",
    "        \"cfg\": cfg, \n",
    "        \"select_top_percent\": SELECT_TOP_PERCENT, \n",
    "        \"num_stochastic_forward_passes\": NUM_STOCHASTIC_FORWARD_PASSES\n",
    "    }, \n",
    "    init_data, \n",
    "    val_data,\n",
    "    pool_data, \n",
    "    NUM_RUNS_PER_EXP\n",
    ")"
   ]
  },
  {
   "cell_type": "code",
   "execution_count": 23,
   "id": "3f8d7658",
   "metadata": {},
   "outputs": [
    {
     "data": {
      "text/plain": [
       "array([0.5815227 , 0.57520085, 0.57050336])"
      ]
     },
     "execution_count": 23,
     "metadata": {},
     "output_type": "execute_result"
    }
   ],
   "source": [
    "es_aucs"
   ]
  },
  {
   "cell_type": "code",
   "execution_count": 24,
   "id": "a6636921",
   "metadata": {},
   "outputs": [
    {
     "data": {
      "image/png": "[encoded data removed]",
      "text/plain": [
       "<Figure size 720x432 with 1 Axes>"
      ]
     },
     "metadata": {
      "needs_background": "light"
     },
     "output_type": "display_data"
    }
   ],
   "source": [
    "plot(\n",
    "    es_train_sizes, \n",
    "    es_scores, \n",
    "    model_name=\"Entropy sampling\", \n",
    "    color=\"xkcd:violet\", \n",
    "    title=\"Entropy sampling\"\n",
    ")"
   ]
  },
  {
   "cell_type": "markdown",
   "id": "4683e9ae",
   "metadata": {},
   "source": [
    "### Margin Sampling\n",
    "\n",
    "Idea: sample 10% examples with least difference between the highest probability and the second highest probability"
   ]
  },
  {
   "cell_type": "code",
   "execution_count": 25,
   "id": "5ed737be",
   "metadata": {},
   "outputs": [
    {
     "name": "stdout",
     "output_type": "stream",
     "text": [
      "CPU times: user 16min 14s, sys: 46.5 s, total: 17min\n",
      "Wall time: 25min 57s\n"
     ]
    }
   ],
   "source": [
    "%%time\n",
    "%%capture\n",
    "ms_train_sizes, ms_scores, ms_aucs, ms = run_exp(\n",
    "    MarginSampling, \n",
    "    {\n",
    "        \"cfg\": cfg, \n",
    "        \"select_top_percent\": SELECT_TOP_PERCENT, \n",
    "        \"num_stochastic_forward_passes\": NUM_STOCHASTIC_FORWARD_PASSES\n",
    "    }, \n",
    "    init_data, \n",
    "    val_data,\n",
    "    pool_data, \n",
    "    NUM_RUNS_PER_EXP\n",
    ")"
   ]
  },
  {
   "cell_type": "code",
   "execution_count": 26,
   "id": "c519055c",
   "metadata": {},
   "outputs": [
    {
     "data": {
      "text/plain": [
       "array([0.5815227 , 0.56282055, 0.58143489])"
      ]
     },
     "execution_count": 26,
     "metadata": {},
     "output_type": "execute_result"
    }
   ],
   "source": [
    "ms_aucs"
   ]
  },
  {
   "cell_type": "code",
   "execution_count": 27,
   "id": "bf9e810c",
   "metadata": {},
   "outputs": [
    {
     "data": {
      "image/png": "[encoded data removed]",
      "text/plain": [
       "<Figure size 720x432 with 1 Axes>"
      ]
     },
     "metadata": {
      "needs_background": "light"
     },
     "output_type": "display_data"
    }
   ],
   "source": [
    "plot(\n",
    "    ms_train_sizes, \n",
    "    ms_scores, \n",
    "    model_name=\"Margin sampling\", \n",
    "    color=\"xkcd:teal\", \n",
    "    title=\"Margin sampling\"\n",
    ")"
   ]
  },
  {
   "cell_type": "markdown",
   "id": "03cca5a1",
   "metadata": {},
   "source": [
    "### Variation Ratio\n",
    "\n",
    "Idea: Variation Ratio is measure of dispersion around class: $1 - \\frac{f_x}{T}$\n",
    "\n",
    "- $f_x$ - most often predicted class count\n",
    "- $T$ - number of stochastic forward passes"
   ]
  },
  {
   "cell_type": "code",
   "execution_count": 28,
   "id": "f4107ca9",
   "metadata": {
    "scrolled": false
   },
   "outputs": [
    {
     "name": "stdout",
     "output_type": "stream",
     "text": [
      "CPU times: user 16min 23s, sys: 50.7 s, total: 17min 14s\n",
      "Wall time: 26min\n"
     ]
    }
   ],
   "source": [
    "%%time\n",
    "%%capture\n",
    "vr_train_sizes, vr_scores, vr_aucs, vr = run_exp(\n",
    "    VariationRatioSampling, \n",
    "    {\n",
    "        \"cfg\": cfg, \n",
    "        \"select_top_percent\": SELECT_TOP_PERCENT, \n",
    "        \"num_stochastic_forward_passes\": NUM_STOCHASTIC_FORWARD_PASSES\n",
    "    }, \n",
    "    init_data, \n",
    "    val_data,\n",
    "    pool_data, \n",
    "    NUM_RUNS_PER_EXP\n",
    ")"
   ]
  },
  {
   "cell_type": "code",
   "execution_count": 29,
   "id": "f2d928da",
   "metadata": {},
   "outputs": [
    {
     "data": {
      "text/plain": [
       "array([0.58380559, 0.58472753, 0.58038125])"
      ]
     },
     "execution_count": 29,
     "metadata": {},
     "output_type": "execute_result"
    }
   ],
   "source": [
    "vr_aucs"
   ]
  },
  {
   "cell_type": "code",
   "execution_count": 30,
   "id": "3c1abc5a",
   "metadata": {},
   "outputs": [
    {
     "data": {
      "image/png": "[encoded data removed]",
      "text/plain": [
       "<Figure size 720x432 with 1 Axes>"
      ]
     },
     "metadata": {
      "needs_background": "light"
     },
     "output_type": "display_data"
    }
   ],
   "source": [
    "plot(\n",
    "    vr_train_sizes, \n",
    "    vr_scores, \n",
    "    model_name=\"Variation ratio sampling\", \n",
    "    color=\"xkcd:bright blue\", \n",
    "    title=\"Variation ratio sampling\"\n",
    ")"
   ]
  },
  {
   "cell_type": "markdown",
   "id": "4c719692",
   "metadata": {},
   "source": [
    "### BALD\n",
    "\n",
    "Description is here: [Overview of Active Learning for Deep Learning](https://jacobgil.github.io/deeplearning/activelearning#learning-loss-for-active-learning)"
   ]
  },
  {
   "cell_type": "code",
   "execution_count": 31,
   "id": "4a7b6f40",
   "metadata": {},
   "outputs": [
    {
     "name": "stdout",
     "output_type": "stream",
     "text": [
      "CPU times: user 16min 22s, sys: 43.7 s, total: 17min 5s\n",
      "Wall time: 25min 39s\n"
     ]
    }
   ],
   "source": [
    "%%time\n",
    "%%capture\n",
    "bald_train_sizes, bald_scores, bald_aucs, bald = run_exp(\n",
    "    BALDSampling, \n",
    "    {\n",
    "        \"cfg\": cfg, \n",
    "        \"select_top_percent\": SELECT_TOP_PERCENT, \n",
    "        \"num_stochastic_forward_passes\": NUM_STOCHASTIC_FORWARD_PASSES\n",
    "    }, \n",
    "    init_data, \n",
    "    val_data,\n",
    "    pool_data, \n",
    "    NUM_RUNS_PER_EXP\n",
    ")"
   ]
  },
  {
   "cell_type": "code",
   "execution_count": 32,
   "id": "46a52d0a",
   "metadata": {},
   "outputs": [
    {
     "data": {
      "text/plain": [
       "array([0.58336657, 0.58907381, 0.57730813])"
      ]
     },
     "execution_count": 32,
     "metadata": {},
     "output_type": "execute_result"
    }
   ],
   "source": [
    "bald_aucs"
   ]
  },
  {
   "cell_type": "code",
   "execution_count": 33,
   "id": "55bdfd3e",
   "metadata": {},
   "outputs": [
    {
     "data": {
      "image/png": "[encoded data removed]",
      "text/plain": [
       "<Figure size 720x432 with 1 Axes>"
      ]
     },
     "metadata": {
      "needs_background": "light"
     },
     "output_type": "display_data"
    }
   ],
   "source": [
    "plot(\n",
    "    bald_train_sizes, \n",
    "    bald_scores, \n",
    "    model_name=\"BALD sampling\", \n",
    "    color=\"xkcd:golden\", \n",
    "    title=\"BALD sampling\"\n",
    ")"
   ]
  },
  {
   "cell_type": "markdown",
   "id": "c55ea31a",
   "metadata": {},
   "source": [
    "### Comparison"
   ]
  },
  {
   "cell_type": "code",
   "execution_count": 34,
   "id": "fbee7a3f",
   "metadata": {},
   "outputs": [],
   "source": [
    "results_table = pd.DataFrame.from_dict(\n",
    "    {\n",
    "        \"name\": [\n",
    "            \"random\", \"least confidence\", \"entropy\", \n",
    "            \"margin\", \"variation ratio\", \"BALD\"\n",
    "        ], \n",
    "        \"auc\": [\n",
    "            rs_aucs.mean(), lc_aucs.mean(), es_aucs.mean(), \n",
    "            ms_aucs.mean(), vr_aucs.mean(), bald_aucs.mean()\n",
    "        ]\n",
    "    }\n",
    ")"
   ]
  },
  {
   "cell_type": "code",
   "execution_count": 35,
   "id": "7e8f31d4",
   "metadata": {},
   "outputs": [
    {
     "data": {
      "text/html": [
       "<div>\n",
       "<style scoped>\n",
       "    .dataframe tbody tr th:only-of-type {\n",
       "        vertical-align: middle;\n",
       "    }\n",
       "\n",
       "    .dataframe tbody tr th {\n",
       "        vertical-align: top;\n",
       "    }\n",
       "\n",
       "    .dataframe thead th {\n",
       "        text-align: right;\n",
       "    }\n",
       "</style>\n",
       "<table border=\"1\" class=\"dataframe\">\n",
       "  <thead>\n",
       "    <tr style=\"text-align: right;\">\n",
       "      <th></th>\n",
       "      <th>name</th>\n",
       "      <th>auc</th>\n",
       "    </tr>\n",
       "  </thead>\n",
       "  <tbody>\n",
       "    <tr>\n",
       "      <th>0</th>\n",
       "      <td>random</td>\n",
       "      <td>0.575245</td>\n",
       "    </tr>\n",
       "    <tr>\n",
       "      <th>1</th>\n",
       "      <td>least confidence</td>\n",
       "      <td>0.584054</td>\n",
       "    </tr>\n",
       "    <tr>\n",
       "      <th>2</th>\n",
       "      <td>entropy</td>\n",
       "      <td>0.575742</td>\n",
       "    </tr>\n",
       "    <tr>\n",
       "      <th>3</th>\n",
       "      <td>margin</td>\n",
       "      <td>0.575259</td>\n",
       "    </tr>\n",
       "    <tr>\n",
       "      <th>4</th>\n",
       "      <td>variation ratio</td>\n",
       "      <td>0.582971</td>\n",
       "    </tr>\n",
       "    <tr>\n",
       "      <th>5</th>\n",
       "      <td>BALD</td>\n",
       "      <td>0.583250</td>\n",
       "    </tr>\n",
       "  </tbody>\n",
       "</table>\n",
       "</div>"
      ],
      "text/plain": [
       "               name       auc\n",
       "0            random  0.575245\n",
       "1  least confidence  0.584054\n",
       "2           entropy  0.575742\n",
       "3            margin  0.575259\n",
       "4   variation ratio  0.582971\n",
       "5              BALD  0.583250"
      ]
     },
     "execution_count": 35,
     "metadata": {},
     "output_type": "execute_result"
    }
   ],
   "source": [
    "results_table"
   ]
  },
  {
   "cell_type": "code",
   "execution_count": 36,
   "id": "b5c2842b",
   "metadata": {},
   "outputs": [
    {
     "data": {
      "image/png": "[encoded data removed]",
      "text/plain": [
       "<Figure size 720x432 with 1 Axes>"
      ]
     },
     "metadata": {
      "needs_background": "light"
     },
     "output_type": "display_data"
    }
   ],
   "source": [
    "ys = [\n",
    "    rs_scores, lc_scores, es_scores, \n",
    "    ms_scores, vr_scores, bald_scores\n",
    "]\n",
    "names = [\n",
    "    \"random\", \"least confidence\", \"entropy\", \n",
    "    \"margin\", \"variation ratio\", \"BALD\"\n",
    "]\n",
    "colors = [\n",
    "    \"xkcd:salmon\", \"xkcd:orange\", \"xkcd:violet\", \n",
    "    \"xkcd:teal\", \"xkcd:bright blue\", \"xkcd:golden\"\n",
    "]\n",
    "\n",
    "plot(\n",
    "    vr_train_sizes, \n",
    "    ys, \n",
    "    model_name=names, \n",
    "    color=colors, \n",
    "    title=\"Models comparison\"\n",
    ")"
   ]
  },
  {
   "cell_type": "code",
   "execution_count": 64,
   "id": "bab13ab4",
   "metadata": {},
   "outputs": [
    {
     "data": {
      "image/png": "[encoded data removed]",
      "text/plain": [
       "<Figure size 720x432 with 1 Axes>"
      ]
     },
     "metadata": {
      "needs_background": "light"
     },
     "output_type": "display_data"
    }
   ],
   "source": [
    "ys = [\n",
    "    rs_scores, es_scores, ms_scores\n",
    "]\n",
    "names = [\n",
    "    \"random\", \"entropy\", \"margin\"\n",
    "]\n",
    "colors = [\n",
    "    \"xkcd:salmon\", \"xkcd:violet\", \"xkcd:teal\"\n",
    "]\n",
    "\n",
    "plot(\n",
    "    vr_train_sizes, \n",
    "    ys, \n",
    "    model_name=names, \n",
    "    color=colors, \n",
    "    title=\"Models comparison\"\n",
    ")"
   ]
  },
  {
   "cell_type": "code",
   "execution_count": 66,
   "id": "b2957eb5",
   "metadata": {},
   "outputs": [
    {
     "data": {
      "image/png": "[encoded data removed]",
      "text/plain": [
       "<Figure size 720x432 with 1 Axes>"
      ]
     },
     "metadata": {
      "needs_background": "light"
     },
     "output_type": "display_data"
    }
   ],
   "source": [
    "ys = [\n",
    "    rs_scores, lc_scores\n",
    "]\n",
    "names = [\n",
    "    \"random\", \"variation ratio\"\n",
    "]\n",
    "colors = [\n",
    "    \"xkcd:salmon\", \"xkcd:orange\"\n",
    "]\n",
    "\n",
    "plot(\n",
    "    vr_train_sizes, \n",
    "    ys, \n",
    "    model_name=names, \n",
    "    color=colors, \n",
    "    title=\"Random vs least confidence\"\n",
    ")"
   ]
  },
  {
   "cell_type": "code",
   "execution_count": 68,
   "id": "202f84d4",
   "metadata": {},
   "outputs": [
    {
     "data": {
      "image/png": "[encoded data removed]",
      "text/plain": [
       "<Figure size 720x432 with 1 Axes>"
      ]
     },
     "metadata": {
      "needs_background": "light"
     },
     "output_type": "display_data"
    }
   ],
   "source": [
    "ys = [\n",
    "    rs_scores, vr_scores\n",
    "]\n",
    "names = [\n",
    "    \"random\", \"variation ratio\"\n",
    "]\n",
    "colors = [\n",
    "    \"xkcd:salmon\", \"xkcd:bright blue\"\n",
    "]\n",
    "\n",
    "plot(\n",
    "    vr_train_sizes, \n",
    "    ys, \n",
    "    model_name=names, \n",
    "    color=colors, \n",
    "    title=\"Random vs variation ratio\"\n",
    ")"
   ]
  },
  {
   "cell_type": "code",
   "execution_count": 69,
   "id": "0a0a179b",
   "metadata": {},
   "outputs": [
    {
     "data": {
      "image/png": "[encoded data removed]",
      "text/plain": [
       "<Figure size 720x432 with 1 Axes>"
      ]
     },
     "metadata": {
      "needs_background": "light"
     },
     "output_type": "display_data"
    }
   ],
   "source": [
    "ys = [\n",
    "    rs_scores, bald_scores\n",
    "]\n",
    "names = [\n",
    "    \"random\", \"BALD\"\n",
    "]\n",
    "colors = [\n",
    "    \"xkcd:salmon\", \"xkcd:golden\"\n",
    "]\n",
    "\n",
    "plot(\n",
    "    vr_train_sizes, \n",
    "    ys, \n",
    "    model_name=names, \n",
    "    color=colors, \n",
    "    title=\"Random vs BALD\"\n",
    ")"
   ]
  },
  {
   "cell_type": "markdown",
   "id": "f060f9e9",
   "metadata": {},
   "source": [
    "Observations:\n",
    "\n",
    "- Least confidence, variation ratio and BALD perform better than random sampling baseline. Entropy and margin show comparable results.\n",
    "- Almost all method show better performance for small dataset sizes. Most difference in accuracy can be seen untill 2000 samples. All methods show comparable results for the following training sizes\n",
    "- Quiery size schould be further explored with smaller select_top_percent. Also data redundacy heuristics could be applied."
   ]
  },
  {
   "cell_type": "markdown",
   "id": "2f7f33ea",
   "metadata": {},
   "source": [
    "Check examples selected by least confidence on the first step"
   ]
  },
  {
   "cell_type": "code",
   "execution_count": 43,
   "id": "7043fe62",
   "metadata": {},
   "outputs": [
    {
     "data": {
      "text/html": [
       "<div>\n",
       "<style scoped>\n",
       "    .dataframe tbody tr th:only-of-type {\n",
       "        vertical-align: middle;\n",
       "    }\n",
       "\n",
       "    .dataframe tbody tr th {\n",
       "        vertical-align: top;\n",
       "    }\n",
       "\n",
       "    .dataframe thead th {\n",
       "        text-align: right;\n",
       "    }\n",
       "</style>\n",
       "<table border=\"1\" class=\"dataframe\">\n",
       "  <thead>\n",
       "    <tr style=\"text-align: right;\">\n",
       "      <th></th>\n",
       "      <th>title</th>\n",
       "      <th>sentiment</th>\n",
       "      <th>label</th>\n",
       "      <th>predicted_label_prob</th>\n",
       "    </tr>\n",
       "  </thead>\n",
       "  <tbody>\n",
       "    <tr>\n",
       "      <th>2716</th>\n",
       "      <td>Bitcoin, Ethereum, Ripple, Bitcoin Cash, EOS, ...</td>\n",
       "      <td>Neutral</td>\n",
       "      <td>1</td>\n",
       "      <td>0.337531</td>\n",
       "    </tr>\n",
       "    <tr>\n",
       "      <th>3635</th>\n",
       "      <td>Bitcoin, Ethereum, Bitcoin Cash, Ripple, Stell...</td>\n",
       "      <td>Neutral</td>\n",
       "      <td>1</td>\n",
       "      <td>0.337831</td>\n",
       "    </tr>\n",
       "    <tr>\n",
       "      <th>687</th>\n",
       "      <td>Bitcoin, Ethereum, Bitcoin Cash, Ripple, Stell...</td>\n",
       "      <td>Neutral</td>\n",
       "      <td>1</td>\n",
       "      <td>0.338248</td>\n",
       "    </tr>\n",
       "    <tr>\n",
       "      <th>3244</th>\n",
       "      <td>Bitcoin, Ethereum, Ripple, Bitcoin Cash, EOS, ...</td>\n",
       "      <td>Neutral</td>\n",
       "      <td>1</td>\n",
       "      <td>0.339097</td>\n",
       "    </tr>\n",
       "    <tr>\n",
       "      <th>4351</th>\n",
       "      <td>Bitcoin, Ethereum, Ripple, Bitcoin Cash, EOS, ...</td>\n",
       "      <td>Neutral</td>\n",
       "      <td>1</td>\n",
       "      <td>0.340009</td>\n",
       "    </tr>\n",
       "  </tbody>\n",
       "</table>\n",
       "</div>"
      ],
      "text/plain": [
       "                                                  title sentiment  label  \\\n",
       "2716  Bitcoin, Ethereum, Ripple, Bitcoin Cash, EOS, ...   Neutral      1   \n",
       "3635  Bitcoin, Ethereum, Bitcoin Cash, Ripple, Stell...   Neutral      1   \n",
       "687   Bitcoin, Ethereum, Bitcoin Cash, Ripple, Stell...   Neutral      1   \n",
       "3244  Bitcoin, Ethereum, Ripple, Bitcoin Cash, EOS, ...   Neutral      1   \n",
       "4351  Bitcoin, Ethereum, Ripple, Bitcoin Cash, EOS, ...   Neutral      1   \n",
       "\n",
       "      predicted_label_prob  \n",
       "2716              0.337531  \n",
       "3635              0.337831  \n",
       "687               0.338248  \n",
       "3244              0.339097  \n",
       "4351              0.340009  "
      ]
     },
     "execution_count": 43,
     "metadata": {},
     "output_type": "execute_result"
    }
   ],
   "source": [
    "lc.query_instances[0].head()"
   ]
  },
  {
   "cell_type": "code",
   "execution_count": 44,
   "id": "20ab58e0",
   "metadata": {},
   "outputs": [
    {
     "data": {
      "text/plain": [
       "1    163\n",
       "0     92\n",
       "2     36\n",
       "Name: label, dtype: int64"
      ]
     },
     "execution_count": 44,
     "metadata": {},
     "output_type": "execute_result"
    }
   ],
   "source": [
    "lc.query_instances[0][\"label\"].value_counts()"
   ]
  },
  {
   "cell_type": "code",
   "execution_count": 49,
   "id": "273ef8d9",
   "metadata": {},
   "outputs": [
    {
     "data": {
      "text/plain": [
       "array(['Negative', 'Neutral', 'Positive'], dtype=object)"
      ]
     },
     "execution_count": 49,
     "metadata": {},
     "output_type": "execute_result"
    }
   ],
   "source": [
    "le.classes_"
   ]
  },
  {
   "cell_type": "code",
   "execution_count": 60,
   "id": "928a9716",
   "metadata": {},
   "outputs": [
    {
     "data": {
      "text/plain": [
       "array(['Bitcoin, Ethereum, Ripple, Bitcoin Cash, EOS, Stellar, Litecoin, Cardano, Monero, TRON: Price Analysis, October 8',\n",
       "       'Bitcoin, Ethereum, Bitcoin Cash, Ripple, Stellar, Litecoin, Cardano, NEO, EOS: Price Analysis, March 16',\n",
       "       'Bitcoin, Ethereum, Bitcoin Cash, Ripple, Stellar, Litecoin, Cardano, NEO, EOS: Price Analysis, March 26',\n",
       "       'Bitcoin, Ethereum, Ripple, Bitcoin Cash, EOS, Stellar, Litecoin, Cardano, Monero, IOTA: Price Analysis, August 13',\n",
       "       'Bitcoin, Ethereum, Ripple, Bitcoin Cash, EOS, Litecoin, Cardano, Stellar, IOTA, NEO: Price Analysis, July 06'],\n",
       "      dtype=object)"
      ]
     },
     "execution_count": 60,
     "metadata": {},
     "output_type": "execute_result"
    }
   ],
   "source": [
    "lc.query_instances[0][\"title\"].head().values"
   ]
  },
  {
   "cell_type": "markdown",
   "id": "cd39caa4",
   "metadata": {},
   "source": [
    "Check examples selected by variation ratio on the first step"
   ]
  },
  {
   "cell_type": "code",
   "execution_count": 70,
   "id": "e0529549",
   "metadata": {},
   "outputs": [
    {
     "data": {
      "text/html": [
       "<div>\n",
       "<style scoped>\n",
       "    .dataframe tbody tr th:only-of-type {\n",
       "        vertical-align: middle;\n",
       "    }\n",
       "\n",
       "    .dataframe tbody tr th {\n",
       "        vertical-align: top;\n",
       "    }\n",
       "\n",
       "    .dataframe thead th {\n",
       "        text-align: right;\n",
       "    }\n",
       "</style>\n",
       "<table border=\"1\" class=\"dataframe\">\n",
       "  <thead>\n",
       "    <tr style=\"text-align: right;\">\n",
       "      <th></th>\n",
       "      <th>title</th>\n",
       "      <th>sentiment</th>\n",
       "      <th>label</th>\n",
       "      <th>variation_ratio</th>\n",
       "    </tr>\n",
       "  </thead>\n",
       "  <tbody>\n",
       "    <tr>\n",
       "      <th>1132</th>\n",
       "      <td>Alleged Moolah Bitcoin Thief Ryan Kennedy Face...</td>\n",
       "      <td>Negative</td>\n",
       "      <td>0</td>\n",
       "      <td>0.5</td>\n",
       "    </tr>\n",
       "    <tr>\n",
       "      <th>2271</th>\n",
       "      <td>Authorities Arrest Indonesian Student Alleged ...</td>\n",
       "      <td>Negative</td>\n",
       "      <td>0</td>\n",
       "      <td>0.4</td>\n",
       "    </tr>\n",
       "    <tr>\n",
       "      <th>3516</th>\n",
       "      <td>Another Police Official Arrested In Alleged Bi...</td>\n",
       "      <td>Negative</td>\n",
       "      <td>0</td>\n",
       "      <td>0.4</td>\n",
       "    </tr>\n",
       "    <tr>\n",
       "      <th>4516</th>\n",
       "      <td>US Prosecutors Believe Ex-Secret Service Agent...</td>\n",
       "      <td>Negative</td>\n",
       "      <td>0</td>\n",
       "      <td>0.2</td>\n",
       "    </tr>\n",
       "    <tr>\n",
       "      <th>483</th>\n",
       "      <td>Bitcoin Bomb Threats Target Educational Instit...</td>\n",
       "      <td>Negative</td>\n",
       "      <td>0</td>\n",
       "      <td>0.2</td>\n",
       "    </tr>\n",
       "  </tbody>\n",
       "</table>\n",
       "</div>"
      ],
      "text/plain": [
       "                                                  title sentiment  label  \\\n",
       "1132  Alleged Moolah Bitcoin Thief Ryan Kennedy Face...  Negative      0   \n",
       "2271  Authorities Arrest Indonesian Student Alleged ...  Negative      0   \n",
       "3516  Another Police Official Arrested In Alleged Bi...  Negative      0   \n",
       "4516  US Prosecutors Believe Ex-Secret Service Agent...  Negative      0   \n",
       "483   Bitcoin Bomb Threats Target Educational Instit...  Negative      0   \n",
       "\n",
       "      variation_ratio  \n",
       "1132              0.5  \n",
       "2271              0.4  \n",
       "3516              0.4  \n",
       "4516              0.2  \n",
       "483               0.2  "
      ]
     },
     "execution_count": 70,
     "metadata": {},
     "output_type": "execute_result"
    }
   ],
   "source": [
    "vr.query_instances[0].head()"
   ]
  },
  {
   "cell_type": "code",
   "execution_count": 54,
   "id": "190caf96",
   "metadata": {},
   "outputs": [
    {
     "data": {
      "text/plain": [
       "0    129\n",
       "2    107\n",
       "1     55\n",
       "Name: label, dtype: int64"
      ]
     },
     "execution_count": 54,
     "metadata": {},
     "output_type": "execute_result"
    }
   ],
   "source": [
    "vr.query_instances[0][\"label\"].value_counts()"
   ]
  },
  {
   "cell_type": "code",
   "execution_count": 55,
   "id": "64e7ebb4",
   "metadata": {},
   "outputs": [
    {
     "data": {
      "text/plain": [
       "array(['Negative', 'Neutral', 'Positive'], dtype=object)"
      ]
     },
     "execution_count": 55,
     "metadata": {},
     "output_type": "execute_result"
    }
   ],
   "source": [
    "le.classes_"
   ]
  },
  {
   "cell_type": "code",
   "execution_count": 58,
   "id": "de41cf92",
   "metadata": {},
   "outputs": [
    {
     "data": {
      "text/plain": [
       "array(['Alleged Moolah Bitcoin Thief Ryan Kennedy Faces First Court Hearing',\n",
       "       'Authorities Arrest Indonesian Student Alleged to Have Purchased Ecstasy with Bitcoin from the Netherlands',\n",
       "       'Another Police Official Arrested In Alleged Bitcoin Extortion Plot',\n",
       "       'US Prosecutors Believe Ex-Secret Service Agent Stole More Bitcoin from Silk Road',\n",
       "       'Bitcoin Bomb Threats Target Educational Institutions, Businesses and Govt. Buildings in US, Canada'],\n",
       "      dtype=object)"
      ]
     },
     "execution_count": 58,
     "metadata": {},
     "output_type": "execute_result"
    }
   ],
   "source": [
    "vr.query_instances[0][\"title\"].head().values"
   ]
  },
  {
   "cell_type": "markdown",
   "id": "551b5313",
   "metadata": {},
   "source": [
    "Check examples selected by BALD on the first step"
   ]
  },
  {
   "cell_type": "code",
   "execution_count": 71,
   "id": "8763f77f",
   "metadata": {},
   "outputs": [
    {
     "data": {
      "text/html": [
       "<div>\n",
       "<style scoped>\n",
       "    .dataframe tbody tr th:only-of-type {\n",
       "        vertical-align: middle;\n",
       "    }\n",
       "\n",
       "    .dataframe tbody tr th {\n",
       "        vertical-align: top;\n",
       "    }\n",
       "\n",
       "    .dataframe thead th {\n",
       "        text-align: right;\n",
       "    }\n",
       "</style>\n",
       "<table border=\"1\" class=\"dataframe\">\n",
       "  <thead>\n",
       "    <tr style=\"text-align: right;\">\n",
       "      <th></th>\n",
       "      <th>title</th>\n",
       "      <th>sentiment</th>\n",
       "      <th>label</th>\n",
       "      <th>mutual_information</th>\n",
       "    </tr>\n",
       "  </thead>\n",
       "  <tbody>\n",
       "    <tr>\n",
       "      <th>1452</th>\n",
       "      <td>Major Food Delivery Portal Takeaway.com Accept...</td>\n",
       "      <td>Positive</td>\n",
       "      <td>2</td>\n",
       "      <td>0.006531</td>\n",
       "    </tr>\n",
       "    <tr>\n",
       "      <th>4160</th>\n",
       "      <td>Bitcoin is the Evil Spawn of the Financial Cri...</td>\n",
       "      <td>Negative</td>\n",
       "      <td>0</td>\n",
       "      <td>0.005539</td>\n",
       "    </tr>\n",
       "    <tr>\n",
       "      <th>713</th>\n",
       "      <td>Bitcoin Cash Price Technical Analysis  BCH/USD...</td>\n",
       "      <td>Negative</td>\n",
       "      <td>0</td>\n",
       "      <td>0.004159</td>\n",
       "    </tr>\n",
       "    <tr>\n",
       "      <th>2609</th>\n",
       "      <td>Bitcoin Cash Briefly Surpasses the Market Cap ...</td>\n",
       "      <td>Positive</td>\n",
       "      <td>2</td>\n",
       "      <td>0.004144</td>\n",
       "    </tr>\n",
       "    <tr>\n",
       "      <th>4177</th>\n",
       "      <td>Bitcoin Price Will Hit New All-Time Highs in 2...</td>\n",
       "      <td>Positive</td>\n",
       "      <td>2</td>\n",
       "      <td>0.004095</td>\n",
       "    </tr>\n",
       "  </tbody>\n",
       "</table>\n",
       "</div>"
      ],
      "text/plain": [
       "                                                  title sentiment  label  \\\n",
       "1452  Major Food Delivery Portal Takeaway.com Accept...  Positive      2   \n",
       "4160  Bitcoin is the Evil Spawn of the Financial Cri...  Negative      0   \n",
       "713   Bitcoin Cash Price Technical Analysis  BCH/USD...  Negative      0   \n",
       "2609  Bitcoin Cash Briefly Surpasses the Market Cap ...  Positive      2   \n",
       "4177  Bitcoin Price Will Hit New All-Time Highs in 2...  Positive      2   \n",
       "\n",
       "      mutual_information  \n",
       "1452            0.006531  \n",
       "4160            0.005539  \n",
       "713             0.004159  \n",
       "2609            0.004144  \n",
       "4177            0.004095  "
      ]
     },
     "execution_count": 71,
     "metadata": {},
     "output_type": "execute_result"
    }
   ],
   "source": [
    "bald.query_instances[0].head()"
   ]
  },
  {
   "cell_type": "code",
   "execution_count": 72,
   "id": "fb3ce89c",
   "metadata": {},
   "outputs": [
    {
     "data": {
      "text/plain": [
       "2    137\n",
       "0     90\n",
       "1     64\n",
       "Name: label, dtype: int64"
      ]
     },
     "execution_count": 72,
     "metadata": {},
     "output_type": "execute_result"
    }
   ],
   "source": [
    "bald.query_instances[0][\"label\"].value_counts()"
   ]
  },
  {
   "cell_type": "code",
   "execution_count": 73,
   "id": "f8924e8d",
   "metadata": {},
   "outputs": [
    {
     "data": {
      "text/plain": [
       "array(['Negative', 'Neutral', 'Positive'], dtype=object)"
      ]
     },
     "execution_count": 73,
     "metadata": {},
     "output_type": "execute_result"
    }
   ],
   "source": [
    "le.classes_"
   ]
  },
  {
   "cell_type": "code",
   "execution_count": 74,
   "id": "219c0cd3",
   "metadata": {},
   "outputs": [
    {
     "data": {
      "text/plain": [
       "array(['Major Food Delivery Portal Takeaway.com Accepts Bitcoin Across Europe',\n",
       "       'Bitcoin is the Evil Spawn of the Financial Crisis: European Central Bank Board Member',\n",
       "       'Bitcoin Cash Price Technical Analysis  BCH/USD Crashes Below $700',\n",
       "       'Bitcoin Cash Briefly Surpasses the Market Cap of Ethereum at $30 Billion',\n",
       "       'Bitcoin Price Will Hit New All-Time Highs in 2019: Quoine CEO'],\n",
       "      dtype=object)"
      ]
     },
     "execution_count": 74,
     "metadata": {},
     "output_type": "execute_result"
    }
   ],
   "source": [
    "bald.query_instances[0][\"title\"].head().values"
   ]
  },
  {
   "cell_type": "code",
   "execution_count": null,
   "id": "f5c85640",
   "metadata": {},
   "outputs": [],
   "source": []
  }
 ],
 "metadata": {
  "kernelspec": {
   "display_name": "Python 3 (ipykernel)",
   "language": "python",
   "name": "python3"
  },
  "language_info": {
   "codemirror_mode": {
    "name": "ipython",
    "version": 3
   },
   "file_extension": ".py",
   "mimetype": "text/x-python",
   "name": "python",
   "nbconvert_exporter": "python",
   "pygments_lexer": "ipython3",
   "version": "3.9.7"
  }
 },
 "nbformat": 4,
 "nbformat_minor": 5
}
