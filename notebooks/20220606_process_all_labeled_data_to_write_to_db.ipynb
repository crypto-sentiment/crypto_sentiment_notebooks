{
 "cells": [
  {
   "cell_type": "markdown",
   "id": "c742f113",
   "metadata": {},
   "source": [
    "#### Author\n",
    "Yury Kashnitsky\n",
    "\n",
    "#### Reference\n",
    "\n",
    "#### Idea\n",
    "Process all labeled data at hand to insert into the `news_titles` and `labeled_news_titles` tables.\n",
    "\n",
    "#### Data\n",
    "\n",
    "We are resuing data reading utils written by Victor in [here](https://github.com/crypto-sentiment/crypto_sentiment_notebooks/pull/10). It merges 4500 titles labeled in 2017-2018 with 400 titles labeled by us.\n",
    "\n",
    "#### Result\n",
    "\n",
    "Two files to be imported to tables `news_titles` and `labeled_news_titles`:\n",
    "\n",
    "- ../data/20220606_news_titles_to_import.csv\n",
    "- ../data/20220606_labeled_news_titles_to_import.csv"
   ]
  },
  {
   "cell_type": "code",
   "execution_count": 1,
   "id": "e3acc699",
   "metadata": {},
   "outputs": [],
   "source": [
    "import pandas as pd\n",
    "from mmh3 import hash as mmh3_hash\n",
    "from checklist_utils.data import read_data, read_assessment_data"
   ]
  },
  {
   "cell_type": "code",
   "execution_count": 2,
   "id": "3262f820",
   "metadata": {},
   "outputs": [],
   "source": [
    "LABEL_MAP =  {\"Negative\": 0, \"Neutral\": 1, \"Positive\": 2}\n",
    "SEED = 17"
   ]
  },
  {
   "cell_type": "markdown",
   "id": "d1789ce6",
   "metadata": {},
   "source": [
    "Freshly labeled data"
   ]
  },
  {
   "cell_type": "code",
   "execution_count": 3,
   "id": "0529234c",
   "metadata": {},
   "outputs": [],
   "source": [
    "df_new = read_assessment_data(data_path='../data/')"
   ]
  },
  {
   "cell_type": "code",
   "execution_count": 4,
   "id": "d4d54894",
   "metadata": {},
   "outputs": [
    {
     "data": {
      "text/plain": [
       "392"
      ]
     },
     "execution_count": 4,
     "metadata": {},
     "output_type": "execute_result"
    }
   ],
   "source": [
    "len(df_new)"
   ]
  },
  {
   "cell_type": "code",
   "execution_count": 5,
   "id": "ba9597de",
   "metadata": {},
   "outputs": [
    {
     "data": {
      "text/html": [
       "<div>\n",
       "<style scoped>\n",
       "    .dataframe tbody tr th:only-of-type {\n",
       "        vertical-align: middle;\n",
       "    }\n",
       "\n",
       "    .dataframe tbody tr th {\n",
       "        vertical-align: top;\n",
       "    }\n",
       "\n",
       "    .dataframe thead th {\n",
       "        text-align: right;\n",
       "    }\n",
       "</style>\n",
       "<table border=\"1\" class=\"dataframe\">\n",
       "  <thead>\n",
       "    <tr style=\"text-align: right;\">\n",
       "      <th></th>\n",
       "      <th>title</th>\n",
       "      <th>sentiment</th>\n",
       "    </tr>\n",
       "  </thead>\n",
       "  <tbody>\n",
       "    <tr>\n",
       "      <th>0</th>\n",
       "      <td>\"Not as Anonymous as People Think,\" Shows DOJ ...</td>\n",
       "      <td>Positive</td>\n",
       "    </tr>\n",
       "    <tr>\n",
       "      <th>1</th>\n",
       "      <td>'Bitcoin Centrist' Muneeb Ali: Why NFTs Are Tr...</td>\n",
       "      <td>Neutral</td>\n",
       "    </tr>\n",
       "  </tbody>\n",
       "</table>\n",
       "</div>"
      ],
      "text/plain": [
       "                                               title sentiment\n",
       "0  \"Not as Anonymous as People Think,\" Shows DOJ ...  Positive\n",
       "1  'Bitcoin Centrist' Muneeb Ali: Why NFTs Are Tr...   Neutral"
      ]
     },
     "execution_count": 5,
     "metadata": {},
     "output_type": "execute_result"
    }
   ],
   "source": [
    "df_new.head(2)"
   ]
  },
  {
   "cell_type": "code",
   "execution_count": 6,
   "id": "a4101ba2",
   "metadata": {},
   "outputs": [],
   "source": [
    "df = read_data(data_path='../data/')"
   ]
  },
  {
   "cell_type": "code",
   "execution_count": 7,
   "id": "06596dc1",
   "metadata": {},
   "outputs": [
    {
     "data": {
      "text/plain": [
       "4758"
      ]
     },
     "execution_count": 7,
     "metadata": {},
     "output_type": "execute_result"
    }
   ],
   "source": [
    "len(df)"
   ]
  },
  {
   "cell_type": "code",
   "execution_count": 8,
   "id": "9b047c61",
   "metadata": {},
   "outputs": [
    {
     "data": {
      "text/html": [
       "<div>\n",
       "<style scoped>\n",
       "    .dataframe tbody tr th:only-of-type {\n",
       "        vertical-align: middle;\n",
       "    }\n",
       "\n",
       "    .dataframe tbody tr th {\n",
       "        vertical-align: top;\n",
       "    }\n",
       "\n",
       "    .dataframe thead th {\n",
       "        text-align: right;\n",
       "    }\n",
       "</style>\n",
       "<table border=\"1\" class=\"dataframe\">\n",
       "  <thead>\n",
       "    <tr style=\"text-align: right;\">\n",
       "      <th></th>\n",
       "      <th>title</th>\n",
       "      <th>sentiment</th>\n",
       "      <th>label</th>\n",
       "    </tr>\n",
       "  </thead>\n",
       "  <tbody>\n",
       "    <tr>\n",
       "      <th>400</th>\n",
       "      <td>Burger King in Russia Enable Bitcoin Payments ...</td>\n",
       "      <td>Positive</td>\n",
       "      <td>2</td>\n",
       "    </tr>\n",
       "    <tr>\n",
       "      <th>3145</th>\n",
       "      <td>Bitcoin Mining Giant Bitmain to Release Next-G...</td>\n",
       "      <td>Positive</td>\n",
       "      <td>2</td>\n",
       "    </tr>\n",
       "  </tbody>\n",
       "</table>\n",
       "</div>"
      ],
      "text/plain": [
       "                                                  title sentiment  label\n",
       "400   Burger King in Russia Enable Bitcoin Payments ...  Positive      2\n",
       "3145  Bitcoin Mining Giant Bitmain to Release Next-G...  Positive      2"
      ]
     },
     "execution_count": 8,
     "metadata": {},
     "output_type": "execute_result"
    }
   ],
   "source": [
    "df.head(2)"
   ]
  },
  {
   "cell_type": "markdown",
   "id": "8c951d2e",
   "metadata": {},
   "source": [
    "We miss metadata but at least the freshly labeled data was annotated in April 2022, while the old data was annotated around January 2019. So we fill in the values accordingly. "
   ]
  },
  {
   "cell_type": "code",
   "execution_count": 9,
   "id": "9396cb1e",
   "metadata": {},
   "outputs": [],
   "source": [
    "df['annot_time'] = '2019-01-01'\n",
    "df.loc[df_new.index, 'annot_time'] = '2022-04-01'"
   ]
  },
  {
   "cell_type": "code",
   "execution_count": 10,
   "id": "437127d2",
   "metadata": {},
   "outputs": [],
   "source": [
    "df['label'] = df['sentiment'].map(LABEL_MAP)"
   ]
  },
  {
   "cell_type": "code",
   "execution_count": 11,
   "id": "7dab4e34",
   "metadata": {},
   "outputs": [],
   "source": [
    "df['title_id'] = df['title'].apply(lambda s: mmh3_hash(s, seed=SEED))"
   ]
  },
  {
   "cell_type": "code",
   "execution_count": 12,
   "id": "6017ad41",
   "metadata": {},
   "outputs": [
    {
     "data": {
      "text/html": [
       "<div>\n",
       "<style scoped>\n",
       "    .dataframe tbody tr th:only-of-type {\n",
       "        vertical-align: middle;\n",
       "    }\n",
       "\n",
       "    .dataframe tbody tr th {\n",
       "        vertical-align: top;\n",
       "    }\n",
       "\n",
       "    .dataframe thead th {\n",
       "        text-align: right;\n",
       "    }\n",
       "</style>\n",
       "<table border=\"1\" class=\"dataframe\">\n",
       "  <thead>\n",
       "    <tr style=\"text-align: right;\">\n",
       "      <th></th>\n",
       "      <th>title</th>\n",
       "      <th>sentiment</th>\n",
       "      <th>label</th>\n",
       "      <th>annot_time</th>\n",
       "      <th>title_id</th>\n",
       "    </tr>\n",
       "  </thead>\n",
       "  <tbody>\n",
       "    <tr>\n",
       "      <th>400</th>\n",
       "      <td>Burger King in Russia Enable Bitcoin Payments ...</td>\n",
       "      <td>Positive</td>\n",
       "      <td>2</td>\n",
       "      <td>2019-01-01</td>\n",
       "      <td>-112618357</td>\n",
       "    </tr>\n",
       "    <tr>\n",
       "      <th>3145</th>\n",
       "      <td>Bitcoin Mining Giant Bitmain to Release Next-G...</td>\n",
       "      <td>Positive</td>\n",
       "      <td>2</td>\n",
       "      <td>2019-01-01</td>\n",
       "      <td>-451501667</td>\n",
       "    </tr>\n",
       "    <tr>\n",
       "      <th>2241</th>\n",
       "      <td>Acid Test: Bitcoin Must Break $7,800 for Bull ...</td>\n",
       "      <td>Positive</td>\n",
       "      <td>2</td>\n",
       "      <td>2019-01-01</td>\n",
       "      <td>36355323</td>\n",
       "    </tr>\n",
       "    <tr>\n",
       "      <th>2056</th>\n",
       "      <td>Blockchain Entrepreneurs Invigorated By CMEs B...</td>\n",
       "      <td>Positive</td>\n",
       "      <td>2</td>\n",
       "      <td>2019-01-01</td>\n",
       "      <td>-49025870</td>\n",
       "    </tr>\n",
       "    <tr>\n",
       "      <th>3009</th>\n",
       "      <td>Irans Bitcoin Volume Soars as Rial Value Enter...</td>\n",
       "      <td>Positive</td>\n",
       "      <td>2</td>\n",
       "      <td>2019-01-01</td>\n",
       "      <td>1535460804</td>\n",
       "    </tr>\n",
       "  </tbody>\n",
       "</table>\n",
       "</div>"
      ],
      "text/plain": [
       "                                                  title sentiment  label  \\\n",
       "400   Burger King in Russia Enable Bitcoin Payments ...  Positive      2   \n",
       "3145  Bitcoin Mining Giant Bitmain to Release Next-G...  Positive      2   \n",
       "2241  Acid Test: Bitcoin Must Break $7,800 for Bull ...  Positive      2   \n",
       "2056  Blockchain Entrepreneurs Invigorated By CMEs B...  Positive      2   \n",
       "3009  Irans Bitcoin Volume Soars as Rial Value Enter...  Positive      2   \n",
       "\n",
       "      annot_time    title_id  \n",
       "400   2019-01-01  -112618357  \n",
       "3145  2019-01-01  -451501667  \n",
       "2241  2019-01-01    36355323  \n",
       "2056  2019-01-01   -49025870  \n",
       "3009  2019-01-01  1535460804  "
      ]
     },
     "execution_count": 12,
     "metadata": {},
     "output_type": "execute_result"
    }
   ],
   "source": [
    "df.head()"
   ]
  },
  {
   "cell_type": "markdown",
   "id": "9fe120a9",
   "metadata": {},
   "source": [
    "We have some historic metadata, let's try to get URLs from there"
   ]
  },
  {
   "cell_type": "code",
   "execution_count": 13,
   "id": "b332de8c",
   "metadata": {},
   "outputs": [],
   "source": [
    "metadata_df = pd.concat([\n",
    "    pd.read_csv('../data/archive/crypto_news_parsed_2013-2017_train.csv.zip'),\n",
    "    pd.read_csv('../data/archive/crypto_news_parsed_2018_validation.csv.zip'),\n",
    "    pd.read_csv('../data/archive/btc_titles_17-18.csv')\n",
    "]).drop_duplicates(subset=['title'])"
   ]
  },
  {
   "cell_type": "code",
   "execution_count": 14,
   "id": "24444ce6",
   "metadata": {},
   "outputs": [
    {
     "data": {
      "text/html": [
       "<div>\n",
       "<style scoped>\n",
       "    .dataframe tbody tr th:only-of-type {\n",
       "        vertical-align: middle;\n",
       "    }\n",
       "\n",
       "    .dataframe tbody tr th {\n",
       "        vertical-align: top;\n",
       "    }\n",
       "\n",
       "    .dataframe thead th {\n",
       "        text-align: right;\n",
       "    }\n",
       "</style>\n",
       "<table border=\"1\" class=\"dataframe\">\n",
       "  <thead>\n",
       "    <tr style=\"text-align: right;\">\n",
       "      <th></th>\n",
       "      <th>url</th>\n",
       "      <th>title</th>\n",
       "      <th>text</th>\n",
       "      <th>html</th>\n",
       "      <th>year</th>\n",
       "      <th>author</th>\n",
       "      <th>source</th>\n",
       "      <th>cleaned_title</th>\n",
       "      <th>date</th>\n",
       "      <th>num_words</th>\n",
       "    </tr>\n",
       "  </thead>\n",
       "  <tbody>\n",
       "    <tr>\n",
       "      <th>0</th>\n",
       "      <td>https://www.ccn.com/bitcoin-price-update-will-...</td>\n",
       "      <td>Bitcoin Price Update: Will China Lead us Down?</td>\n",
       "      <td>Bitcoin Priced in USD on Mt. GoxAbove is Gox p...</td>\n",
       "      <td>&lt;figure id=\"attachment_4090\" style=\"width: 838...</td>\n",
       "      <td>2013.0</td>\n",
       "      <td>Gordon Hall</td>\n",
       "      <td>altcoin_analysis</td>\n",
       "      <td>NaN</td>\n",
       "      <td>NaN</td>\n",
       "      <td>NaN</td>\n",
       "    </tr>\n",
       "    <tr>\n",
       "      <th>1</th>\n",
       "      <td>https://www.ccn.com/key-bitcoin-price-levels-w...</td>\n",
       "      <td>Key Bitcoin Price Levels for Week 51 (15 – 22 ...</td>\n",
       "      <td>The Bitcoin price up to 2013/12/14, with Fib l...</td>\n",
       "      <td>&lt;figure id=\"attachment_3961\" style=\"width: 838...</td>\n",
       "      <td>2013.0</td>\n",
       "      <td>Gordon Hall</td>\n",
       "      <td>altcoin_analysis</td>\n",
       "      <td>NaN</td>\n",
       "      <td>NaN</td>\n",
       "      <td>NaN</td>\n",
       "    </tr>\n",
       "  </tbody>\n",
       "</table>\n",
       "</div>"
      ],
      "text/plain": [
       "                                                 url  \\\n",
       "0  https://www.ccn.com/bitcoin-price-update-will-...   \n",
       "1  https://www.ccn.com/key-bitcoin-price-levels-w...   \n",
       "\n",
       "                                               title  \\\n",
       "0     Bitcoin Price Update: Will China Lead us Down?   \n",
       "1  Key Bitcoin Price Levels for Week 51 (15 – 22 ...   \n",
       "\n",
       "                                                text  \\\n",
       "0  Bitcoin Priced in USD on Mt. GoxAbove is Gox p...   \n",
       "1  The Bitcoin price up to 2013/12/14, with Fib l...   \n",
       "\n",
       "                                                html    year       author  \\\n",
       "0  <figure id=\"attachment_4090\" style=\"width: 838...  2013.0  Gordon Hall   \n",
       "1  <figure id=\"attachment_3961\" style=\"width: 838...  2013.0  Gordon Hall   \n",
       "\n",
       "             source cleaned_title date  num_words  \n",
       "0  altcoin_analysis           NaN  NaN        NaN  \n",
       "1  altcoin_analysis           NaN  NaN        NaN  "
      ]
     },
     "execution_count": 14,
     "metadata": {},
     "output_type": "execute_result"
    }
   ],
   "source": [
    "metadata_df.head(2)"
   ]
  },
  {
   "cell_type": "code",
   "execution_count": 15,
   "id": "ac2b4afb",
   "metadata": {
    "scrolled": true
   },
   "outputs": [],
   "source": [
    "df_with_metadata = df[['title_id', 'title', 'label', 'annot_time']].merge(\n",
    "    metadata_df[['title', 'url', 'date']], on='title', how='left')"
   ]
  },
  {
   "cell_type": "code",
   "execution_count": 16,
   "id": "5fcc730b",
   "metadata": {},
   "outputs": [
    {
     "name": "stdout",
     "output_type": "stream",
     "text": [
      "<class 'pandas.core.frame.DataFrame'>\n",
      "Int64Index: 4758 entries, 0 to 4757\n",
      "Data columns (total 6 columns):\n",
      " #   Column      Non-Null Count  Dtype \n",
      "---  ------      --------------  ----- \n",
      " 0   title_id    4758 non-null   int64 \n",
      " 1   title       4758 non-null   object\n",
      " 2   label       4758 non-null   int64 \n",
      " 3   annot_time  4758 non-null   object\n",
      " 4   url         3209 non-null   object\n",
      " 5   date        492 non-null    object\n",
      "dtypes: int64(2), object(4)\n",
      "memory usage: 260.2+ KB\n"
     ]
    }
   ],
   "source": [
    "df_with_metadata.info()"
   ]
  },
  {
   "cell_type": "markdown",
   "id": "b334ab4e",
   "metadata": {},
   "source": [
    "We fill in sources (URLs) with \"missing\", and publication dates – with a random date from 2017-2018"
   ]
  },
  {
   "cell_type": "code",
   "execution_count": 17,
   "id": "7a14d004",
   "metadata": {},
   "outputs": [],
   "source": [
    "from random import randrange\n",
    "from datetime import timedelta, datetime\n",
    "\n",
    "def random_date(start, end):\n",
    "    \"\"\"\n",
    "    This function will return a random datetime between two datetime \n",
    "    objects.\n",
    "    \"\"\"\n",
    "    delta = end - start\n",
    "    int_delta = (delta.days * 24 * 60 * 60) + delta.seconds\n",
    "    random_second = randrange(int_delta)\n",
    "    return start + timedelta(seconds=random_second)"
   ]
  },
  {
   "cell_type": "code",
   "execution_count": 18,
   "id": "682ffc1a",
   "metadata": {},
   "outputs": [],
   "source": [
    "df_with_metadata['source'] = df_with_metadata['url'].fillna('missing')\n",
    "df_with_metadata['pub_time'] = [random_date(start=datetime.strptime('2017-01-01', \"%Y-%m-%d\"),\n",
    "            end=datetime.strptime('2018-12-31', \"%Y-%m-%d\")).strftime(\"%Y-%m-%d\")\n",
    "                               for _ in range(len(df_with_metadata))]"
   ]
  },
  {
   "cell_type": "code",
   "execution_count": 19,
   "id": "81783e40",
   "metadata": {},
   "outputs": [],
   "source": [
    "df_with_metadata = df_with_metadata[['title_id', 'title', 'source', 'pub_time', 'label', 'annot_time']]"
   ]
  },
  {
   "cell_type": "code",
   "execution_count": 20,
   "id": "ba7465a6",
   "metadata": {},
   "outputs": [
    {
     "name": "stdout",
     "output_type": "stream",
     "text": [
      "<class 'pandas.core.frame.DataFrame'>\n",
      "Int64Index: 4758 entries, 0 to 4757\n",
      "Data columns (total 6 columns):\n",
      " #   Column      Non-Null Count  Dtype \n",
      "---  ------      --------------  ----- \n",
      " 0   title_id    4758 non-null   int64 \n",
      " 1   title       4758 non-null   object\n",
      " 2   source      4758 non-null   object\n",
      " 3   pub_time    4758 non-null   object\n",
      " 4   label       4758 non-null   int64 \n",
      " 5   annot_time  4758 non-null   object\n",
      "dtypes: int64(2), object(4)\n",
      "memory usage: 260.2+ KB\n"
     ]
    }
   ],
   "source": [
    "df_with_metadata.info()"
   ]
  },
  {
   "cell_type": "code",
   "execution_count": 21,
   "id": "02c4748b",
   "metadata": {},
   "outputs": [
    {
     "data": {
      "text/html": [
       "<div>\n",
       "<style scoped>\n",
       "    .dataframe tbody tr th:only-of-type {\n",
       "        vertical-align: middle;\n",
       "    }\n",
       "\n",
       "    .dataframe tbody tr th {\n",
       "        vertical-align: top;\n",
       "    }\n",
       "\n",
       "    .dataframe thead th {\n",
       "        text-align: right;\n",
       "    }\n",
       "</style>\n",
       "<table border=\"1\" class=\"dataframe\">\n",
       "  <thead>\n",
       "    <tr style=\"text-align: right;\">\n",
       "      <th></th>\n",
       "      <th>title_id</th>\n",
       "      <th>title</th>\n",
       "      <th>source</th>\n",
       "      <th>pub_time</th>\n",
       "      <th>label</th>\n",
       "      <th>annot_time</th>\n",
       "    </tr>\n",
       "  </thead>\n",
       "  <tbody>\n",
       "    <tr>\n",
       "      <th>0</th>\n",
       "      <td>-112618357</td>\n",
       "      <td>Burger King in Russia Enable Bitcoin Payments ...</td>\n",
       "      <td>https://www.newsbtc.com/2017/06/28/burger-king...</td>\n",
       "      <td>2018-11-03</td>\n",
       "      <td>2</td>\n",
       "      <td>2019-01-01</td>\n",
       "    </tr>\n",
       "    <tr>\n",
       "      <th>1</th>\n",
       "      <td>-451501667</td>\n",
       "      <td>Bitcoin Mining Giant Bitmain to Release Next-G...</td>\n",
       "      <td>missing</td>\n",
       "      <td>2017-03-13</td>\n",
       "      <td>2</td>\n",
       "      <td>2019-01-01</td>\n",
       "    </tr>\n",
       "  </tbody>\n",
       "</table>\n",
       "</div>"
      ],
      "text/plain": [
       "    title_id                                              title  \\\n",
       "0 -112618357  Burger King in Russia Enable Bitcoin Payments ...   \n",
       "1 -451501667  Bitcoin Mining Giant Bitmain to Release Next-G...   \n",
       "\n",
       "                                              source    pub_time  label  \\\n",
       "0  https://www.newsbtc.com/2017/06/28/burger-king...  2018-11-03      2   \n",
       "1                                            missing  2017-03-13      2   \n",
       "\n",
       "   annot_time  \n",
       "0  2019-01-01  \n",
       "1  2019-01-01  "
      ]
     },
     "execution_count": 21,
     "metadata": {},
     "output_type": "execute_result"
    }
   ],
   "source": [
    "df_with_metadata.head(2)"
   ]
  },
  {
   "cell_type": "markdown",
   "id": "40d70052",
   "metadata": {},
   "source": [
    "We need 'title_id', 'title', 'source', 'pub_time' for the `news_titles` table and 'title_id', 'label', 'annot_time' for the `labeled_news_titles` table. "
   ]
  },
  {
   "cell_type": "code",
   "execution_count": 22,
   "id": "caac1f89",
   "metadata": {},
   "outputs": [],
   "source": [
    "df_with_metadata[['title_id', 'title', 'source', 'pub_time']].to_csv('../data/20220606_news_titles_to_import.csv',\n",
    "                                                                    index=None)\n",
    "df_with_metadata[['title_id', 'label', 'annot_time']].to_csv('../data/20220606_labeled_news_titles_to_import.csv',\n",
    "                                                                    index=None)"
   ]
  }
 ],
 "metadata": {
  "kernelspec": {
   "display_name": "Python 3 (ipykernel)",
   "language": "python",
   "name": "python3"
  },
  "language_info": {
   "codemirror_mode": {
    "name": "ipython",
    "version": 3
   },
   "file_extension": ".py",
   "mimetype": "text/x-python",
   "name": "python",
   "nbconvert_exporter": "python",
   "pygments_lexer": "ipython3",
   "version": "3.10.4"
  }
 },
 "nbformat": 4,
 "nbformat_minor": 5
}
