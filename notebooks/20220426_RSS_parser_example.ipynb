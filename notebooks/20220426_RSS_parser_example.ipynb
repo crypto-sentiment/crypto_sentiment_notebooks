{
 "cells": [
  {
   "cell_type": "markdown",
   "metadata": {
    "id": "T5Iq2iHVlRtx"
   },
   "source": [
    "## Author\n",
    "Nikita Zakharov\n",
    "\n",
    "## Reference\n",
    "[Notion ticket](https://www.notion.so/0616f7dfedd7459bae5f01a75f4fcc39)\n",
    "\n",
    "## Idea\n",
    "RSS feed - an API that gives you the latest posts or news from the site. It used to be popular, it's rarer now, but it's still there somewhere!\n",
    "RSS feeds are easier to parse than HTML page code, so it's much easier to do automatic parsing every day.\n",
    "In addition, the news in such feeds is selected by humans, so you don't have to come up with heuristics that would filter news from non-news.\n",
    "\n",
    "## Results\n",
    "- ~1k up-to-date feeds are saved locally, of which 212 were published in the past day\n",
    "- removed hungarian and spanish sources\n"
   ]
  },
  {
   "cell_type": "code",
   "execution_count": 1,
   "metadata": {
    "colab": {
     "base_uri": "https://localhost:8080/"
    },
    "id": "pi1osOB-y4ri",
    "outputId": "c64c6997-75c6-40ce-dcd0-a98033ebc499"
   },
   "outputs": [],
   "source": [
    "#pip install feedparser"
   ]
  },
  {
   "cell_type": "code",
   "execution_count": 2,
   "metadata": {
    "colab": {
     "base_uri": "https://localhost:8080/"
    },
    "id": "ZjbQFothF4Km",
    "outputId": "f13c928a-eaf9-46ee-ad8c-63cbe68599fc"
   },
   "outputs": [],
   "source": [
    "#pip install spacy_langdetect"
   ]
  },
  {
   "cell_type": "code",
   "execution_count": 3,
   "metadata": {
    "id": "flzG3ltG0o1E"
   },
   "outputs": [],
   "source": [
    "import pandas as pd\n",
    "import feedparser\n",
    "from tqdm import tqdm\n",
    "import numpy as np\n",
    "import matplotlib.pyplot as plt\n",
    "%config InlineBackend.figure_format = 'retina' # sharper plots\n",
    "\n",
    "import spacy\n",
    "from spacy.language import Language\n",
    "from spacy_langdetect import LanguageDetector"
   ]
  },
  {
   "cell_type": "markdown",
   "metadata": {},
   "source": [
    "**Parsing RSS feeds from the pre-defined list of feeds.**"
   ]
  },
  {
   "cell_type": "code",
   "execution_count": 4,
   "metadata": {
    "id": "Q7jSxokZ9JMd"
   },
   "outputs": [
    {
     "name": "stderr",
     "output_type": "stream",
     "text": [
      "100%|██████████████████████████████████████████████████████████████████████████████████████████████████████████████████████████████████████| 154/154 [05:46<00:00,  2.25s/it]\n"
     ]
    }
   ],
   "source": [
    "feeds_df = pd.read_csv('../data/crypto_feeds_rss.csv')\n",
    "urls = list(feeds_df.Feeds)\n",
    "feeds = [feedparser.parse(url)['entries'] for url in tqdm(urls)]"
   ]
  },
  {
   "cell_type": "markdown",
   "metadata": {
    "id": "z_2ieysuH9fG"
   },
   "source": [
    "**Removing empty feeds** (TODO: move all processing code to a single function/method)."
   ]
  },
  {
   "cell_type": "code",
   "execution_count": 5,
   "metadata": {
    "colab": {
     "base_uri": "https://localhost:8080/"
    },
    "id": "DFsPaI0_BAPw",
    "outputId": "70dd2c98-e2a0-46fa-ab48-b0bb40c99ab7"
   },
   "outputs": [
    {
     "name": "stdout",
     "output_type": "stream",
     "text": [
      "Empty feed: https://blog.bitpanda.com/feed\n",
      "Empty feed: https://coinatmradar.com/blog/feed/?x=1\n",
      "Empty feed: https://www.coin.space/feed/\n",
      "Empty feed: https://blog.coinspectator.com/feed/\n",
      "Empty feed: https://bitcoinwarrior.net/feed/\n",
      "Empty feed: https://belfrics.com/blog/feed/\n",
      "Empty feed: https://www.hegion.com/feed\n",
      "Empty feed: https://bitcoin-millionaire.com/feed/\n",
      "Empty feed: https://blog.flitpay.in/feed/\n",
      "Empty feed: https://paperblockchain.com/feed/\n",
      "Empty feed: http://bitcoinmxn.com/feed\n",
      "Empty feed: https://blog.spectrocoin.com/en/feed/\n",
      "Empty feed: https://oilblockchain.news/feed/\n",
      "Empty feed: https://coincurrencynews.com/feed/\n",
      "Empty feed: https://www.goldsilveranalyst.com/feed\n",
      "Empty feed: https://blog.zebpay.com/feed\n",
      "Empty feed: https://bitcoinspakistan.com/feed/\n",
      "Empty feed: https://blog.feedspot.com/feed/\n",
      "Empty feed: https://cryptoslate.com/feed/\n"
     ]
    }
   ],
   "source": [
    "non_empty_feeds = []\n",
    "for i, feed in enumerate(feeds):\n",
    "    if len(feed) > 0:\n",
    "        non_empty_feeds.append(feed)\n",
    "    else:\n",
    "        print(f\"Empty feed: {feeds_df.loc[i, 'Feeds']}\")"
   ]
  },
  {
   "cell_type": "markdown",
   "metadata": {
    "id": "lrxxPolOIDBh"
   },
   "source": [
    "**Looking for feeds that do not have a date for each news item**"
   ]
  },
  {
   "cell_type": "code",
   "execution_count": 6,
   "metadata": {
    "colab": {
     "base_uri": "https://localhost:8080/"
    },
    "id": "q8jCqgrF6VpT",
    "outputId": "8d0c7896-6dd9-4538-ae53-fbbfd8f30b81"
   },
   "outputs": [
    {
     "name": "stdout",
     "output_type": "stream",
     "text": [
      "Feed without date: https://www.dcforecasts.com/feed/\n"
     ]
    }
   ],
   "source": [
    "non_empty_feeds_with_date = []\n",
    "for i, feed in enumerate(non_empty_feeds):\n",
    "    if ('published' not in feed[1].keys()) and ('pubDate' not in feed[1].keys()):\n",
    "        print(f\"Feed without date: {feeds_df.loc[i, 'Feeds']}\")\n",
    "    else:\n",
    "        non_empty_feeds_with_date.append(feed)\n"
   ]
  },
  {
   "cell_type": "code",
   "execution_count": 7,
   "metadata": {
    "colab": {
     "base_uri": "https://localhost:8080/"
    },
    "id": "EWIxS0Az5Amw",
    "outputId": "5926745e-097c-4386-e02e-b4f25030179c"
   },
   "outputs": [
    {
     "name": "stdout",
     "output_type": "stream",
     "text": [
      "Feed without summary_detail: https://blog.coinbase.com/feed\n",
      "Feed without summary_detail: https://blog.trezor.io/feed\n",
      "Feed without summary_detail: https://bitcoinhub.co.za/feed/\n",
      "Feed without summary_detail: https://blog.flitpay.in/feed/\n",
      "Feed without summary_detail: https://oilblockchain.news/feed/\n",
      "Feed without summary_detail: https://coincurrencynews.com/feed/\n",
      "Feed without summary_detail: https://bitcoingoldprice.blogspot.com/feeds/posts/default?alt=rss\n",
      "Feed without summary_detail: https://btctrading.wordpress.com/feed/\n",
      "Feed without summary_detail: https://vaultoro.com/feed/\n",
      "Feed without summary_detail: https://cryptoslate.com/feed/\n"
     ]
    }
   ],
   "source": [
    "for i, feed in enumerate(non_empty_feeds_with_date):\n",
    "    if ('summary_detail' not in feed[1].keys()):\n",
    "        print(f\"Feed without summary_detail: {feeds_df.loc[i, 'Feeds']}\")"
   ]
  },
  {
   "cell_type": "markdown",
   "metadata": {
    "id": "INkqoW3nj2Dg"
   },
   "source": [
    "**Convert to dataframe** (TODO: this code is quite ugly, needs refactoring)."
   ]
  },
  {
   "cell_type": "code",
   "execution_count": 8,
   "metadata": {
    "id": "JAYAjj8lbVqe"
   },
   "outputs": [],
   "source": [
    "news_df = pd.DataFrame(columns={'title': [], 'date_published': [],\n",
    "                       'source': []})\n",
    "\n",
    "for k in non_empty_feeds_with_date:\n",
    "    for j in range(len(k)):\n",
    "        if 'summary_detail' in k[j].keys() and 'title_detail' \\\n",
    "            in k[j].keys():\n",
    "            if 'published' in k[j].keys():\n",
    "                unit = pd.DataFrame({'title': [k[j].title],\n",
    "                                    'date_published': [k[j].published],\n",
    "                                    'source': [k[j].summary_detail['base'\n",
    "                                    ]]})\n",
    "            elif 'pubDate' in k[j].keys():\n",
    "                unit = pd.DataFrame({'title': [k[j].title],\n",
    "                                    'date_published': [k[j].pubDate],\n",
    "                                    'source': [k[j].summary_detail['base'\n",
    "                                    ]]})\n",
    "            news_df = pd.concat([news_df, unit], axis=0)\n",
    "        if 'summary_detail' not in k[j].keys() and 'title_detail' \\\n",
    "            in k[j].keys():\n",
    "            if 'published' in k[j].keys():\n",
    "                unit = pd.DataFrame({'title': [k[j].title],\n",
    "                                    'date_published': [k[j].published],\n",
    "                                    'source': [k[j].title_detail['base'\n",
    "                                    ]]})\n",
    "            elif 'pubDate' in k[j].keys():\n",
    "                unit = pd.DataFrame({'title': [k[j].title],\n",
    "                                    'date_published': [k[j].pubDate],\n",
    "                                    'source': [k[j].title_detail['base'\n",
    "                                    ]]})\n",
    "            news_df = pd.concat([news_df, unit], axis=0)"
   ]
  },
  {
   "cell_type": "markdown",
   "metadata": {
    "id": "404TiwZt884L"
   },
   "source": [
    "**Dropping duplicate news**"
   ]
  },
  {
   "cell_type": "code",
   "execution_count": 9,
   "metadata": {
    "id": "p99QmUOg8s61"
   },
   "outputs": [],
   "source": [
    "news_df = news_df.drop_duplicates(subset = ['title', 'source'])"
   ]
  },
  {
   "cell_type": "code",
   "execution_count": 10,
   "metadata": {},
   "outputs": [
    {
     "data": {
      "text/html": [
       "<div>\n",
       "<style scoped>\n",
       "    .dataframe tbody tr th:only-of-type {\n",
       "        vertical-align: middle;\n",
       "    }\n",
       "\n",
       "    .dataframe tbody tr th {\n",
       "        vertical-align: top;\n",
       "    }\n",
       "\n",
       "    .dataframe thead th {\n",
       "        text-align: right;\n",
       "    }\n",
       "</style>\n",
       "<table border=\"1\" class=\"dataframe\">\n",
       "  <thead>\n",
       "    <tr style=\"text-align: right;\">\n",
       "      <th></th>\n",
       "      <th>title</th>\n",
       "      <th>date_published</th>\n",
       "      <th>source</th>\n",
       "    </tr>\n",
       "  </thead>\n",
       "  <tbody>\n",
       "    <tr>\n",
       "      <th>0</th>\n",
       "      <td>Wen Lambo fixed? Mechanic receives first payme...</td>\n",
       "      <td>Tue, 26 Apr 2022 15:01:49 +0100</td>\n",
       "      <td>https://cointelegraph.com/feed</td>\n",
       "    </tr>\n",
       "    <tr>\n",
       "      <th>0</th>\n",
       "      <td>Bitcoin vs BTC miner stocks: Bitfarms mining c...</td>\n",
       "      <td>Tue, 26 Apr 2022 14:29:04 +0100</td>\n",
       "      <td>https://cointelegraph.com/feed</td>\n",
       "    </tr>\n",
       "    <tr>\n",
       "      <th>0</th>\n",
       "      <td>Crypto advocate mounts challenge to longtime S...</td>\n",
       "      <td>Tue, 26 Apr 2022 14:17:00 +0100</td>\n",
       "      <td>https://cointelegraph.com/feed</td>\n",
       "    </tr>\n",
       "    <tr>\n",
       "      <th>0</th>\n",
       "      <td>Chinese court rules marketplace guilty of mint...</td>\n",
       "      <td>Tue, 26 Apr 2022 14:08:34 +0100</td>\n",
       "      <td>https://cointelegraph.com/feed</td>\n",
       "    </tr>\n",
       "    <tr>\n",
       "      <th>0</th>\n",
       "      <td>Web3 solutions aim to make America’s real esta...</td>\n",
       "      <td>Tue, 26 Apr 2022 14:01:00 +0100</td>\n",
       "      <td>https://cointelegraph.com/feed</td>\n",
       "    </tr>\n",
       "  </tbody>\n",
       "</table>\n",
       "</div>"
      ],
      "text/plain": [
       "                                               title  \\\n",
       "0  Wen Lambo fixed? Mechanic receives first payme...   \n",
       "0  Bitcoin vs BTC miner stocks: Bitfarms mining c...   \n",
       "0  Crypto advocate mounts challenge to longtime S...   \n",
       "0  Chinese court rules marketplace guilty of mint...   \n",
       "0  Web3 solutions aim to make America’s real esta...   \n",
       "\n",
       "                    date_published                          source  \n",
       "0  Tue, 26 Apr 2022 15:01:49 +0100  https://cointelegraph.com/feed  \n",
       "0  Tue, 26 Apr 2022 14:29:04 +0100  https://cointelegraph.com/feed  \n",
       "0  Tue, 26 Apr 2022 14:17:00 +0100  https://cointelegraph.com/feed  \n",
       "0  Tue, 26 Apr 2022 14:08:34 +0100  https://cointelegraph.com/feed  \n",
       "0  Tue, 26 Apr 2022 14:01:00 +0100  https://cointelegraph.com/feed  "
      ]
     },
     "execution_count": 10,
     "metadata": {},
     "output_type": "execute_result"
    }
   ],
   "source": [
    "news_df.head()"
   ]
  },
  {
   "cell_type": "markdown",
   "metadata": {
    "id": "U-rZHDtaHNSr"
   },
   "source": [
    "**Detecting language of title, removing non-English text**"
   ]
  },
  {
   "cell_type": "code",
   "execution_count": 11,
   "metadata": {},
   "outputs": [
    {
     "data": {
      "text/plain": [
       "<spacy_langdetect.spacy_langdetect.LanguageDetector at 0x143d8e380>"
      ]
     },
     "execution_count": 11,
     "metadata": {},
     "output_type": "execute_result"
    }
   ],
   "source": [
    "def get_lang_detector(nlp, name):\n",
    "    return LanguageDetector()\n",
    "\n",
    "nlp = spacy.load(\"en_core_web_sm\")\n",
    "Language.factory(\"language_detector\", func=get_lang_detector)\n",
    "nlp.add_pipe('language_detector', last=True)"
   ]
  },
  {
   "cell_type": "code",
   "execution_count": 12,
   "metadata": {
    "id": "TpYiCYVdHR54"
   },
   "outputs": [],
   "source": [
    "news_df['language'] = list(map(lambda row: nlp(row)._.language['language'], news_df['title']))"
   ]
  },
  {
   "cell_type": "code",
   "execution_count": 13,
   "metadata": {
    "colab": {
     "base_uri": "https://localhost:8080/"
    },
    "id": "ejXnCVgDHTZl",
    "outputId": "8143a0a1-45b5-48fd-ba73-f774ecdac0d2"
   },
   "outputs": [
    {
     "data": {
      "text/plain": [
       "en         3416\n",
       "no           31\n",
       "de           30\n",
       "da           22\n",
       "nl           14\n",
       "fr           13\n",
       "tl            7\n",
       "ca            7\n",
       "sv            7\n",
       "id            6\n",
       "it            5\n",
       "ro            3\n",
       "pt            3\n",
       "af            3\n",
       "et            2\n",
       "es            2\n",
       "so            1\n",
       "sw            1\n",
       "tr            1\n",
       "UNKNOWN       1\n",
       "Name: language, dtype: int64"
      ]
     },
     "execution_count": 13,
     "metadata": {},
     "output_type": "execute_result"
    }
   ],
   "source": [
    "news_df.language.value_counts()"
   ]
  },
  {
   "cell_type": "markdown",
   "metadata": {},
   "source": [
    "**Leaving only the news in English and filtering out the rest.**"
   ]
  },
  {
   "cell_type": "code",
   "execution_count": 14,
   "metadata": {
    "id": "yhFGf2GKH2fe"
   },
   "outputs": [],
   "source": [
    "news_df = news_df[news_df.language == 'en']"
   ]
  },
  {
   "cell_type": "markdown",
   "metadata": {},
   "source": [
    "**Basic analysis of the number of news over time**"
   ]
  },
  {
   "cell_type": "code",
   "execution_count": 15,
   "metadata": {
    "colab": {
     "base_uri": "https://localhost:8080/"
    },
    "id": "nVSUgOhmwOnJ",
    "outputId": "b451a506-5e15-4a47-d817-61d6e5ba18a6"
   },
   "outputs": [
    {
     "name": "stderr",
     "output_type": "stream",
     "text": [
      "/Library/Frameworks/Python.framework/Versions/3.10/lib/python3.10/site-packages/dateutil/parser/_parser.py:1207: UnknownTimezoneWarning: tzname EST identified but not understood.  Pass `tzinfos` argument in order to correctly return a timezone-aware datetime.  In a future version, this will raise an exception.\n",
      "  warnings.warn(\"tzname {tzname} identified but not understood.  \"\n",
      "/Library/Frameworks/Python.framework/Versions/3.10/lib/python3.10/site-packages/dateutil/parser/_parser.py:1207: UnknownTimezoneWarning: tzname EDT identified but not understood.  Pass `tzinfos` argument in order to correctly return a timezone-aware datetime.  In a future version, this will raise an exception.\n",
      "  warnings.warn(\"tzname {tzname} identified but not understood.  \"\n"
     ]
    }
   ],
   "source": [
    "news_df['date'] = pd.to_datetime(news_df['date_published'], utc=True)\n",
    "news_df['date'] = news_df['date'].dt.date\n",
    "dates = pd.DataFrame(news_df.date.value_counts().reset_index()).sort_values('index')"
   ]
  },
  {
   "cell_type": "code",
   "execution_count": 16,
   "metadata": {
    "colab": {
     "base_uri": "https://localhost:8080/",
     "height": 282
    },
    "id": "UOXtL1KmrjDo",
    "outputId": "67a72c85-2b71-457e-80f0-e5c73f594f5b"
   },
   "outputs": [
    {
     "data": {
      "image/png": "[encoded data removed]",
      "text/plain": [
       "<Figure size 432x288 with 1 Axes>"
      ]
     },
     "metadata": {
      "image/png": {
       "height": 251,
       "width": 375
      },
      "needs_background": "light"
     },
     "output_type": "display_data"
    }
   ],
   "source": [
    "plt.plot(dates['index'], dates.date, linestyle = 'solid');"
   ]
  },
  {
   "cell_type": "markdown",
   "metadata": {
    "id": "q-6HhRne1UWH"
   },
   "source": [
    "There is a certain amount of old news, they need to be removed"
   ]
  },
  {
   "cell_type": "code",
   "execution_count": 18,
   "metadata": {
    "colab": {
     "base_uri": "https://localhost:8080/"
    },
    "id": "5VvauLmQ0bZF",
    "outputId": "8c02ab14-46ac-497d-dced-740f0eeb895f"
   },
   "outputs": [
    {
     "data": {
      "text/plain": [
       "1477"
      ]
     },
     "execution_count": 18,
     "metadata": {},
     "output_type": "execute_result"
    }
   ],
   "source": [
    "news_df = news_df[news_df.date > (pd.to_datetime(\"today\") - np.timedelta64(1, 'M')).date()]\n",
    "len(news_df)"
   ]
  },
  {
   "cell_type": "code",
   "execution_count": 19,
   "metadata": {
    "colab": {
     "base_uri": "https://localhost:8080/",
     "height": 282
    },
    "id": "rubILtNF2M6e",
    "outputId": "bcf15105-9287-456f-df6b-081cc313ce07"
   },
   "outputs": [
    {
     "data": {
      "image/png": "[encoded data removed]",
      "text/plain": [
       "<Figure size 432x288 with 1 Axes>"
      ]
     },
     "metadata": {
      "image/png": {
       "height": 251,
       "width": 378
      },
      "needs_background": "light"
     },
     "output_type": "display_data"
    }
   ],
   "source": [
    "dates = pd.DataFrame(news_df.date.value_counts().reset_index()).sort_values('index')\n",
    "plt.plot(dates['index'], dates.date, linestyle = 'solid');"
   ]
  },
  {
   "cell_type": "code",
   "execution_count": 20,
   "metadata": {
    "colab": {
     "base_uri": "https://localhost:8080/"
    },
    "id": "P3FV_Z291o6k",
    "outputId": "cf904fad-4cb7-450e-eb00-382d8eaad6be"
   },
   "outputs": [
    {
     "data": {
      "text/plain": [
       "512"
      ]
     },
     "execution_count": 20,
     "metadata": {},
     "output_type": "execute_result"
    }
   ],
   "source": [
    "latest_news = news_df[news_df.date > (pd.to_datetime(\"today\") - np.timedelta64(2, 'D')).date()]\n",
    "len(latest_news)"
   ]
  },
  {
   "cell_type": "code",
   "execution_count": 21,
   "metadata": {
    "colab": {
     "base_uri": "https://localhost:8080/"
    },
    "id": "orz19m2E8QMo",
    "outputId": "cd4de2a2-ece2-4c86-812c-5bb1d0ea5d3d"
   },
   "outputs": [
    {
     "data": {
      "text/plain": [
       "https://u.today/                                      36\n",
       "https://cointelegraph.com/feed                        30\n",
       "https://decrypt.co/feed                               19\n",
       "https://www.cryptonewsz.com/feed/                     19\n",
       "https://www.investorideas.com/rss/feeds/iimain.xml    18\n",
       "                                                      ..\n",
       "https://coindoo.com/feed/                              1\n",
       "https://about.crunchbase.com/blog/feed/                1\n",
       "https://blog.coinbaazar.com/feed/                      1\n",
       "https://www.bitrates.com/feed/rss                      1\n",
       "https://blog.aragon.org/rss/                           1\n",
       "Name: source, Length: 67, dtype: int64"
      ]
     },
     "execution_count": 21,
     "metadata": {},
     "output_type": "execute_result"
    }
   ],
   "source": [
    "latest_news.source.value_counts()"
   ]
  }
 ],
 "metadata": {
  "colab": {
   "collapsed_sections": [],
   "name": "RSS-parser.ipynb",
   "provenance": []
  },
  "kernelspec": {
   "display_name": "Python 3 (ipykernel)",
   "language": "python",
   "name": "python3"
  },
  "language_info": {
   "codemirror_mode": {
    "name": "ipython",
    "version": 3
   },
   "file_extension": ".py",
   "mimetype": "text/x-python",
   "name": "python",
   "nbconvert_exporter": "python",
   "pygments_lexer": "ipython3",
   "version": "3.10.4"
  }
 },
 "nbformat": 4,
 "nbformat_minor": 1
}
