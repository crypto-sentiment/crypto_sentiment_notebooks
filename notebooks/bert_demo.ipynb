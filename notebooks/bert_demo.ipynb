{
 "cells": [
  {
   "cell_type": "code",
   "execution_count": 19,
   "id": "3e34727b",
   "metadata": {},
   "outputs": [],
   "source": [
    "import pandas as pd\n",
    "import yaml\n",
    "\n",
    "from sklearn.metrics import classification_report\n",
    "\n",
    "from bert_demo.dataset import split_train_val\n",
    "from bert_demo.train import train_model\n",
    "from bert_demo.pipeline import SentimentPipeline, Predictor\n",
    "\n",
    "import warnings\n",
    "warnings.filterwarnings('ignore')\n",
    "\n",
    "import logging\n",
    "logging.disable(logging.INFO)\n",
    "logging.disable(logging.WARNING)"
   ]
  },
  {
   "cell_type": "markdown",
   "id": "ea09716e",
   "metadata": {},
   "source": [
    "### Read data"
   ]
  },
  {
   "cell_type": "code",
   "execution_count": 8,
   "id": "a5e546c6",
   "metadata": {},
   "outputs": [],
   "source": [
    "DATA_PATH = \"/artifacts/data/20190110_train_4500.csv\""
   ]
  },
  {
   "cell_type": "code",
   "execution_count": 9,
   "id": "b4c2c3e0",
   "metadata": {},
   "outputs": [],
   "source": [
    "dataset = pd.read_csv(DATA_PATH)"
   ]
  },
  {
   "cell_type": "code",
   "execution_count": 10,
   "id": "4e72881c",
   "metadata": {},
   "outputs": [],
   "source": [
    "label_mapping = {\"Negative\": 0, \"Positive\": 2, \"Neutral\": 1}"
   ]
  },
  {
   "cell_type": "code",
   "execution_count": 11,
   "id": "8f50a514",
   "metadata": {},
   "outputs": [],
   "source": [
    "dataset[\"label\"] = dataset[\"sentiment\"].map(label_mapping)"
   ]
  },
  {
   "cell_type": "code",
   "execution_count": 12,
   "id": "f58d0d48",
   "metadata": {},
   "outputs": [
    {
     "data": {
      "text/html": [
       "<div>\n",
       "<style scoped>\n",
       "    .dataframe tbody tr th:only-of-type {\n",
       "        vertical-align: middle;\n",
       "    }\n",
       "\n",
       "    .dataframe tbody tr th {\n",
       "        vertical-align: top;\n",
       "    }\n",
       "\n",
       "    .dataframe thead th {\n",
       "        text-align: right;\n",
       "    }\n",
       "</style>\n",
       "<table border=\"1\" class=\"dataframe\">\n",
       "  <thead>\n",
       "    <tr style=\"text-align: right;\">\n",
       "      <th></th>\n",
       "      <th>title</th>\n",
       "      <th>sentiment</th>\n",
       "      <th>label</th>\n",
       "    </tr>\n",
       "  </thead>\n",
       "  <tbody>\n",
       "    <tr>\n",
       "      <th>0</th>\n",
       "      <td>Bitcoin Market Has Run Out of Juice: Cryptocur...</td>\n",
       "      <td>Negative</td>\n",
       "      <td>0</td>\n",
       "    </tr>\n",
       "    <tr>\n",
       "      <th>1</th>\n",
       "      <td>Bitcoin Core 0.14.0 Speeds Up Blockchain Synci...</td>\n",
       "      <td>Positive</td>\n",
       "      <td>2</td>\n",
       "    </tr>\n",
       "    <tr>\n",
       "      <th>2</th>\n",
       "      <td>Thinking of Travelling With Bitcoin? With Thes...</td>\n",
       "      <td>Positive</td>\n",
       "      <td>2</td>\n",
       "    </tr>\n",
       "    <tr>\n",
       "      <th>3</th>\n",
       "      <td>Investors Carried Out Mental Gymnastics to Jus...</td>\n",
       "      <td>Negative</td>\n",
       "      <td>0</td>\n",
       "    </tr>\n",
       "    <tr>\n",
       "      <th>4</th>\n",
       "      <td>Bitcoin Price Holds Above $8,500 as Market Fig...</td>\n",
       "      <td>Positive</td>\n",
       "      <td>2</td>\n",
       "    </tr>\n",
       "  </tbody>\n",
       "</table>\n",
       "</div>"
      ],
      "text/plain": [
       "                                               title sentiment  label\n",
       "0  Bitcoin Market Has Run Out of Juice: Cryptocur...  Negative      0\n",
       "1  Bitcoin Core 0.14.0 Speeds Up Blockchain Synci...  Positive      2\n",
       "2  Thinking of Travelling With Bitcoin? With Thes...  Positive      2\n",
       "3  Investors Carried Out Mental Gymnastics to Jus...  Negative      0\n",
       "4  Bitcoin Price Holds Above $8,500 as Market Fig...  Positive      2"
      ]
     },
     "execution_count": 12,
     "metadata": {},
     "output_type": "execute_result"
    }
   ],
   "source": [
    "dataset.head()"
   ]
  },
  {
   "cell_type": "markdown",
   "id": "6bb634d3",
   "metadata": {},
   "source": [
    "### Config"
   ]
  },
  {
   "cell_type": "code",
   "execution_count": 13,
   "id": "13e2c49a",
   "metadata": {},
   "outputs": [],
   "source": [
    "cfg_str = \"\"\"\n",
    "epochs: 3\n",
    "train_batch_size: 32\n",
    "val_batch_size: 64\n",
    "seed: 42\n",
    "checkpoint_path: bert_demo/checkpoints/\n",
    "\n",
    "model_name: &model_name distilbert-base-uncased\n",
    "\n",
    "tokenizer:\n",
    "    class: transformers.DistilBertTokenizer\n",
    "    params:\n",
    "        pretrained_model_name_or_path: *model_name\n",
    "        model_max_length: 50\n",
    "    call_params:\n",
    "        truncation: True\n",
    "        padding: True\n",
    "\n",
    "model:\n",
    "    class: transformers.DistilBertForSequenceClassification\n",
    "    params:\n",
    "        pretrained_model_name_or_path: *model_name\n",
    "        num_labels: 3\n",
    "\n",
    "optimizer:\n",
    "    class: transformers.AdamW\n",
    "    params:\n",
    "        lr: 0.000023\n",
    "        weight_decay: 0.001\n",
    "\n",
    "scheduler:\n",
    "    params:\n",
    "        name: polynomial\n",
    "        num_warmup_steps: 0\n",
    "\"\"\""
   ]
  },
  {
   "cell_type": "code",
   "execution_count": 14,
   "id": "92e67310",
   "metadata": {},
   "outputs": [],
   "source": [
    "cfg = yaml.safe_load(cfg_str)"
   ]
  },
  {
   "cell_type": "markdown",
   "id": "c52a5d4c",
   "metadata": {},
   "source": [
    "### Split data"
   ]
  },
  {
   "cell_type": "code",
   "execution_count": 15,
   "id": "42fc89e6",
   "metadata": {},
   "outputs": [],
   "source": [
    "train_data, val_data, train_labels, val_labels = split_train_val(dataset, test_size=0.2)"
   ]
  },
  {
   "cell_type": "markdown",
   "id": "5cc61646",
   "metadata": {},
   "source": [
    "### Train model"
   ]
  },
  {
   "cell_type": "code",
   "execution_count": 16,
   "id": "6e5ab019",
   "metadata": {},
   "outputs": [],
   "source": [
    "# output = train_model(\n",
    "#     cfg, \n",
    "#     train_data,\n",
    "#     train_labels,\n",
    "#     val_data,\n",
    "#     val_labels, \n",
    "#     return_predictions=True,\n",
    "#     return_model=True\n",
    "# )"
   ]
  },
  {
   "cell_type": "code",
   "execution_count": 17,
   "id": "5f5a8937",
   "metadata": {},
   "outputs": [],
   "source": [
    "# output.keys()"
   ]
  },
  {
   "cell_type": "code",
   "execution_count": 18,
   "id": "c4fcc9f9",
   "metadata": {},
   "outputs": [],
   "source": [
    "# output[\"scores\"]"
   ]
  },
  {
   "cell_type": "code",
   "execution_count": 20,
   "id": "8d6f8bc9",
   "metadata": {},
   "outputs": [],
   "source": [
    "# print(classification_report(val_labels, output[\"pred_labels\"], target_names=label_mapping.keys()))"
   ]
  },
  {
   "cell_type": "markdown",
   "id": "326167a3",
   "metadata": {},
   "source": [
    "### Inferenece"
   ]
  },
  {
   "cell_type": "code",
   "execution_count": 22,
   "id": "63d0dd04",
   "metadata": {},
   "outputs": [],
   "source": [
    "checkpoint_path = \"/artifacts/models/bert.ckpt\""
   ]
  },
  {
   "cell_type": "code",
   "execution_count": 25,
   "id": "0f5bcf3d",
   "metadata": {},
   "outputs": [],
   "source": [
    "model = SentimentPipeline.load_from_checkpoint(checkpoint_path, cfg=cfg)"
   ]
  },
  {
   "cell_type": "code",
   "execution_count": 26,
   "id": "250d63dd",
   "metadata": {},
   "outputs": [],
   "source": [
    "predictor = Predictor(model)"
   ]
  },
  {
   "cell_type": "code",
   "execution_count": 27,
   "id": "6e8f4031",
   "metadata": {},
   "outputs": [
    {
     "data": {
      "text/plain": [
       "array([[0.14236583, 0.11000765, 0.74762654],\n",
       "       [0.1488722 , 0.18346722, 0.66766053],\n",
       "       [0.01112188, 0.87461185, 0.11426619]], dtype=float32)"
      ]
     },
     "execution_count": 27,
     "metadata": {},
     "output_type": "execute_result"
    }
   ],
   "source": [
    "predictor([\n",
    "    \"btc does not drop by 10%\", \n",
    "    \"EU Won't Ban Bitcoin After All\",\n",
    "    \"BTC Price Tech Analysis for 08/02/2017  Back to Triangle Support\"\n",
    "])"
   ]
  },
  {
   "cell_type": "code",
   "execution_count": null,
   "id": "dac4a573",
   "metadata": {},
   "outputs": [],
   "source": []
  }
 ],
 "metadata": {
  "kernelspec": {
   "display_name": "Python 3 (ipykernel)",
   "language": "python",
   "name": "python3"
  },
  "language_info": {
   "codemirror_mode": {
    "name": "ipython",
    "version": 3
   },
   "file_extension": ".py",
   "mimetype": "text/x-python",
   "name": "python",
   "nbconvert_exporter": "python",
   "pygments_lexer": "ipython3",
   "version": "3.9.7"
  }
 },
 "nbformat": 4,
 "nbformat_minor": 5
}
