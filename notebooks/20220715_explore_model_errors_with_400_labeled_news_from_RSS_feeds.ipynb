{
 "cells": [
  {
   "cell_type": "markdown",
   "id": "89bd82c7",
   "metadata": {},
   "source": [
    "#### Author\n",
    "Yury Kashnitsky\n",
    "\n",
    "#### Reference\n",
    "[Notion ticket](https://www.notion.so/a74951e4e815480584dea7d61ddce6cc?v=dbfdb1207d0e451b827d3c5041ed0cfd&p=e67a0a723a964be29b138918aed7887b)\n",
    "\n",
    "#### Idea\n",
    "Explore model errors w.r.t.. to the 400 hand-labeled titles from RSS feeds\n",
    "\n",
    "#### Data\n",
    "400 news titles along with metadata – zipped pwd-protected [CSV file](https://drive.google.com/file/d/1cLXHBzZjHWjOIU52w8MnpzZU6vKEiUs8/view?usp=sharing) (not to be shared outside of the project)\n",
    "\n",
    "#### Result\n",
    "Key insights:\n",
    "\n",
    " - Accuracy is just slightly over 50%\n",
    " - Model errors are typically confirmed when compared to human labels: either the model is indeed wrong, or the case is controversial \n",
    " - There are 5 feeds with at least 10 news seen and accuracy <50% but the news from these sources don't look like rubbish"
   ]
  },
  {
   "cell_type": "code",
   "execution_count": 1,
   "id": "5fcd4dbc",
   "metadata": {},
   "outputs": [],
   "source": [
    "import numpy as np\n",
    "import pandas as pd\n",
    "\n",
    "from sklearn.metrics import classification_report\n",
    "\n",
    "from matplotlib import pyplot as plt\n",
    "import seaborn as sns\n",
    "%config InlineBackend.figure_format = 'retina'"
   ]
  },
  {
   "cell_type": "code",
   "execution_count": 2,
   "id": "f78b4864",
   "metadata": {},
   "outputs": [],
   "source": [
    "df = pd.read_csv('../data/labeled_news_titles_400_upto_20220715.csv', index_col='title_id')"
   ]
  },
  {
   "cell_type": "code",
   "execution_count": 3,
   "id": "2b75a480",
   "metadata": {},
   "outputs": [
    {
     "data": {
      "text/html": [
       "<div>\n",
       "<style scoped>\n",
       "    .dataframe tbody tr th:only-of-type {\n",
       "        vertical-align: middle;\n",
       "    }\n",
       "\n",
       "    .dataframe tbody tr th {\n",
       "        vertical-align: top;\n",
       "    }\n",
       "\n",
       "    .dataframe thead th {\n",
       "        text-align: right;\n",
       "    }\n",
       "</style>\n",
       "<table border=\"1\" class=\"dataframe\">\n",
       "  <thead>\n",
       "    <tr style=\"text-align: right;\">\n",
       "      <th></th>\n",
       "      <th>title</th>\n",
       "      <th>source</th>\n",
       "      <th>pub_time</th>\n",
       "      <th>negative</th>\n",
       "      <th>neutral</th>\n",
       "      <th>positive</th>\n",
       "      <th>predicted_class</th>\n",
       "      <th>label</th>\n",
       "      <th>annot_time</th>\n",
       "    </tr>\n",
       "    <tr>\n",
       "      <th>title_id</th>\n",
       "      <th></th>\n",
       "      <th></th>\n",
       "      <th></th>\n",
       "      <th></th>\n",
       "      <th></th>\n",
       "      <th></th>\n",
       "      <th></th>\n",
       "      <th></th>\n",
       "      <th></th>\n",
       "    </tr>\n",
       "  </thead>\n",
       "  <tbody>\n",
       "    <tr>\n",
       "      <th>1.257979e+09</th>\n",
       "      <td>Hester Peirce Urges The SEC To Stop Delaying A...</td>\n",
       "      <td>https://www.dcforecasts.com/feed/</td>\n",
       "      <td>2022-06-19 16:40:04</td>\n",
       "      <td>0.796737</td>\n",
       "      <td>0.075519</td>\n",
       "      <td>0.127744</td>\n",
       "      <td>0</td>\n",
       "      <td>2</td>\n",
       "      <td>2022-06-20 07:14:11</td>\n",
       "    </tr>\n",
       "    <tr>\n",
       "      <th>2.575180e+08</th>\n",
       "      <td>California Man Paid $13K In BTC To A Hitman To...</td>\n",
       "      <td>https://www.dcforecasts.com/feed/</td>\n",
       "      <td>2022-06-19 16:23:41</td>\n",
       "      <td>0.978666</td>\n",
       "      <td>0.009866</td>\n",
       "      <td>0.011468</td>\n",
       "      <td>0</td>\n",
       "      <td>0</td>\n",
       "      <td>2022-06-20 07:19:25</td>\n",
       "    </tr>\n",
       "    <tr>\n",
       "      <th>1.971236e+09</th>\n",
       "      <td>Bitcoin’s Dominance Over Altcoins Down By 5% A...</td>\n",
       "      <td>https://www.dcforecasts.com/feed/</td>\n",
       "      <td>2022-06-19 16:20:04</td>\n",
       "      <td>0.981520</td>\n",
       "      <td>0.006293</td>\n",
       "      <td>0.012187</td>\n",
       "      <td>0</td>\n",
       "      <td>1</td>\n",
       "      <td>2022-06-20 07:20:10</td>\n",
       "    </tr>\n",
       "    <tr>\n",
       "      <th>-1.733311e+09</th>\n",
       "      <td>Litecoin aims to hold $40 support and stop fur...</td>\n",
       "      <td>https://bitcoinwarrior.net/feed/</td>\n",
       "      <td>2022-06-20 14:48:46</td>\n",
       "      <td>0.056126</td>\n",
       "      <td>0.037808</td>\n",
       "      <td>0.906066</td>\n",
       "      <td>2</td>\n",
       "      <td>2</td>\n",
       "      <td>2022-06-20 07:18:40</td>\n",
       "    </tr>\n",
       "    <tr>\n",
       "      <th>-1.039760e+09</th>\n",
       "      <td>Cumberland Sees Massive OTC Moves During Crypt...</td>\n",
       "      <td>https://news.bitcoin.com/feed/</td>\n",
       "      <td>2022-06-19 18:00:17</td>\n",
       "      <td>0.048167</td>\n",
       "      <td>0.060548</td>\n",
       "      <td>0.891285</td>\n",
       "      <td>2</td>\n",
       "      <td>0</td>\n",
       "      <td>2022-06-20 07:18:30</td>\n",
       "    </tr>\n",
       "  </tbody>\n",
       "</table>\n",
       "</div>"
      ],
      "text/plain": [
       "                                                           title  \\\n",
       "title_id                                                           \n",
       " 1.257979e+09  Hester Peirce Urges The SEC To Stop Delaying A...   \n",
       " 2.575180e+08  California Man Paid $13K In BTC To A Hitman To...   \n",
       " 1.971236e+09  Bitcoin’s Dominance Over Altcoins Down By 5% A...   \n",
       "-1.733311e+09  Litecoin aims to hold $40 support and stop fur...   \n",
       "-1.039760e+09  Cumberland Sees Massive OTC Moves During Crypt...   \n",
       "\n",
       "                                          source             pub_time  \\\n",
       "title_id                                                                \n",
       " 1.257979e+09  https://www.dcforecasts.com/feed/  2022-06-19 16:40:04   \n",
       " 2.575180e+08  https://www.dcforecasts.com/feed/  2022-06-19 16:23:41   \n",
       " 1.971236e+09  https://www.dcforecasts.com/feed/  2022-06-19 16:20:04   \n",
       "-1.733311e+09   https://bitcoinwarrior.net/feed/  2022-06-20 14:48:46   \n",
       "-1.039760e+09     https://news.bitcoin.com/feed/  2022-06-19 18:00:17   \n",
       "\n",
       "               negative   neutral  positive  predicted_class  label  \\\n",
       "title_id                                                              \n",
       " 1.257979e+09  0.796737  0.075519  0.127744                0      2   \n",
       " 2.575180e+08  0.978666  0.009866  0.011468                0      0   \n",
       " 1.971236e+09  0.981520  0.006293  0.012187                0      1   \n",
       "-1.733311e+09  0.056126  0.037808  0.906066                2      2   \n",
       "-1.039760e+09  0.048167  0.060548  0.891285                2      0   \n",
       "\n",
       "                        annot_time  \n",
       "title_id                            \n",
       " 1.257979e+09  2022-06-20 07:14:11  \n",
       " 2.575180e+08  2022-06-20 07:19:25  \n",
       " 1.971236e+09  2022-06-20 07:20:10  \n",
       "-1.733311e+09  2022-06-20 07:18:40  \n",
       "-1.039760e+09  2022-06-20 07:18:30  "
      ]
     },
     "execution_count": 3,
     "metadata": {},
     "output_type": "execute_result"
    }
   ],
   "source": [
    "df.head()"
   ]
  },
  {
   "cell_type": "code",
   "execution_count": 4,
   "id": "89334bb7",
   "metadata": {},
   "outputs": [],
   "source": [
    "df['correct_pred'] = (df['predicted_class'] == df['label']).astype('uint8')"
   ]
  },
  {
   "cell_type": "code",
   "execution_count": 5,
   "id": "e20b5a69",
   "metadata": {},
   "outputs": [
    {
     "data": {
      "text/plain": [
       "0.5125"
      ]
     },
     "execution_count": 5,
     "metadata": {},
     "output_type": "execute_result"
    }
   ],
   "source": [
    "df['correct_pred'].mean()"
   ]
  },
  {
   "cell_type": "code",
   "execution_count": 6,
   "id": "79959fb1",
   "metadata": {},
   "outputs": [
    {
     "name": "stdout",
     "output_type": "stream",
     "text": [
      "              precision    recall  f1-score   support\n",
      "\n",
      "           0       0.48      0.63      0.55        98\n",
      "           1       0.78      0.41      0.53       229\n",
      "           2       0.33      0.68      0.44        73\n",
      "\n",
      "    accuracy                           0.51       400\n",
      "   macro avg       0.53      0.57      0.51       400\n",
      "weighted avg       0.63      0.51      0.52       400\n",
      "\n"
     ]
    }
   ],
   "source": [
    "print(classification_report(y_true=df['label'], y_pred=df['predicted_class']))"
   ]
  },
  {
   "cell_type": "code",
   "execution_count": 7,
   "id": "14b0258d",
   "metadata": {},
   "outputs": [
    {
     "data": {
      "text/html": [
       "<div>\n",
       "<style scoped>\n",
       "    .dataframe tbody tr th:only-of-type {\n",
       "        vertical-align: middle;\n",
       "    }\n",
       "\n",
       "    .dataframe tbody tr th {\n",
       "        vertical-align: top;\n",
       "    }\n",
       "\n",
       "    .dataframe thead th {\n",
       "        text-align: right;\n",
       "    }\n",
       "</style>\n",
       "<table border=\"1\" class=\"dataframe\">\n",
       "  <thead>\n",
       "    <tr style=\"text-align: right;\">\n",
       "      <th>label</th>\n",
       "      <th>0</th>\n",
       "      <th>1</th>\n",
       "      <th>2</th>\n",
       "    </tr>\n",
       "    <tr>\n",
       "      <th>predicted_class</th>\n",
       "      <th></th>\n",
       "      <th></th>\n",
       "      <th></th>\n",
       "    </tr>\n",
       "  </thead>\n",
       "  <tbody>\n",
       "    <tr>\n",
       "      <th>0</th>\n",
       "      <td>62</td>\n",
       "      <td>55</td>\n",
       "      <td>11</td>\n",
       "    </tr>\n",
       "    <tr>\n",
       "      <th>1</th>\n",
       "      <td>14</td>\n",
       "      <td>93</td>\n",
       "      <td>12</td>\n",
       "    </tr>\n",
       "    <tr>\n",
       "      <th>2</th>\n",
       "      <td>22</td>\n",
       "      <td>81</td>\n",
       "      <td>50</td>\n",
       "    </tr>\n",
       "  </tbody>\n",
       "</table>\n",
       "</div>"
      ],
      "text/plain": [
       "label             0   1   2\n",
       "predicted_class            \n",
       "0                62  55  11\n",
       "1                14  93  12\n",
       "2                22  81  50"
      ]
     },
     "execution_count": 7,
     "metadata": {},
     "output_type": "execute_result"
    }
   ],
   "source": [
    "pd.crosstab(df['predicted_class'], df['label'])"
   ]
  },
  {
   "cell_type": "markdown",
   "id": "10225367",
   "metadata": {},
   "source": [
    "## Exploring model errors"
   ]
  },
  {
   "cell_type": "markdown",
   "id": "5cf89b42",
   "metadata": {},
   "source": [
    "__Predicted as negative and labeled as positive__"
   ]
  },
  {
   "cell_type": "code",
   "execution_count": 8,
   "id": "6f1c4122",
   "metadata": {},
   "outputs": [
    {
     "data": {
      "text/plain": [
       "['Hester Peirce Urges The SEC To Stop Delaying Approval Of ETFs',\n",
       " \"'Can't stop, won't stop' — Bitcoin hodlers buy the dip at $20K BTC\",\n",
       " 'Crypto Market Deleveraging Might Soon End, JPMorgan Argues',\n",
       " 'Singapore regulators to protect retail traders from risky crypto trading activities',\n",
       " 'Qatar Doubles Down on its CBDC Plans',\n",
       " 'Coinbase NFT Released New Features While Struggling To Attract Traders',\n",
       " 'CryptoCom CEO Denies Imposing Withdrawal Restrictions',\n",
       " 'Argentines Take Refuge in Stablecoins After Economy Minister Resignation',\n",
       " 'Binance Becomes First Exchange to Cut Bitcoin Trading Fees',\n",
       " 'Anchorage launches Ethereum staking for institutional investors',\n",
       " '‘Cheaper than it looks:’ Fidelity exec says BTC undervalued and oversold']"
      ]
     },
     "execution_count": 8,
     "metadata": {},
     "output_type": "execute_result"
    }
   ],
   "source": [
    "df.loc[(df['predicted_class'] == 0) & (df['label'] == 2), 'title'].tolist()"
   ]
  },
  {
   "cell_type": "markdown",
   "id": "11f385af",
   "metadata": {},
   "source": [
    "Comments\n",
    " - \"Hester Peirce Urges The SEC To Stop Delaying Approval Of ETFs\" - the model got it wrong, \"stop delaying\" is a positive thing\n",
    " - \"'Can't stop, won't stop' — Bitcoin hodlers buy the dip at $20K BTC\" – someone is buying BTC at the dip, thus believing in BTC, the label is correct, the model got it wrong\n",
    " - \"Crypto Market Deleveraging Might Soon End, JPMorgan Argues\" – would mark it as neutral now\n",
    " - \"Singapore regulators to protect retail traders from risky crypto trading activities\" – it's about protecting traders, positive, the model is wrong\n",
    " - \"Qatar Doubles Down on its CBDC Plans\" - CBDC stands for \"Central bank digital currencies\", to \"double down\" means to act twice more actively, the news is positive, and the model is wrong\n",
    " - \"Coinbase NFT Released New Features While Struggling To Attract Traders\" - hard, controversial case, also relates to NFTs rather than to cryptocurrencies\n",
    " - \"CryptoCom CEO Denies Imposing Withdrawal Restrictions\" - controversial, it's bad that there are such rumors but good that CEO denies them\n",
    " - \"Argentines Take Refuge in Stablecoins After Economy Minister Resignation\" – that's clearly positive, the model is wrong\n",
    " - \"Binance Becomes First Exchange to Cut Bitcoin Trading Fees\" - clearly positive, the model is wrong, probably attended to \"cut\"\n",
    " - \"Anchorage launches Ethereum staking for institutional investors\" – sounds like neutral or positive but not negative, the model is wrong\n",
    " - \"'Cheaper than it looks:' Fidelity exec says BTC undervalued and oversold\" – Fidelity exec thinks that BTC should cost more, looks positive"
   ]
  },
  {
   "cell_type": "markdown",
   "id": "21e6aca9",
   "metadata": {},
   "source": [
    "__Predicted as positive and labeled as negative__"
   ]
  },
  {
   "cell_type": "code",
   "execution_count": 9,
   "id": "15ea3be6",
   "metadata": {},
   "outputs": [
    {
     "data": {
      "text/plain": [
       "['Cumberland Sees Massive OTC Moves During Crypto Market Rout — ‘Most Volume We’ve Seen This Year’',\n",
       " 'CoinFlex CEO: Restoring Withdrawals Could Take More Time Than Expected',\n",
       " 'EU agrees on MiCA regulation to crack down on crypto and stablecoins',\n",
       " 'CoinFLEX reveals Roger Ver as the counterparty responsible for its liquidity issues',\n",
       " 'Celsius Acquires More Advisors to Help With Bankruptcy',\n",
       " 'CoinLoan Reduces Withdrawal Limits but Claims No Exposure to Luna, Celsius, 3AC',\n",
       " 'Deutsche Bank Strategists Reveal The Real Reason Crypto Free Fall Is Likely To Continue',\n",
       " 'Crypto Market Liquidations Surges Past $250 Million As Bitcoin Declines Below $20,000',\n",
       " 'FTX Plans to Close on Buying BlockFi But Not Celsius Mess',\n",
       " 'FinTech Acquisition Corp Calls Off Merger With eToro: Report',\n",
       " \"Crypto Miner Core Scientific Dumps $165M Bitcoin to 'Enhance Liquidity'\",\n",
       " '“Bitcoin miners sell-off” is not over yet!\\xa0JPMorgan Chase: May last until the third quarter',\n",
       " 'Confusion In The Community Enhances As Vitalik Buterin Praises EOS',\n",
       " 'Robert Kiyosaki Will Buy Bitcoin When It Dips at $1,100',\n",
       " 'Institutional crypto asset products saw record weekly outflows of $423M',\n",
       " 'Bitcoin Approaches 2018 Like Drawdown, Why $20,000 Is A Crucial Level',\n",
       " 'Mad Money’s Jim Cramer Says Crypto Immolation Shows the Fed’s Job to Tame Inflation Is Almost Complete',\n",
       " 'Bitcoin price holds $20K, but analysts say ‘expect 6 months of sideways’ price action',\n",
       " 'Solana Broke Its Nearest Support, Vital Trading Levels To Keep An Eye On',\n",
       " 'Japan’s strategy to safeguard crypto investors after Terra Crash',\n",
       " 'President of Panama Partially Vetoes Crypto Law Passed by National Assembly',\n",
       " 'Crypto prices continue to tank, lawsuit takes aim at Binance.US, and Celsius moves $320M worth of digital assets: Hodler’s Digest, June 12-18']"
      ]
     },
     "execution_count": 9,
     "metadata": {},
     "output_type": "execute_result"
    }
   ],
   "source": [
    "df.loc[(df['predicted_class'] == 2) & (df['label'] == 0), 'title'].tolist()"
   ]
  },
  {
   "cell_type": "markdown",
   "id": "7e1664c8",
   "metadata": {},
   "source": [
    "Comments:\n",
    " - \"Cumberland Sees Massive OTC Moves During Crypto Market Rout — ‘Most Volume We’ve Seen This Year’\" - that's about people panicking, clearly negative, the model is wrong, probably attended to \"Most Volume We’ve Seen This Year\"\n",
    " - \"CoinFlex CEO: Restoring Withdrawals Could Take More Time Than Expected\" - bad, the model is wrong, probably attended to \"More Time\"\n",
    " - \"EU agrees on MiCA regulation to crack down on crypto and stablecoins\" - clearly negative, the model is wrong\n",
    " - \"CoinFLEX reveals Roger Ver as the counterparty responsible for its liquidity issues\" - sounds neutral actually\n",
    " - \"CoinLoan Reduces Withdrawal Limits but Claims No Exposure to Luna, Celsius, 3AC\" – bad, the model is wrong\n",
    " - \"Deutsche Bank Strategists Reveal The Real Reason Crypto Free Fall Is Likely To Continue\" – bad, the model is wrong"
   ]
  },
  {
   "cell_type": "markdown",
   "id": "c8149145",
   "metadata": {},
   "source": [
    "## Exploring accuracy vs. prediction confidence"
   ]
  },
  {
   "cell_type": "code",
   "execution_count": 10,
   "id": "df71065c",
   "metadata": {},
   "outputs": [],
   "source": [
    "df['max_pred_score'] = df[['negative', 'neutral', 'positive']].max(axis=1)"
   ]
  },
  {
   "cell_type": "markdown",
   "id": "6429cf66",
   "metadata": {},
   "source": [
    "Max predicted score distributions are similar when predictions are correct and when they are wrong"
   ]
  },
  {
   "cell_type": "code",
   "execution_count": 11,
   "id": "957afe70",
   "metadata": {},
   "outputs": [
    {
     "data": {
      "image/png": "[encoded data removed]",
      "text/plain": [
       "<Figure size 432x288 with 1 Axes>"
      ]
     },
     "metadata": {
      "image/png": {
       "height": 248,
       "width": 369
      },
      "needs_background": "light"
     },
     "output_type": "display_data"
    }
   ],
   "source": [
    "df.loc[df['correct_pred'] == 1, 'max_pred_score'].hist(alpha=0.5, label='correct pred');\n",
    "df.loc[df['correct_pred'] == 0, 'max_pred_score'].hist(alpha=0.5, label='wrong pred')\n",
    "plt.legend();"
   ]
  },
  {
   "cell_type": "code",
   "execution_count": 12,
   "id": "381fc80a",
   "metadata": {},
   "outputs": [],
   "source": [
    "bins = np.linspace(0.3, 1, 8)\n",
    "df['max_pred_score_bin'] = pd.cut(df['max_pred_score'], bins)"
   ]
  },
  {
   "cell_type": "code",
   "execution_count": 13,
   "id": "e0727560",
   "metadata": {},
   "outputs": [
    {
     "data": {
      "text/plain": [
       "max_pred_score_bin\n",
       "(0.3, 0.4]    0.533333\n",
       "(0.4, 0.5]    0.508475\n",
       "(0.5, 0.6]    0.453704\n",
       "(0.6, 0.7]    0.461538\n",
       "(0.7, 0.8]    0.621212\n",
       "(0.8, 0.9]    0.750000\n",
       "(0.9, 1.0]    0.629630\n",
       "Name: correct_pred, dtype: float64"
      ]
     },
     "execution_count": 13,
     "metadata": {},
     "output_type": "execute_result"
    }
   ],
   "source": [
    "df.groupby('max_pred_score_bin')['correct_pred'].mean()"
   ]
  },
  {
   "cell_type": "markdown",
   "id": "91640fa4",
   "metadata": {},
   "source": [
    "Accuracy of predictions slightly increases when max predicted scores are higher (i.e. when the model is \"confident\")"
   ]
  },
  {
   "cell_type": "code",
   "execution_count": 14,
   "id": "baad4d1c",
   "metadata": {
    "scrolled": true
   },
   "outputs": [
    {
     "data": {
      "image/png": "[encoded data removed]",
      "text/plain": [
       "<Figure size 576x432 with 1 Axes>"
      ]
     },
     "metadata": {
      "image/png": {
       "height": 371,
       "width": 494
      },
      "needs_background": "light"
     },
     "output_type": "display_data"
    }
   ],
   "source": [
    "plt.rcParams['figure.figsize'] = (8, 6)\n",
    "sns.countplot(x='max_pred_score_bin', hue='correct_pred', data=df);"
   ]
  },
  {
   "cell_type": "markdown",
   "id": "66d82a25",
   "metadata": {},
   "source": [
    "## Exploring accuracy vs. news source"
   ]
  },
  {
   "cell_type": "code",
   "execution_count": 15,
   "id": "513b47fa",
   "metadata": {},
   "outputs": [
    {
     "data": {
      "text/plain": [
       "https://cointelegraph.com/feed                                           64\n",
       "https://investing-api-eng.ambcrypto.com/feed/merge_category              46\n",
       "https://insidebitcoins.com/feed                                          33\n",
       "https://news.bitcoin.com/feed/                                           30\n",
       "https://bitcoinwarrior.net/feed/                                         29\n",
       "https://www.dcforecasts.com/feed/                                        25\n",
       "https://cryptopotato.com/feed                                            24\n",
       "https://www.helenabitcoinmining.com/feed/                                22\n",
       "https://decrypt.co/feed                                                  17\n",
       "https://www.tronweekly.com/feed/                                         14\n",
       "https://zycrypto.com/feed/                                               14\n",
       "https://coinjournal.net/feed/                                            13\n",
       "http://bitcoinist.com/feed/                                              12\n",
       "https://www.investorideas.com/rss/feeds/iimain.xml                       11\n",
       "https://coinworldstory.com/feed/                                         10\n",
       "https://cryptobriefing.com/feed/                                          8\n",
       "https://www.newsbtc.com/feed/                                             8\n",
       "https://bitcoinmagazine.com/.rss/full/                                    4\n",
       "https://tokenhell.com/feed/                                               3\n",
       "https://www.cryptocurrencynewscast.online/feeds/posts/default?alt=rss     3\n",
       "https://www.bitstarz.com/blog/feed                                        2\n",
       "https://www.cryptocynews.com/feed/                                        2\n",
       "https://thebitcoinnews.com/feed/                                          2\n",
       "https://www.cryptostache.com/feed/                                        1\n",
       "https://blog.bitfinex.com/feed/                                           1\n",
       "https://e-cryptonews.com/feed/                                            1\n",
       "https://blog.coinbaazar.com/feed/                                         1\n",
       "Name: source, dtype: int64"
      ]
     },
     "execution_count": 15,
     "metadata": {},
     "output_type": "execute_result"
    }
   ],
   "source": [
    "df['source'].value_counts()"
   ]
  },
  {
   "cell_type": "code",
   "execution_count": 16,
   "id": "1c7c3e27",
   "metadata": {},
   "outputs": [],
   "source": [
    "sources_seen_at_least_10x = df['source'].value_counts()[np.where(df['source'].value_counts() > 10)[0]].index"
   ]
  },
  {
   "cell_type": "code",
   "execution_count": 17,
   "id": "6c902857",
   "metadata": {},
   "outputs": [
    {
     "data": {
      "text/plain": [
       "source\n",
       "https://news.bitcoin.com/feed/                                 0.600000\n",
       "https://decrypt.co/feed                                        0.588235\n",
       "https://www.dcforecasts.com/feed/                              0.560000\n",
       "https://bitcoinwarrior.net/feed/                               0.551724\n",
       "https://www.investorideas.com/rss/feeds/iimain.xml             0.545455\n",
       "https://cointelegraph.com/feed                                 0.531250\n",
       "https://insidebitcoins.com/feed                                0.515152\n",
       "https://www.tronweekly.com/feed/                               0.500000\n",
       "https://zycrypto.com/feed/                                     0.500000\n",
       "https://investing-api-eng.ambcrypto.com/feed/merge_category    0.478261\n",
       "https://coinjournal.net/feed/                                  0.461538\n",
       "https://cryptopotato.com/feed                                  0.458333\n",
       "https://www.helenabitcoinmining.com/feed/                      0.454545\n",
       "http://bitcoinist.com/feed/                                    0.250000\n",
       "Name: correct_pred, dtype: float64"
      ]
     },
     "execution_count": 17,
     "metadata": {},
     "output_type": "execute_result"
    }
   ],
   "source": [
    "df[df['source'].isin(sources_seen_at_least_10x)].groupby('source')['correct_pred'].mean().sort_values(ascending=False)"
   ]
  },
  {
   "cell_type": "code",
   "execution_count": 18,
   "id": "9604c018",
   "metadata": {},
   "outputs": [
    {
     "data": {
      "text/plain": [
       "Index(['https://investing-api-eng.ambcrypto.com/feed/merge_category',\n",
       "       'https://coinjournal.net/feed/', 'https://cryptopotato.com/feed',\n",
       "       'https://www.helenabitcoinmining.com/feed/',\n",
       "       'http://bitcoinist.com/feed/'],\n",
       "      dtype='object', name='source')"
      ]
     },
     "execution_count": 18,
     "metadata": {},
     "output_type": "execute_result"
    }
   ],
   "source": [
    "df[df['source'].isin(sources_seen_at_least_10x)].groupby('source')['correct_pred'].mean().sort_values(ascending=False).index[-5:]"
   ]
  },
  {
   "cell_type": "markdown",
   "id": "a65b1ce1",
   "metadata": {},
   "source": [
    "5 sources are classified with <50 accuracy:"
   ]
  },
  {
   "cell_type": "markdown",
   "id": "b90c60dd",
   "metadata": {},
   "source": [
    "|                          **Source**                         | **#news seen** | **#news correctly classified** |\n",
    "|:-----------------------------------------------------------:|:--------------:|:------------------------------:|\n",
    "| http://bitcoinist.com/feed/                                 |       12       |                3               |\n",
    "| https://coinjournal.net/feed/                               |       13       |                6               |\n",
    "| https://cryptopotato.com/feed                               |       24       |               11               |\n",
    "| https://investing-api-eng.ambcrypto.com/feed/merge_category |       46       |               22               |\n",
    "| https://www.helenabitcoinmining.com/feed/                   |       22       |               10               |"
   ]
  },
  {
   "cell_type": "markdown",
   "id": "9d36bc55",
   "metadata": {},
   "source": [
    "Looking at the content of these 5 sources, I can't say that the are rubbish"
   ]
  },
  {
   "cell_type": "code",
   "execution_count": 19,
   "id": "79095e20",
   "metadata": {},
   "outputs": [
    {
     "data": {
      "text/plain": [
       "['‘Cryptoqueen’ Has A $100,000 Bounty On Her Head Offered By The FBI',\n",
       " 'Crypto Market Liquidations Surges Past $250 Million As Bitcoin Declines Below $20,000',\n",
       " 'BlockFi Increased Deposit Rates And Removed Free Withdrawals, Here’s What We Know',\n",
       " 'Cosmin Mesenschi of FirstByte Media Explains How The Company Remains A Driving Force Behind Crypto Companies',\n",
       " 'Why This Bitcoin Miner Giant Sold 3,000 BTC Over The Past Week',\n",
       " 'Morgan Creek Said To Be In Bid To Secure $250-M To Counter FTX BlockFi Bailout',\n",
       " 'Step App: Using Blockchain to Reimagine Fitness',\n",
       " 'Gone Phishing: Cardano Ranks 3rd On List Of Most-Phished Crypto Projects',\n",
       " 'Plugin & Sumunnati, Agri-Insurance Amplified Through Climatic Variables',\n",
       " 'Bank For International Settlements Explains MEV & Ethereum Market Manipulation',\n",
       " 'South African Crypto Investors Heavily Rely On Social Media For Industry Information, KuCoin Report Shows',\n",
       " 'CBDC Cybersecurity To Be Tested By Hong Kong, Bank Of Israel And Bank For Int’l Settlements']"
      ]
     },
     "execution_count": 19,
     "metadata": {},
     "output_type": "execute_result"
    }
   ],
   "source": [
    "df.loc[df['source'] == 'http://bitcoinist.com/feed/', 'title'].tolist()"
   ]
  },
  {
   "cell_type": "code",
   "execution_count": 20,
   "id": "2ae867e3",
   "metadata": {},
   "outputs": [
    {
     "data": {
      "text/plain": [
       "['Axie Infinity to enter Phase 2 today after its Origin patch',\n",
       " 'NFT games on brink of overtaking PC games in popularity',\n",
       " 'Floyd Mayweather sums up everything that is wrong with crypto',\n",
       " 'Sell XRP/USD as price stalls for a chance to buy lower or buy on a break above',\n",
       " 'ADA eyes a breakout as developers release the final node for the Vasil hard fork',\n",
       " 'Meta rolls out tools to help select creators make money on Facebook and Instagram',\n",
       " 'Bitcoin is a commodity, says SEC’s Gary Gensler',\n",
       " 'Highlights June 28: Chiliz rallies on Ronaldo partnership with Binance',\n",
       " 'DOGE runs out of steam, traders turn to larger market cap coins',\n",
       " 'The bear markets are for building, says Fireblock’s CEO',\n",
       " 'Crypto is not replacing the U.S. dollar, says BitFury CEO',\n",
       " 'Crypto lender Celsius hires ‘Restructuring Lawyers’: CEL price pumps and dumps',\n",
       " 'BNB Chain burns $772M worth of BNB']"
      ]
     },
     "execution_count": 20,
     "metadata": {},
     "output_type": "execute_result"
    }
   ],
   "source": [
    "df.loc[df['source'] == 'https://coinjournal.net/feed/', 'title'].tolist()"
   ]
  },
  {
   "cell_type": "code",
   "execution_count": 21,
   "id": "95f72a16",
   "metadata": {},
   "outputs": [
    {
     "data": {
      "text/plain": [
       "['Fed Views Stablecoins as a Financial Instablity, Urges Regulators to Step in',\n",
       " 'CoinFlex CEO: Restoring Withdrawals Could Take More Time Than Expected',\n",
       " 'Crypto Market Deleveraging Might Soon End, JPMorgan Argues',\n",
       " 'Binance Partners With Cambodian Regulators to Develop a Local Regulatory Framework',\n",
       " 'CoinLoan Reduces Withdrawal Limits but Claims No Exposure to Luna, Celsius, 3AC',\n",
       " 'Huobi’s Founder Li Lin Reportedly Looking to Sell His Stake',\n",
       " 'Optimism’s Quixotic Hacked, Promises to Reimburse All Affected Users',\n",
       " 'Indian Crypto Excange CoinDCX Extends Withdrawal Restrictions to Meet Compliance Requirements',\n",
       " 'Qatar Doubles Down on its CBDC Plans',\n",
       " 'CryptoCom CEO Denies Imposing Withdrawal Restrictions',\n",
       " 'FTX’s CEO Denies Rumors of Planning to Buy Robinhood',\n",
       " 'Hedge Funds Reportedly Shorting USDT With Hudreds of Millions: Tether CTO Responds',\n",
       " 'Celsius Denies Reports That Company CEO Alex Mashinsky Tried to Leave the US',\n",
       " '1% of DAO Members Controlling 90% Voting Power: Chainalysis',\n",
       " 'Coinbase-Backed Lending Platform Suspends Withdrawals, Looking to Restructure',\n",
       " 'BlockFi Gets Money Services License in Iowa Weeks After Paying a $1M Penalty',\n",
       " 'OpenSea Co-Founder Steps Down to Focus on New Projects',\n",
       " 'SEC Rejects Grayscale Spot Bitcoin ETF Sparking Lawsuit',\n",
       " 'CBDCs Are Natural Evolution Necessary to Protect Fiat Monetary System: Swedish Central Banker',\n",
       " 'Kazakhstan Calls for Cooperation Between Crypto Exchanges and Banks',\n",
       " 'The Metaverse Will Be Valued at $5 Trilllion by 2030: Report',\n",
       " 'Hester Peirce Lashed out on the SEC for Delaying the Approval of Spot Bitcoin ETFs',\n",
       " 'Elon Musk Wants to Make Twitter More Compelling With Crypto Integration: Report',\n",
       " 'SBF Clears the Air on Bitcoin’s Potential for Payments']"
      ]
     },
     "execution_count": 21,
     "metadata": {},
     "output_type": "execute_result"
    }
   ],
   "source": [
    "df.loc[df['source'] == 'https://cryptopotato.com/feed', 'title'].tolist()"
   ]
  },
  {
   "cell_type": "code",
   "execution_count": 22,
   "id": "f2c65712",
   "metadata": {},
   "outputs": [
    {
     "data": {
      "text/plain": [
       "['Solana [SOL] might see an extended decline unless the bulls...',\n",
       " 'Was Convex Finance targeted in the latest spoofing exploit',\n",
       " 'What of Ethereum now that $1.4B worth of ETH are sold',\n",
       " 'AscendEX lists Walken (WLKN): A leading ‘Walk-to-Earn’ game',\n",
       " 'Monero [XMR] traders need to be wary of this before placing calls',\n",
       " 'ATOM: Assessing the odds of a long-term downtrend prevailing',\n",
       " \"Why Ethereum investors remain uncertain despite ETH's 9% gains\",\n",
       " 'OpenSea Ethereum, Polygon report card for June; stats might shock you',\n",
       " 'Bitcoin [BTC]: Miners may be capitulating, but is that all there is to it',\n",
       " 'Solana [SOL]: Rebound from median of Pitchfork can open doorways for...',\n",
       " 'Can Celsius hold on after its $120M repayment triggered a CEL mini-rally',\n",
       " 'As Tron marks its fourth anniversary, this is what investors need to know about TRX',\n",
       " \"With Loopring [LRC] flashing green, is Q2's turbulence behind it\",\n",
       " 'Can MoonBirds fly amid the tittle-tattle of drawdowns',\n",
       " \"Dogecoin: Could new report play spoilsport to DOGE's ascent towards $0.10-level\",\n",
       " \"It's a Curve-y road to recovery as CRV faces these market effects\",\n",
       " 'With Cardano [ADA] breaching $0.4565, bears could eye this level next',\n",
       " 'Litecoin falls beneath a bullish order block, could $40 be next target',\n",
       " \"AAVE traders have this in store for coming days after bearish pennant's...\",\n",
       " 'Are good times for Litecoin [LTC] too good to last for long',\n",
       " \"Monero's [XMR] 90-day performance evaluation has these tips for its traders\",\n",
       " \"CoinFlex addresses 'extreme market conditions' using this solution\",\n",
       " \"Axie Infinity's struggles to function optimally have led AXS to achieve...\",\n",
       " \"Will Bitcoin's potential short squeeze help BTC escape $20K trap\",\n",
       " 'Crema Finance suffers hack as Solana [SOL] seeks validation',\n",
       " 'Bitcoin traders going long should watch out for this resistance level',\n",
       " 'India: Crypto-exchange volumes are falling, but for how long',\n",
       " \"Elrond: Decoding reasons behind EGLD's attempts to rally\",\n",
       " \"Dogecoin traders planning to go short shouldn't miss out on this opportunity\",\n",
       " 'With Shibarium on the way, can Shiba Inu still walk the bark',\n",
       " 'Waves: $5.9 level flipped to resistance, traders going short can...',\n",
       " 'Will SAND find more demand after recovery to May levels post 85% rally',\n",
       " 'ApeCoin [APE] will face lesser intense price swings if this cohort...',\n",
       " \"Bitcoin whales are accumulating, but why is BTC's growth stunted\",\n",
       " \"Shiba Inu [SHIB]: Evaluating positive effects of this pattern's break\",\n",
       " \"The how, what, and why of Vauld suspending its services citing 'challenges'\",\n",
       " 'Decoding how Ethereum traders can take advantage of rising wedge',\n",
       " 'Crypto.com provides effortless crypto price tracking alternative',\n",
       " 'USTC gives Terra-fic fight of 309.80% but what of LUNC lunatics',\n",
       " 'Can the MoonBirds fly again after muted interest post launch and poor volumes',\n",
       " 'Bitcoin Cash: Is shorting the way to go forward for BCH traders',\n",
       " 'Stellar [XLM] holders should know this before squaring off their position',\n",
       " \"Here's why Primates Academy ranked third by most sales volume\",\n",
       " \"Can Ethereum Classic's [ETC] breakout trigger a rally or is it a bull trap\",\n",
       " 'Nigeria and Arsenal football club legend Nwankwo Kanu signs for Sportsbet.io',\n",
       " \"SEC counters Ripple's move to seal 'judicial' documents in connection with...\"]"
      ]
     },
     "execution_count": 22,
     "metadata": {},
     "output_type": "execute_result"
    }
   ],
   "source": [
    "df.loc[df['source'] == 'https://investing-api-eng.ambcrypto.com/feed/merge_category', 'title'].tolist()"
   ]
  },
  {
   "cell_type": "code",
   "execution_count": 23,
   "id": "f007f555",
   "metadata": {},
   "outputs": [
    {
     "data": {
      "text/plain": [
       "[\"Solana DeFi Platform Votes to Control Whale Account in Bid to Avoid Liquidation 'Chaos'\",\n",
       " 'Bitcoin Derivatives Exchange Reserve Surges Up As BTC Continues To Plunge',\n",
       " 'Hurry Up With Crypto ID Checks, FATF Tells Countries',\n",
       " 'TeraWulf Adds $50M in Debt for Datacenter Completions',\n",
       " 'UK Government Seeks Views on DeFi Taxation',\n",
       " 'Monero’s Ricardo ‘Fluffypony’ Spagni to Surrender to US Marshals on July 5',\n",
       " 'New Bitcoin Record Paints Incredibly Bearish Picture As BTC Struggles At $19,000',\n",
       " 'Blue Chip NFTs 101: The World Of Women Collection, Including And Conquering',\n",
       " 'Grayscale Remains ‘Unequivocally Committed’ to Converting GBTC to an ETF',\n",
       " \"Qatar at 'Foundation Stage' of CBDC Exploration, Central Bank Governor Says\",\n",
       " 'Final Toncoin Mined Ahead of Transition to Proof-of-Stake',\n",
       " 'Cardano (ADA) Looks To Recover After Sliding To $0.43 – Pressure’s On For The Bulls',\n",
       " 'Riot Blockchain Starts Move Away From New York Hosting Site',\n",
       " 'Bitcoin Approaches 2018 Like Drawdown, Why $20,000 Is A Crucial Level',\n",
       " 'Argentines Take Refuge in Stablecoins After Economy Minister Resignation',\n",
       " 'Coinbase Says Miners’ Sales of Newly Minted Bitcoins Don’t Add Significant Market Pressure',\n",
       " 'Lending Platform Vauld Looks to Restructure Amid Crypto Downturn, Suspends Transactions',\n",
       " 'First Mover Asia: Bitcoin Rebounds Past $20K; China’s Blockchain Revolution Is Missing On-Chain Data',\n",
       " 'Young Web3 Believers Unfazed by Battered Crypto Market',\n",
       " 'Holding Back The Bears: Why Bitcoin Must Break $22,500',\n",
       " 'Why Ethereum Could Trade At $500 If These Conditions Are Met',\n",
       " 'Federal Reserve Board: Recent Market Turmoil Shows ‘Structural Fragilities’ of Crypto']"
      ]
     },
     "execution_count": 23,
     "metadata": {},
     "output_type": "execute_result"
    }
   ],
   "source": [
    "df.loc[df['source'] == 'https://www.helenabitcoinmining.com/feed/', 'title'].tolist()"
   ]
  }
 ],
 "metadata": {
  "kernelspec": {
   "display_name": "Python 3 (ipykernel)",
   "language": "python",
   "name": "python3"
  },
  "language_info": {
   "codemirror_mode": {
    "name": "ipython",
    "version": 3
   },
   "file_extension": ".py",
   "mimetype": "text/x-python",
   "name": "python",
   "nbconvert_exporter": "python",
   "pygments_lexer": "ipython3",
   "version": "3.10.4"
  }
 },
 "nbformat": 4,
 "nbformat_minor": 5
}
