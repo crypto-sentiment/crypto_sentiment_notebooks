{
 "cells": [
  {
   "cell_type": "markdown",
   "metadata": {},
   "source": [
    "#### Author\n",
    "Yury Kashnitsky\n",
    "\n",
    "#### Reference\n",
    "[Notion ticket](https://www.notion.so/a74951e4e815480584dea7d61ddce6cc?v=dbfdb1207d0e451b827d3c5041ed0cfd&p=d5d0948bde5f43c7b77c5e9329d52980)\n",
    "\n",
    "#### Idea\n",
    "Parse RSS feeds from the list `../data/crypto_rss_feeds.txt` and perform an EDA to come up with filtering rules.\n",
    "\n",
    "#### Results\n",
    "Came up with filtering on publication timestamp, title length, excluded records without a verb, also non-English records, etc. \n",
    "\n",
    "~1200 titles written to `../data/20220530_rss_feed.csv`"
   ]
  },
  {
   "cell_type": "markdown",
   "metadata": {},
   "source": [
    "## Scraping RSS feeds"
   ]
  },
  {
   "cell_type": "code",
   "execution_count": 1,
   "metadata": {},
   "outputs": [],
   "source": [
    "import re\n",
    "import feedparser\n",
    "from tqdm import tqdm\n",
    "import pandas as pd\n",
    "from mmh3 import hash as mmh3_hash\n",
    "from dateutil import parser as dateutil_parser\n",
    "from delorean import parse as delorean_date_parse\n",
    "import datetime\n",
    "import pytz\n",
    "import langid\n",
    "import langdetect"
   ]
  },
  {
   "cell_type": "code",
   "execution_count": 2,
   "metadata": {},
   "outputs": [
    {
     "data": {
      "text/plain": [
       "<spacy_langdetect.spacy_langdetect.LanguageDetector at 0x149115c60>"
      ]
     },
     "execution_count": 2,
     "metadata": {},
     "output_type": "execute_result"
    }
   ],
   "source": [
    "import spacy\n",
    "from spacy.language import Language\n",
    "from spacy_langdetect import LanguageDetector\n",
    "\n",
    "# https://stackoverflow.com/questions/66712753/how-to-use-languagedetector-from-spacy-langdetect-package\n",
    "\n",
    "def get_lang_detector(nlp, name):\n",
    "    return LanguageDetector()\n",
    "\n",
    "nlp = spacy.load(\"en_core_web_sm\")\n",
    "Language.factory(\"language_detector\", func=get_lang_detector)\n",
    "nlp.add_pipe('language_detector', last=True)"
   ]
  },
  {
   "cell_type": "code",
   "execution_count": 3,
   "metadata": {},
   "outputs": [
    {
     "name": "stderr",
     "output_type": "stream",
     "text": [
      "100%|███████████████████████████████████████████████████████████████████████████████████████████████| 84/84 [01:32<00:00,  1.10s/it]\n"
     ]
    }
   ],
   "source": [
    "with open('../data/crypto_rss_feeds.txt') as f:\n",
    "    urls = [el.strip() for el in f.readlines()]\n",
    "    \n",
    "feeds = [feedparser.parse(url) for url in tqdm(urls)]"
   ]
  },
  {
   "cell_type": "code",
   "execution_count": 4,
   "metadata": {},
   "outputs": [],
   "source": [
    "def parse_feeds(feeds) -> pd.DataFrame:\n",
    "    ids, parsed_titles, sources, pub_times = [], [], [], []\n",
    "    for feed in feeds:\n",
    "        for title_metadata in feed['entries']:\n",
    "            parsed_titles.append(title_metadata.title)\n",
    "            ids.append(mmh3_hash(title_metadata.title, seed=17))\n",
    "            if \"summary_detail\" in title_metadata.keys():\n",
    "                sources.append(title_metadata.summary_detail[\"base\"])\n",
    "            else:\n",
    "                sources.append(title_metadata.title_detail[\"base\"])\n",
    "            if \"published\" in title_metadata.keys():\n",
    "                pub_times.append(title_metadata.published)\n",
    "            else:\n",
    "                pub_times.append(None)\n",
    "    df = pd.DataFrame(\n",
    "        {\n",
    "            \"title_id\": ids,\n",
    "            \"title\": parsed_titles,\n",
    "            \"source\": sources,\n",
    "            \"pub_time\": pub_times,\n",
    "        }\n",
    "    ).drop_duplicates(\n",
    "        subset=\"title_id\"\n",
    "    )  # TODO resolve duplications better\n",
    "\n",
    "    df.set_index(\"title_id\", inplace=True)\n",
    "    \n",
    "    return df"
   ]
  },
  {
   "cell_type": "code",
   "execution_count": 5,
   "metadata": {},
   "outputs": [],
   "source": [
    "df = parse_feeds(feeds).dropna()"
   ]
  },
  {
   "cell_type": "code",
   "execution_count": 6,
   "metadata": {},
   "outputs": [
    {
     "data": {
      "text/plain": [
       "2317"
      ]
     },
     "execution_count": 6,
     "metadata": {},
     "output_type": "execute_result"
    }
   ],
   "source": [
    "len(df)"
   ]
  },
  {
   "cell_type": "code",
   "execution_count": 7,
   "metadata": {},
   "outputs": [
    {
     "data": {
      "text/html": [
       "<div>\n",
       "<style scoped>\n",
       "    .dataframe tbody tr th:only-of-type {\n",
       "        vertical-align: middle;\n",
       "    }\n",
       "\n",
       "    .dataframe tbody tr th {\n",
       "        vertical-align: top;\n",
       "    }\n",
       "\n",
       "    .dataframe thead th {\n",
       "        text-align: right;\n",
       "    }\n",
       "</style>\n",
       "<table border=\"1\" class=\"dataframe\">\n",
       "  <thead>\n",
       "    <tr style=\"text-align: right;\">\n",
       "      <th></th>\n",
       "      <th>title</th>\n",
       "      <th>source</th>\n",
       "      <th>pub_time</th>\n",
       "    </tr>\n",
       "    <tr>\n",
       "      <th>title_id</th>\n",
       "      <th></th>\n",
       "      <th></th>\n",
       "      <th></th>\n",
       "    </tr>\n",
       "  </thead>\n",
       "  <tbody>\n",
       "    <tr>\n",
       "      <th>1385300947</th>\n",
       "      <td>BITMAIN Invited Key Customers to Visit North A...</td>\n",
       "      <td>https://blog.bitmain.com/en/feed/?x=1</td>\n",
       "      <td>Mon, 25 Apr 2022 13:47:46 +0000</td>\n",
       "    </tr>\n",
       "    <tr>\n",
       "      <th>750874296</th>\n",
       "      <td>BITMAIN Successfully Held the 2022 Customer Ov...</td>\n",
       "      <td>https://blog.bitmain.com/en/feed/?x=1</td>\n",
       "      <td>Tue, 15 Mar 2022 11:30:04 +0000</td>\n",
       "    </tr>\n",
       "    <tr>\n",
       "      <th>1442203391</th>\n",
       "      <td>New Batches of ANTMINER Z15 Officially Go on S...</td>\n",
       "      <td>https://blog.bitmain.com/en/feed/?x=1</td>\n",
       "      <td>Mon, 14 Feb 2022 08:01:04 +0000</td>\n",
       "    </tr>\n",
       "    <tr>\n",
       "      <th>158395930</th>\n",
       "      <td>ANTMINER 2021 Customer Satisfaction Survey</td>\n",
       "      <td>https://blog.bitmain.com/en/feed/?x=1</td>\n",
       "      <td>Fri, 28 Jan 2022 11:57:20 +0000</td>\n",
       "    </tr>\n",
       "    <tr>\n",
       "      <th>-1332721541</th>\n",
       "      <td>Customer Compensation Notice for L7 and other ...</td>\n",
       "      <td>https://blog.bitmain.com/en/feed/?x=1</td>\n",
       "      <td>Wed, 12 Jan 2022 13:58:28 +0000</td>\n",
       "    </tr>\n",
       "  </tbody>\n",
       "</table>\n",
       "</div>"
      ],
      "text/plain": [
       "                                                         title  \\\n",
       "title_id                                                         \n",
       " 1385300947  BITMAIN Invited Key Customers to Visit North A...   \n",
       " 750874296   BITMAIN Successfully Held the 2022 Customer Ov...   \n",
       " 1442203391  New Batches of ANTMINER Z15 Officially Go on S...   \n",
       " 158395930          ANTMINER 2021 Customer Satisfaction Survey   \n",
       "-1332721541  Customer Compensation Notice for L7 and other ...   \n",
       "\n",
       "                                            source  \\\n",
       "title_id                                             \n",
       " 1385300947  https://blog.bitmain.com/en/feed/?x=1   \n",
       " 750874296   https://blog.bitmain.com/en/feed/?x=1   \n",
       " 1442203391  https://blog.bitmain.com/en/feed/?x=1   \n",
       " 158395930   https://blog.bitmain.com/en/feed/?x=1   \n",
       "-1332721541  https://blog.bitmain.com/en/feed/?x=1   \n",
       "\n",
       "                                    pub_time  \n",
       "title_id                                      \n",
       " 1385300947  Mon, 25 Apr 2022 13:47:46 +0000  \n",
       " 750874296   Tue, 15 Mar 2022 11:30:04 +0000  \n",
       " 1442203391  Mon, 14 Feb 2022 08:01:04 +0000  \n",
       " 158395930   Fri, 28 Jan 2022 11:57:20 +0000  \n",
       "-1332721541  Wed, 12 Jan 2022 13:58:28 +0000  "
      ]
     },
     "execution_count": 7,
     "metadata": {},
     "output_type": "execute_result"
    }
   ],
   "source": [
    "df.head()"
   ]
  },
  {
   "cell_type": "code",
   "execution_count": 8,
   "metadata": {},
   "outputs": [
    {
     "name": "stdout",
     "output_type": "stream",
     "text": [
      "<class 'pandas.core.frame.DataFrame'>\n",
      "Int64Index: 2317 entries, 1385300947 to -1415782506\n",
      "Data columns (total 3 columns):\n",
      " #   Column    Non-Null Count  Dtype \n",
      "---  ------    --------------  ----- \n",
      " 0   title     2317 non-null   object\n",
      " 1   source    2317 non-null   object\n",
      " 2   pub_time  2317 non-null   object\n",
      "dtypes: object(3)\n",
      "memory usage: 72.4+ KB\n"
     ]
    }
   ],
   "source": [
    "df.info()"
   ]
  },
  {
   "cell_type": "markdown",
   "metadata": {},
   "source": [
    "Due to mixed timezones/offsets we have to come up with a custom date parsing method"
   ]
  },
  {
   "cell_type": "code",
   "execution_count": 9,
   "metadata": {},
   "outputs": [
    {
     "data": {
      "text/plain": [
       "+0000    1523\n",
       "0 EST     619\n",
       "0 GMT      36\n",
       "+0100      30\n",
       "1 GMT      19\n",
       "7 GMT      18\n",
       "2 GMT      16\n",
       "6 GMT      13\n",
       "9 GMT      11\n",
       "4 GMT       9\n",
       "3 GMT       9\n",
       "8 GMT       8\n",
       "5 GMT       6\n",
       "Name: pub_time, dtype: int64"
      ]
     },
     "execution_count": 9,
     "metadata": {},
     "output_type": "execute_result"
    }
   ],
   "source": [
    "df['pub_time'].apply(lambda s: s[-5:]).value_counts()"
   ]
  },
  {
   "cell_type": "code",
   "execution_count": 10,
   "metadata": {},
   "outputs": [],
   "source": [
    "def parse_time(ts: str, named_timezones = ('EST', 'GMT', 'UTC')):\n",
    "    \n",
    "    tzinfos = {tz: pytz.timezone(tz) for tz in named_timezones}\n",
    "    if ts[-3:] in named_timezones:\n",
    "        return dateutil_parser.parse(ts, tzinfos=tzinfos)\n",
    "    \n",
    "    # if instead an offset is specified like +0100, we use delorean parser\n",
    "    elif re.match(pattern=\"[\\+\\-]\\d{4}\", string=ts[-5:]):\n",
    "        return delorean_date_parse(ts).datetime\n",
    "    \n",
    "    # otherwise we failed to parse\n",
    "    else:\n",
    "        return pd.NaT"
   ]
  },
  {
   "cell_type": "code",
   "execution_count": 11,
   "metadata": {},
   "outputs": [],
   "source": [
    "df['pub_time'] = df['pub_time'].apply(lambda ts: parse_time(ts=ts))"
   ]
  },
  {
   "cell_type": "code",
   "execution_count": 12,
   "metadata": {},
   "outputs": [
    {
     "data": {
      "text/plain": [
       "(datetime.datetime(2017, 3, 27, 22, 34, 1, tzinfo=<StaticTzInfo 'GMT'>),\n",
       " datetime.datetime(2022, 5, 30, 6, 59, 37, tzinfo=<UTC>))"
      ]
     },
     "execution_count": 12,
     "metadata": {},
     "output_type": "execute_result"
    }
   ],
   "source": [
    "df['pub_time'].min(), df['pub_time'].max()"
   ]
  },
  {
   "cell_type": "code",
   "execution_count": 13,
   "metadata": {},
   "outputs": [
    {
     "data": {
      "text/html": [
       "<div>\n",
       "<style scoped>\n",
       "    .dataframe tbody tr th:only-of-type {\n",
       "        vertical-align: middle;\n",
       "    }\n",
       "\n",
       "    .dataframe tbody tr th {\n",
       "        vertical-align: top;\n",
       "    }\n",
       "\n",
       "    .dataframe thead th {\n",
       "        text-align: right;\n",
       "    }\n",
       "</style>\n",
       "<table border=\"1\" class=\"dataframe\">\n",
       "  <thead>\n",
       "    <tr style=\"text-align: right;\">\n",
       "      <th></th>\n",
       "      <th>title</th>\n",
       "      <th>source</th>\n",
       "      <th>pub_time</th>\n",
       "    </tr>\n",
       "    <tr>\n",
       "      <th>title_id</th>\n",
       "      <th></th>\n",
       "      <th></th>\n",
       "      <th></th>\n",
       "    </tr>\n",
       "  </thead>\n",
       "  <tbody>\n",
       "    <tr>\n",
       "      <th>99246378</th>\n",
       "      <td>Why Did Francophone Bitcoiners Met With Centra...</td>\n",
       "      <td>http://bitcoinist.com/feed/</td>\n",
       "      <td>2022-05-30 06:59:37+00:00</td>\n",
       "    </tr>\n",
       "    <tr>\n",
       "      <th>209551122</th>\n",
       "      <td>Nigerian Presidential Hopeful Says He Supports...</td>\n",
       "      <td>https://news.bitcoin.com/feed/</td>\n",
       "      <td>2022-05-30 06:30:01+00:00</td>\n",
       "    </tr>\n",
       "    <tr>\n",
       "      <th>-564316595</th>\n",
       "      <td>TRON TVL Soars to $6 Billion as USDD Algorithi...</td>\n",
       "      <td>https://cryptopotato.com/feed</td>\n",
       "      <td>2022-05-30 06:14:24+00:00</td>\n",
       "    </tr>\n",
       "    <tr>\n",
       "      <th>-248330369</th>\n",
       "      <td>Staking On Pancakeswap – Earn Up To 122% APY |...</td>\n",
       "      <td>http://feeds.feedburner.com/nigeriabitcoincomm...</td>\n",
       "      <td>2022-05-30 06:00:00+00:00</td>\n",
       "    </tr>\n",
       "    <tr>\n",
       "      <th>154347339</th>\n",
       "      <td>Tim Draper: Women will drive the next Bitcoin ...</td>\n",
       "      <td>https://cointelegraph.com/feed</td>\n",
       "      <td>2022-05-30 06:50:09+01:00</td>\n",
       "    </tr>\n",
       "    <tr>\n",
       "      <th>-1722184652</th>\n",
       "      <td>10 Top Metaverse Cryptos Today</td>\n",
       "      <td>https://insidebitcoins.com/feed</td>\n",
       "      <td>2022-05-30 05:48:52+00:00</td>\n",
       "    </tr>\n",
       "    <tr>\n",
       "      <th>-1063029047</th>\n",
       "      <td>Nifty News: ‘Blue-chips’ halve in value, free-...</td>\n",
       "      <td>https://cointelegraph.com/feed</td>\n",
       "      <td>2022-05-30 06:39:30+01:00</td>\n",
       "    </tr>\n",
       "    <tr>\n",
       "      <th>1391086857</th>\n",
       "      <td>10 Top Defi Coins Today</td>\n",
       "      <td>https://insidebitcoins.com/feed</td>\n",
       "      <td>2022-05-30 05:37:57+00:00</td>\n",
       "    </tr>\n",
       "    <tr>\n",
       "      <th>-189404569</th>\n",
       "      <td>TA: Ethereum Reaches Crucial Juncture, Can The...</td>\n",
       "      <td>https://www.helenabitcoinmining.com/feed/</td>\n",
       "      <td>2022-05-30 05:08:42+00:00</td>\n",
       "    </tr>\n",
       "    <tr>\n",
       "      <th>600910363</th>\n",
       "      <td>Investors dumping on Terra as LUNA 2 tanks 70%...</td>\n",
       "      <td>https://cointelegraph.com/feed</td>\n",
       "      <td>2022-05-30 06:06:25+01:00</td>\n",
       "    </tr>\n",
       "    <tr>\n",
       "      <th>123534218</th>\n",
       "      <td>🔴Crypto Goes to Space! | This Week in Crypto –...</td>\n",
       "      <td>https://99bitcoins.com/feed/</td>\n",
       "      <td>2022-05-30 05:00:24+00:00</td>\n",
       "    </tr>\n",
       "    <tr>\n",
       "      <th>-313003819</th>\n",
       "      <td>PlanetQuest and Immutable X Launch Community F...</td>\n",
       "      <td>https://news.bitcoin.com/feed/</td>\n",
       "      <td>2022-05-30 05:00:18+00:00</td>\n",
       "    </tr>\n",
       "    <tr>\n",
       "      <th>1259599063</th>\n",
       "      <td>Ethereum Transaction Fees Hit a 10-Month Low a...</td>\n",
       "      <td>https://news.bitcoin.com/feed/</td>\n",
       "      <td>2022-05-30 04:30:07+00:00</td>\n",
       "    </tr>\n",
       "    <tr>\n",
       "      <th>-1509682767</th>\n",
       "      <td>Why did LUNA hit zero – What Happened to Terra...</td>\n",
       "      <td>https://insidebitcoins.com/feed</td>\n",
       "      <td>2022-05-30 04:11:41+00:00</td>\n",
       "    </tr>\n",
       "    <tr>\n",
       "      <th>-1081745790</th>\n",
       "      <td>Market cleansing bear cycles are healthy say i...</td>\n",
       "      <td>https://cointelegraph.com/feed</td>\n",
       "      <td>2022-05-30 05:06:09+01:00</td>\n",
       "    </tr>\n",
       "    <tr>\n",
       "      <th>1009078903</th>\n",
       "      <td>Cardano (ADA) Continues To Sink, What’s Next F...</td>\n",
       "      <td>https://www.helenabitcoinmining.com/feed/</td>\n",
       "      <td>2022-05-30 04:00:45+00:00</td>\n",
       "    </tr>\n",
       "    <tr>\n",
       "      <th>1687445143</th>\n",
       "      <td>Kraken Daily Market Report for May 29 2022</td>\n",
       "      <td>https://blog.kraken.com/feed/</td>\n",
       "      <td>2022-05-30 03:55:09+00:00</td>\n",
       "    </tr>\n",
       "    <tr>\n",
       "      <th>-657950556</th>\n",
       "      <td>The question of why NFTs have taken the brunt ...</td>\n",
       "      <td>https://investing-api-eng.ambcrypto.com/feed/m...</td>\n",
       "      <td>2022-05-30 03:30:31+00:00</td>\n",
       "    </tr>\n",
       "    <tr>\n",
       "      <th>-1861041945</th>\n",
       "      <td>TA: Bitcoin Clears $30K, Why This Could Mean T...</td>\n",
       "      <td>https://www.helenabitcoinmining.com/feed/</td>\n",
       "      <td>2022-05-30 03:08:53+00:00</td>\n",
       "    </tr>\n",
       "    <tr>\n",
       "      <th>-1450756992</th>\n",
       "      <td>Binance Obtains Regulatory Approval to Offer C...</td>\n",
       "      <td>https://news.bitcoin.com/feed/</td>\n",
       "      <td>2022-05-30 02:30:17+00:00</td>\n",
       "    </tr>\n",
       "    <tr>\n",
       "      <th>-341126506</th>\n",
       "      <td>Dollar drifts toward monthly loss as Fed bets ...</td>\n",
       "      <td>https://bitcoinwarrior.net/feed/</td>\n",
       "      <td>2022-05-30 01:49:23+00:00</td>\n",
       "    </tr>\n",
       "    <tr>\n",
       "      <th>-65229319</th>\n",
       "      <td>How Avalanche [AVAX] is managing to recover de...</td>\n",
       "      <td>https://investing-api-eng.ambcrypto.com/feed/m...</td>\n",
       "      <td>2022-05-30 01:30:22+00:00</td>\n",
       "    </tr>\n",
       "    <tr>\n",
       "      <th>-643732220</th>\n",
       "      <td>Bitcoin (BTC) At $29,000, How Long Will The Co...</td>\n",
       "      <td>https://www.helenabitcoinmining.com/feed/</td>\n",
       "      <td>2022-05-30 01:00:35+00:00</td>\n",
       "    </tr>\n",
       "    <tr>\n",
       "      <th>896976006</th>\n",
       "      <td>Bitcoin Heads for Ninth Consecutive Red Weekly...</td>\n",
       "      <td>https://cryptobriefing.com/feed/</td>\n",
       "      <td>2022-05-30 00:43:07+00:00</td>\n",
       "    </tr>\n",
       "    <tr>\n",
       "      <th>1968681035</th>\n",
       "      <td>XRP: How investors can leverage these two outc...</td>\n",
       "      <td>https://investing-api-eng.ambcrypto.com/feed/m...</td>\n",
       "      <td>2022-05-30 00:30:33+00:00</td>\n",
       "    </tr>\n",
       "    <tr>\n",
       "      <th>-2100253938</th>\n",
       "      <td>‘Big Short’ Investor Michael Burry Warns of Lo...</td>\n",
       "      <td>https://news.bitcoin.com/feed/</td>\n",
       "      <td>2022-05-30 00:30:24+00:00</td>\n",
       "    </tr>\n",
       "    <tr>\n",
       "      <th>-791281586</th>\n",
       "      <td>First Mover Asia: Bitcoin Extends Losing Strea...</td>\n",
       "      <td>https://www.helenabitcoinmining.com/feed/</td>\n",
       "      <td>2022-05-29 23:53:40+00:00</td>\n",
       "    </tr>\n",
       "    <tr>\n",
       "      <th>-124813445</th>\n",
       "      <td>Algorand [ALGO] testing local lows: A breakdow...</td>\n",
       "      <td>https://investing-api-eng.ambcrypto.com/feed/m...</td>\n",
       "      <td>2022-05-29 23:30:13+00:00</td>\n",
       "    </tr>\n",
       "    <tr>\n",
       "      <th>1013277399</th>\n",
       "      <td>Crypto Corner: The Sports Slice</td>\n",
       "      <td>http://bitcoinist.com/feed/</td>\n",
       "      <td>2022-05-29 22:46:59+00:00</td>\n",
       "    </tr>\n",
       "    <tr>\n",
       "      <th>510019689</th>\n",
       "      <td>Top Coinbase Officials Jointly Sold Over $1 Bi...</td>\n",
       "      <td>https://cryptopotato.com/feed</td>\n",
       "      <td>2022-05-29 22:35:00+00:00</td>\n",
       "    </tr>\n",
       "    <tr>\n",
       "      <th>-1605894488</th>\n",
       "      <td>Recession or Prolonged Inflation: The Fed Must...</td>\n",
       "      <td>https://news.bitcoin.com/feed/</td>\n",
       "      <td>2022-05-29 22:30:38+00:00</td>\n",
       "    </tr>\n",
       "    <tr>\n",
       "      <th>683790518</th>\n",
       "      <td>Did ApeCoin justify BAYC holders' panic as Oth...</td>\n",
       "      <td>https://investing-api-eng.ambcrypto.com/feed/m...</td>\n",
       "      <td>2022-05-29 22:30:32+00:00</td>\n",
       "    </tr>\n",
       "    <tr>\n",
       "      <th>-721285043</th>\n",
       "      <td>Here Is Why SEC Is Working With Ripple Defenda...</td>\n",
       "      <td>https://bitcoinwarrior.net/feed/</td>\n",
       "      <td>2022-05-29 21:53:08+00:00</td>\n",
       "    </tr>\n",
       "    <tr>\n",
       "      <th>1626209774</th>\n",
       "      <td>10 Top Crypto Gainers Today – Chiba Inu (CHIBA)</td>\n",
       "      <td>https://insidebitcoins.com/feed</td>\n",
       "      <td>2022-05-29 21:46:31+00:00</td>\n",
       "    </tr>\n",
       "    <tr>\n",
       "      <th>1783627113</th>\n",
       "      <td>Nike’s RTFKT Buys ‘DotSwoosh’ Ethereum Domain ...</td>\n",
       "      <td>https://decrypt.co/feed</td>\n",
       "      <td>2022-05-29 21:38:39+00:00</td>\n",
       "    </tr>\n",
       "    <tr>\n",
       "      <th>82240979</th>\n",
       "      <td>Shiba Inu [SHIB]: Why traders should wait for ...</td>\n",
       "      <td>https://investing-api-eng.ambcrypto.com/feed/m...</td>\n",
       "      <td>2022-05-29 21:30:38+00:00</td>\n",
       "    </tr>\n",
       "    <tr>\n",
       "      <th>-1313234169</th>\n",
       "      <td>Is Loopring [LRC] beginning to show underlying...</td>\n",
       "      <td>https://investing-api-eng.ambcrypto.com/feed/m...</td>\n",
       "      <td>2022-05-29 20:30:44+00:00</td>\n",
       "    </tr>\n",
       "    <tr>\n",
       "      <th>1879894974</th>\n",
       "      <td>Provision Allowing Cryptocurrency Payments in ...</td>\n",
       "      <td>https://news.bitcoin.com/feed/</td>\n",
       "      <td>2022-05-29 20:30:31+00:00</td>\n",
       "    </tr>\n",
       "    <tr>\n",
       "      <th>2108606701</th>\n",
       "      <td>Cardano has retreated by 90% from its all-time...</td>\n",
       "      <td>https://coinjournal.net/feed/</td>\n",
       "      <td>2022-05-29 20:19:31+00:00</td>\n",
       "    </tr>\n",
       "    <tr>\n",
       "      <th>1201243008</th>\n",
       "      <td>Terra Classic (LUNC) crashes by nearly 80% bar...</td>\n",
       "      <td>https://coinjournal.net/feed/</td>\n",
       "      <td>2022-05-29 20:15:16+00:00</td>\n",
       "    </tr>\n",
       "    <tr>\n",
       "      <th>-279587580</th>\n",
       "      <td>High Volume Breakout could see sandbox hit $2.6</td>\n",
       "      <td>https://coinjournal.net/feed/</td>\n",
       "      <td>2022-05-29 20:08:43+00:00</td>\n",
       "    </tr>\n",
       "    <tr>\n",
       "      <th>-1842593760</th>\n",
       "      <td>Top 5 cryptocurrencies to watch this week: BTC...</td>\n",
       "      <td>https://cointelegraph.com/feed</td>\n",
       "      <td>2022-05-29 21:03:26+01:00</td>\n",
       "    </tr>\n",
       "    <tr>\n",
       "      <th>1879397310</th>\n",
       "      <td>Polkadot could still hit a bull run despite un...</td>\n",
       "      <td>https://coinjournal.net/feed/</td>\n",
       "      <td>2022-05-29 19:59:14+00:00</td>\n",
       "    </tr>\n",
       "    <tr>\n",
       "      <th>-1876504220</th>\n",
       "      <td>Synthetix Price Prediction: SNX/USD Ready to B...</td>\n",
       "      <td>https://insidebitcoins.com/feed</td>\n",
       "      <td>2022-05-29 19:50:36+00:00</td>\n",
       "    </tr>\n",
       "    <tr>\n",
       "      <th>-636996544</th>\n",
       "      <td>Decoding why Yearn.Finance continues its losin...</td>\n",
       "      <td>https://investing-api-eng.ambcrypto.com/feed/m...</td>\n",
       "      <td>2022-05-29 19:30:07+00:00</td>\n",
       "    </tr>\n",
       "    <tr>\n",
       "      <th>-1905382987</th>\n",
       "      <td>Russia Considers Allowing Crypto for Internati...</td>\n",
       "      <td>https://cryptopotato.com/feed</td>\n",
       "      <td>2022-05-29 19:04:05+00:00</td>\n",
       "    </tr>\n",
       "    <tr>\n",
       "      <th>-1101464144</th>\n",
       "      <td>10 Top NFTs As Per Floor Price – Opensea Rankings</td>\n",
       "      <td>https://insidebitcoins.com/feed</td>\n",
       "      <td>2022-05-29 18:59:42+00:00</td>\n",
       "    </tr>\n",
       "    <tr>\n",
       "      <th>-1956303930</th>\n",
       "      <td>GOP Madison Cawthorn Violated The Federal STOC...</td>\n",
       "      <td>https://www.dcforecasts.com/feed/</td>\n",
       "      <td>2022-05-29 18:34:44+00:00</td>\n",
       "    </tr>\n",
       "    <tr>\n",
       "      <th>-965731323</th>\n",
       "      <td>Cardano [ADA] investors should know this befor...</td>\n",
       "      <td>https://investing-api-eng.ambcrypto.com/feed/m...</td>\n",
       "      <td>2022-05-29 18:30:59+00:00</td>\n",
       "    </tr>\n",
       "    <tr>\n",
       "      <th>796268813</th>\n",
       "      <td>Free-to-Mint NFT Collection Goblintown Is Now ...</td>\n",
       "      <td>https://news.bitcoin.com/feed/</td>\n",
       "      <td>2022-05-29 18:30:14+00:00</td>\n",
       "    </tr>\n",
       "  </tbody>\n",
       "</table>\n",
       "</div>"
      ],
      "text/plain": [
       "                                                         title  \\\n",
       "title_id                                                         \n",
       " 99246378    Why Did Francophone Bitcoiners Met With Centra...   \n",
       " 209551122   Nigerian Presidential Hopeful Says He Supports...   \n",
       "-564316595   TRON TVL Soars to $6 Billion as USDD Algorithi...   \n",
       "-248330369   Staking On Pancakeswap – Earn Up To 122% APY |...   \n",
       " 154347339   Tim Draper: Women will drive the next Bitcoin ...   \n",
       "-1722184652                     10 Top Metaverse Cryptos Today   \n",
       "-1063029047  Nifty News: ‘Blue-chips’ halve in value, free-...   \n",
       " 1391086857                            10 Top Defi Coins Today   \n",
       "-189404569   TA: Ethereum Reaches Crucial Juncture, Can The...   \n",
       " 600910363   Investors dumping on Terra as LUNA 2 tanks 70%...   \n",
       " 123534218   🔴Crypto Goes to Space! | This Week in Crypto –...   \n",
       "-313003819   PlanetQuest and Immutable X Launch Community F...   \n",
       " 1259599063  Ethereum Transaction Fees Hit a 10-Month Low a...   \n",
       "-1509682767  Why did LUNA hit zero – What Happened to Terra...   \n",
       "-1081745790  Market cleansing bear cycles are healthy say i...   \n",
       " 1009078903  Cardano (ADA) Continues To Sink, What’s Next F...   \n",
       " 1687445143         Kraken Daily Market Report for May 29 2022   \n",
       "-657950556   The question of why NFTs have taken the brunt ...   \n",
       "-1861041945  TA: Bitcoin Clears $30K, Why This Could Mean T...   \n",
       "-1450756992  Binance Obtains Regulatory Approval to Offer C...   \n",
       "-341126506   Dollar drifts toward monthly loss as Fed bets ...   \n",
       "-65229319    How Avalanche [AVAX] is managing to recover de...   \n",
       "-643732220   Bitcoin (BTC) At $29,000, How Long Will The Co...   \n",
       " 896976006   Bitcoin Heads for Ninth Consecutive Red Weekly...   \n",
       " 1968681035  XRP: How investors can leverage these two outc...   \n",
       "-2100253938  ‘Big Short’ Investor Michael Burry Warns of Lo...   \n",
       "-791281586   First Mover Asia: Bitcoin Extends Losing Strea...   \n",
       "-124813445   Algorand [ALGO] testing local lows: A breakdow...   \n",
       " 1013277399                    Crypto Corner: The Sports Slice   \n",
       " 510019689   Top Coinbase Officials Jointly Sold Over $1 Bi...   \n",
       "-1605894488  Recession or Prolonged Inflation: The Fed Must...   \n",
       " 683790518   Did ApeCoin justify BAYC holders' panic as Oth...   \n",
       "-721285043   Here Is Why SEC Is Working With Ripple Defenda...   \n",
       " 1626209774    10 Top Crypto Gainers Today – Chiba Inu (CHIBA)   \n",
       " 1783627113  Nike’s RTFKT Buys ‘DotSwoosh’ Ethereum Domain ...   \n",
       " 82240979    Shiba Inu [SHIB]: Why traders should wait for ...   \n",
       "-1313234169  Is Loopring [LRC] beginning to show underlying...   \n",
       " 1879894974  Provision Allowing Cryptocurrency Payments in ...   \n",
       " 2108606701  Cardano has retreated by 90% from its all-time...   \n",
       " 1201243008  Terra Classic (LUNC) crashes by nearly 80% bar...   \n",
       "-279587580     High Volume Breakout could see sandbox hit $2.6   \n",
       "-1842593760  Top 5 cryptocurrencies to watch this week: BTC...   \n",
       " 1879397310  Polkadot could still hit a bull run despite un...   \n",
       "-1876504220  Synthetix Price Prediction: SNX/USD Ready to B...   \n",
       "-636996544   Decoding why Yearn.Finance continues its losin...   \n",
       "-1905382987  Russia Considers Allowing Crypto for Internati...   \n",
       "-1101464144  10 Top NFTs As Per Floor Price – Opensea Rankings   \n",
       "-1956303930  GOP Madison Cawthorn Violated The Federal STOC...   \n",
       "-965731323   Cardano [ADA] investors should know this befor...   \n",
       " 796268813   Free-to-Mint NFT Collection Goblintown Is Now ...   \n",
       "\n",
       "                                                        source  \\\n",
       "title_id                                                         \n",
       " 99246378                          http://bitcoinist.com/feed/   \n",
       " 209551122                      https://news.bitcoin.com/feed/   \n",
       "-564316595                       https://cryptopotato.com/feed   \n",
       "-248330369   http://feeds.feedburner.com/nigeriabitcoincomm...   \n",
       " 154347339                      https://cointelegraph.com/feed   \n",
       "-1722184652                    https://insidebitcoins.com/feed   \n",
       "-1063029047                     https://cointelegraph.com/feed   \n",
       " 1391086857                    https://insidebitcoins.com/feed   \n",
       "-189404569           https://www.helenabitcoinmining.com/feed/   \n",
       " 600910363                      https://cointelegraph.com/feed   \n",
       " 123534218                        https://99bitcoins.com/feed/   \n",
       "-313003819                      https://news.bitcoin.com/feed/   \n",
       " 1259599063                     https://news.bitcoin.com/feed/   \n",
       "-1509682767                    https://insidebitcoins.com/feed   \n",
       "-1081745790                     https://cointelegraph.com/feed   \n",
       " 1009078903          https://www.helenabitcoinmining.com/feed/   \n",
       " 1687445143                      https://blog.kraken.com/feed/   \n",
       "-657950556   https://investing-api-eng.ambcrypto.com/feed/m...   \n",
       "-1861041945          https://www.helenabitcoinmining.com/feed/   \n",
       "-1450756992                     https://news.bitcoin.com/feed/   \n",
       "-341126506                    https://bitcoinwarrior.net/feed/   \n",
       "-65229319    https://investing-api-eng.ambcrypto.com/feed/m...   \n",
       "-643732220           https://www.helenabitcoinmining.com/feed/   \n",
       " 896976006                    https://cryptobriefing.com/feed/   \n",
       " 1968681035  https://investing-api-eng.ambcrypto.com/feed/m...   \n",
       "-2100253938                     https://news.bitcoin.com/feed/   \n",
       "-791281586           https://www.helenabitcoinmining.com/feed/   \n",
       "-124813445   https://investing-api-eng.ambcrypto.com/feed/m...   \n",
       " 1013277399                        http://bitcoinist.com/feed/   \n",
       " 510019689                       https://cryptopotato.com/feed   \n",
       "-1605894488                     https://news.bitcoin.com/feed/   \n",
       " 683790518   https://investing-api-eng.ambcrypto.com/feed/m...   \n",
       "-721285043                    https://bitcoinwarrior.net/feed/   \n",
       " 1626209774                    https://insidebitcoins.com/feed   \n",
       " 1783627113                            https://decrypt.co/feed   \n",
       " 82240979    https://investing-api-eng.ambcrypto.com/feed/m...   \n",
       "-1313234169  https://investing-api-eng.ambcrypto.com/feed/m...   \n",
       " 1879894974                     https://news.bitcoin.com/feed/   \n",
       " 2108606701                      https://coinjournal.net/feed/   \n",
       " 1201243008                      https://coinjournal.net/feed/   \n",
       "-279587580                       https://coinjournal.net/feed/   \n",
       "-1842593760                     https://cointelegraph.com/feed   \n",
       " 1879397310                      https://coinjournal.net/feed/   \n",
       "-1876504220                    https://insidebitcoins.com/feed   \n",
       "-636996544   https://investing-api-eng.ambcrypto.com/feed/m...   \n",
       "-1905382987                      https://cryptopotato.com/feed   \n",
       "-1101464144                    https://insidebitcoins.com/feed   \n",
       "-1956303930                  https://www.dcforecasts.com/feed/   \n",
       "-965731323   https://investing-api-eng.ambcrypto.com/feed/m...   \n",
       " 796268813                      https://news.bitcoin.com/feed/   \n",
       "\n",
       "                              pub_time  \n",
       "title_id                                \n",
       " 99246378    2022-05-30 06:59:37+00:00  \n",
       " 209551122   2022-05-30 06:30:01+00:00  \n",
       "-564316595   2022-05-30 06:14:24+00:00  \n",
       "-248330369   2022-05-30 06:00:00+00:00  \n",
       " 154347339   2022-05-30 06:50:09+01:00  \n",
       "-1722184652  2022-05-30 05:48:52+00:00  \n",
       "-1063029047  2022-05-30 06:39:30+01:00  \n",
       " 1391086857  2022-05-30 05:37:57+00:00  \n",
       "-189404569   2022-05-30 05:08:42+00:00  \n",
       " 600910363   2022-05-30 06:06:25+01:00  \n",
       " 123534218   2022-05-30 05:00:24+00:00  \n",
       "-313003819   2022-05-30 05:00:18+00:00  \n",
       " 1259599063  2022-05-30 04:30:07+00:00  \n",
       "-1509682767  2022-05-30 04:11:41+00:00  \n",
       "-1081745790  2022-05-30 05:06:09+01:00  \n",
       " 1009078903  2022-05-30 04:00:45+00:00  \n",
       " 1687445143  2022-05-30 03:55:09+00:00  \n",
       "-657950556   2022-05-30 03:30:31+00:00  \n",
       "-1861041945  2022-05-30 03:08:53+00:00  \n",
       "-1450756992  2022-05-30 02:30:17+00:00  \n",
       "-341126506   2022-05-30 01:49:23+00:00  \n",
       "-65229319    2022-05-30 01:30:22+00:00  \n",
       "-643732220   2022-05-30 01:00:35+00:00  \n",
       " 896976006   2022-05-30 00:43:07+00:00  \n",
       " 1968681035  2022-05-30 00:30:33+00:00  \n",
       "-2100253938  2022-05-30 00:30:24+00:00  \n",
       "-791281586   2022-05-29 23:53:40+00:00  \n",
       "-124813445   2022-05-29 23:30:13+00:00  \n",
       " 1013277399  2022-05-29 22:46:59+00:00  \n",
       " 510019689   2022-05-29 22:35:00+00:00  \n",
       "-1605894488  2022-05-29 22:30:38+00:00  \n",
       " 683790518   2022-05-29 22:30:32+00:00  \n",
       "-721285043   2022-05-29 21:53:08+00:00  \n",
       " 1626209774  2022-05-29 21:46:31+00:00  \n",
       " 1783627113  2022-05-29 21:38:39+00:00  \n",
       " 82240979    2022-05-29 21:30:38+00:00  \n",
       "-1313234169  2022-05-29 20:30:44+00:00  \n",
       " 1879894974  2022-05-29 20:30:31+00:00  \n",
       " 2108606701  2022-05-29 20:19:31+00:00  \n",
       " 1201243008  2022-05-29 20:15:16+00:00  \n",
       "-279587580   2022-05-29 20:08:43+00:00  \n",
       "-1842593760  2022-05-29 21:03:26+01:00  \n",
       " 1879397310  2022-05-29 19:59:14+00:00  \n",
       "-1876504220  2022-05-29 19:50:36+00:00  \n",
       "-636996544   2022-05-29 19:30:07+00:00  \n",
       "-1905382987  2022-05-29 19:04:05+00:00  \n",
       "-1101464144  2022-05-29 18:59:42+00:00  \n",
       "-1956303930  2022-05-29 18:34:44+00:00  \n",
       "-965731323   2022-05-29 18:30:59+00:00  \n",
       " 796268813   2022-05-29 18:30:14+00:00  "
      ]
     },
     "execution_count": 13,
     "metadata": {},
     "output_type": "execute_result"
    }
   ],
   "source": [
    "df.sort_values(by='pub_time', ascending=False).head(50)"
   ]
  },
  {
   "cell_type": "markdown",
   "metadata": {},
   "source": [
    "##  Basic EDA and Filtering\n",
    "\n",
    "### Selecting only news with a verb"
   ]
  },
  {
   "cell_type": "code",
   "execution_count": 14,
   "metadata": {},
   "outputs": [],
   "source": [
    "def tag_verb_spacy(sent):\n",
    "    # https://ashutoshtripathi.com/2020/04/13/parts-of-speech-tagging-and-dependency-parsing-using-spacy-nlp/\n",
    "    doc = nlp(sent)\n",
    "    \n",
    "    verb_found = False\n",
    "    for t in doc:\n",
    "        if t.pos_ == 'VERB':\n",
    "            verb_found = True\n",
    "            break\n",
    "            \n",
    "    return verb_found"
   ]
  },
  {
   "cell_type": "code",
   "execution_count": 15,
   "metadata": {},
   "outputs": [],
   "source": [
    "df['has_verb'] = df['title'].apply(lambda x: tag_verb_spacy(x))"
   ]
  },
  {
   "cell_type": "code",
   "execution_count": 16,
   "metadata": {},
   "outputs": [
    {
     "data": {
      "text/html": [
       "<div>\n",
       "<style scoped>\n",
       "    .dataframe tbody tr th:only-of-type {\n",
       "        vertical-align: middle;\n",
       "    }\n",
       "\n",
       "    .dataframe tbody tr th {\n",
       "        vertical-align: top;\n",
       "    }\n",
       "\n",
       "    .dataframe thead th {\n",
       "        text-align: right;\n",
       "    }\n",
       "</style>\n",
       "<table border=\"1\" class=\"dataframe\">\n",
       "  <thead>\n",
       "    <tr style=\"text-align: right;\">\n",
       "      <th></th>\n",
       "      <th>title</th>\n",
       "      <th>source</th>\n",
       "      <th>pub_time</th>\n",
       "      <th>has_verb</th>\n",
       "    </tr>\n",
       "    <tr>\n",
       "      <th>title_id</th>\n",
       "      <th></th>\n",
       "      <th></th>\n",
       "      <th></th>\n",
       "      <th></th>\n",
       "    </tr>\n",
       "  </thead>\n",
       "  <tbody>\n",
       "    <tr>\n",
       "      <th>1385300947</th>\n",
       "      <td>BITMAIN Invited Key Customers to Visit North A...</td>\n",
       "      <td>https://blog.bitmain.com/en/feed/?x=1</td>\n",
       "      <td>2022-04-25 13:47:46+00:00</td>\n",
       "      <td>True</td>\n",
       "    </tr>\n",
       "    <tr>\n",
       "      <th>750874296</th>\n",
       "      <td>BITMAIN Successfully Held the 2022 Customer Ov...</td>\n",
       "      <td>https://blog.bitmain.com/en/feed/?x=1</td>\n",
       "      <td>2022-03-15 11:30:04+00:00</td>\n",
       "      <td>True</td>\n",
       "    </tr>\n",
       "    <tr>\n",
       "      <th>1442203391</th>\n",
       "      <td>New Batches of ANTMINER Z15 Officially Go on S...</td>\n",
       "      <td>https://blog.bitmain.com/en/feed/?x=1</td>\n",
       "      <td>2022-02-14 08:01:04+00:00</td>\n",
       "      <td>True</td>\n",
       "    </tr>\n",
       "    <tr>\n",
       "      <th>-838502866</th>\n",
       "      <td>The World Digital Mining Summit 2021 Gathers T...</td>\n",
       "      <td>https://blog.bitmain.com/en/feed/?x=1</td>\n",
       "      <td>2021-10-29 15:30:08+00:00</td>\n",
       "      <td>True</td>\n",
       "    </tr>\n",
       "    <tr>\n",
       "      <th>104331920</th>\n",
       "      <td>Bitmain Will Hold the World Digital Mining Sum...</td>\n",
       "      <td>https://blog.bitmain.com/en/feed/?x=1</td>\n",
       "      <td>2021-09-27 15:24:19+00:00</td>\n",
       "      <td>True</td>\n",
       "    </tr>\n",
       "  </tbody>\n",
       "</table>\n",
       "</div>"
      ],
      "text/plain": [
       "                                                         title  \\\n",
       "title_id                                                         \n",
       " 1385300947  BITMAIN Invited Key Customers to Visit North A...   \n",
       " 750874296   BITMAIN Successfully Held the 2022 Customer Ov...   \n",
       " 1442203391  New Batches of ANTMINER Z15 Officially Go on S...   \n",
       "-838502866   The World Digital Mining Summit 2021 Gathers T...   \n",
       " 104331920   Bitmain Will Hold the World Digital Mining Sum...   \n",
       "\n",
       "                                            source                   pub_time  \\\n",
       "title_id                                                                        \n",
       " 1385300947  https://blog.bitmain.com/en/feed/?x=1  2022-04-25 13:47:46+00:00   \n",
       " 750874296   https://blog.bitmain.com/en/feed/?x=1  2022-03-15 11:30:04+00:00   \n",
       " 1442203391  https://blog.bitmain.com/en/feed/?x=1  2022-02-14 08:01:04+00:00   \n",
       "-838502866   https://blog.bitmain.com/en/feed/?x=1  2021-10-29 15:30:08+00:00   \n",
       " 104331920   https://blog.bitmain.com/en/feed/?x=1  2021-09-27 15:24:19+00:00   \n",
       "\n",
       "             has_verb  \n",
       "title_id               \n",
       " 1385300947      True  \n",
       " 750874296       True  \n",
       " 1442203391      True  \n",
       "-838502866       True  \n",
       " 104331920       True  "
      ]
     },
     "execution_count": 16,
     "metadata": {},
     "output_type": "execute_result"
    }
   ],
   "source": [
    "df[df['has_verb']].head()"
   ]
  },
  {
   "cell_type": "code",
   "execution_count": 17,
   "metadata": {},
   "outputs": [
    {
     "data": {
      "text/html": [
       "<div>\n",
       "<style scoped>\n",
       "    .dataframe tbody tr th:only-of-type {\n",
       "        vertical-align: middle;\n",
       "    }\n",
       "\n",
       "    .dataframe tbody tr th {\n",
       "        vertical-align: top;\n",
       "    }\n",
       "\n",
       "    .dataframe thead th {\n",
       "        text-align: right;\n",
       "    }\n",
       "</style>\n",
       "<table border=\"1\" class=\"dataframe\">\n",
       "  <thead>\n",
       "    <tr style=\"text-align: right;\">\n",
       "      <th></th>\n",
       "      <th>title</th>\n",
       "      <th>source</th>\n",
       "      <th>pub_time</th>\n",
       "      <th>has_verb</th>\n",
       "    </tr>\n",
       "    <tr>\n",
       "      <th>title_id</th>\n",
       "      <th></th>\n",
       "      <th></th>\n",
       "      <th></th>\n",
       "      <th></th>\n",
       "    </tr>\n",
       "  </thead>\n",
       "  <tbody>\n",
       "    <tr>\n",
       "      <th>158395930</th>\n",
       "      <td>ANTMINER 2021 Customer Satisfaction Survey</td>\n",
       "      <td>https://blog.bitmain.com/en/feed/?x=1</td>\n",
       "      <td>2022-01-28 11:57:20+00:00</td>\n",
       "      <td>False</td>\n",
       "    </tr>\n",
       "    <tr>\n",
       "      <th>-1332721541</th>\n",
       "      <td>Customer Compensation Notice for L7 and other ...</td>\n",
       "      <td>https://blog.bitmain.com/en/feed/?x=1</td>\n",
       "      <td>2022-01-12 13:58:28+00:00</td>\n",
       "      <td>False</td>\n",
       "    </tr>\n",
       "    <tr>\n",
       "      <th>-2027763596</th>\n",
       "      <td>Siam Commercial Bank Enters The DeFi Space Via...</td>\n",
       "      <td>https://www.dcforecasts.com/feed/</td>\n",
       "      <td>2022-05-29 18:21:13+00:00</td>\n",
       "      <td>False</td>\n",
       "    </tr>\n",
       "    <tr>\n",
       "      <th>1666604457</th>\n",
       "      <td>Cardano Slips Below $0.50, More Danger Ahead: ...</td>\n",
       "      <td>https://www.dcforecasts.com/feed/</td>\n",
       "      <td>2022-05-29 18:16:06+00:00</td>\n",
       "      <td>False</td>\n",
       "    </tr>\n",
       "    <tr>\n",
       "      <th>-1678680154</th>\n",
       "      <td>Bit.Com Exchange Rolls Out New Toncoin Savings...</td>\n",
       "      <td>https://www.dcforecasts.com/feed/</td>\n",
       "      <td>2022-05-29 16:17:03+00:00</td>\n",
       "      <td>False</td>\n",
       "    </tr>\n",
       "  </tbody>\n",
       "</table>\n",
       "</div>"
      ],
      "text/plain": [
       "                                                         title  \\\n",
       "title_id                                                         \n",
       " 158395930          ANTMINER 2021 Customer Satisfaction Survey   \n",
       "-1332721541  Customer Compensation Notice for L7 and other ...   \n",
       "-2027763596  Siam Commercial Bank Enters The DeFi Space Via...   \n",
       " 1666604457  Cardano Slips Below $0.50, More Danger Ahead: ...   \n",
       "-1678680154  Bit.Com Exchange Rolls Out New Toncoin Savings...   \n",
       "\n",
       "                                            source                   pub_time  \\\n",
       "title_id                                                                        \n",
       " 158395930   https://blog.bitmain.com/en/feed/?x=1  2022-01-28 11:57:20+00:00   \n",
       "-1332721541  https://blog.bitmain.com/en/feed/?x=1  2022-01-12 13:58:28+00:00   \n",
       "-2027763596      https://www.dcforecasts.com/feed/  2022-05-29 18:21:13+00:00   \n",
       " 1666604457      https://www.dcforecasts.com/feed/  2022-05-29 18:16:06+00:00   \n",
       "-1678680154      https://www.dcforecasts.com/feed/  2022-05-29 16:17:03+00:00   \n",
       "\n",
       "             has_verb  \n",
       "title_id               \n",
       " 158395930      False  \n",
       "-1332721541     False  \n",
       "-2027763596     False  \n",
       " 1666604457     False  \n",
       "-1678680154     False  "
      ]
     },
     "execution_count": 17,
     "metadata": {},
     "output_type": "execute_result"
    }
   ],
   "source": [
    "df[~df['has_verb']].head()"
   ]
  },
  {
   "cell_type": "markdown",
   "metadata": {},
   "source": [
    "Examples having at least one verb make more sense as \"news\" - we'll further work only with those."
   ]
  },
  {
   "cell_type": "code",
   "execution_count": 18,
   "metadata": {},
   "outputs": [
    {
     "data": {
      "text/plain": [
       "1343"
      ]
     },
     "execution_count": 18,
     "metadata": {},
     "output_type": "execute_result"
    }
   ],
   "source": [
    "df['has_verb'].sum()"
   ]
  },
  {
   "cell_type": "code",
   "execution_count": 19,
   "metadata": {},
   "outputs": [],
   "source": [
    "df = df[df['has_verb']]"
   ]
  },
  {
   "cell_type": "markdown",
   "metadata": {},
   "source": [
    "## Ignore questions"
   ]
  },
  {
   "cell_type": "code",
   "execution_count": 20,
   "metadata": {},
   "outputs": [],
   "source": [
    "def has_question_mark(string):\n",
    "    return \"?\" in string"
   ]
  },
  {
   "cell_type": "code",
   "execution_count": 21,
   "metadata": {},
   "outputs": [],
   "source": [
    "df['has_quest_mark'] = df['title'].apply(has_question_mark)"
   ]
  },
  {
   "cell_type": "code",
   "execution_count": 22,
   "metadata": {},
   "outputs": [
    {
     "data": {
      "text/plain": [
       "False    1256\n",
       "True       87\n",
       "Name: has_quest_mark, dtype: int64"
      ]
     },
     "execution_count": 22,
     "metadata": {},
     "output_type": "execute_result"
    }
   ],
   "source": [
    "df['has_quest_mark'].value_counts()"
   ]
  },
  {
   "cell_type": "code",
   "execution_count": 23,
   "metadata": {},
   "outputs": [
    {
     "data": {
      "text/plain": [
       "['Ethereum Slipped Again, What’s The Next Trading Level?',\n",
       " 'What Do We Know About India’s CBDC And Its Graded Approach?',\n",
       " 'What Is ApeCoin (APE) And How Does It Work?',\n",
       " 'Do GM Wagmi (GM), Parody Coin (PARO) and Vita Inu (VINU) Have What it Takes to Become a Record Breaking Meme Coin?',\n",
       " 'How can I protect myself against Bitcoin scams?',\n",
       " 'What are people using bitcoin for?',\n",
       " 'How do I get started with mining?',\n",
       " 'What are altcoins and why should I care?',\n",
       " 'With SpaceX Poised To Accept Dogecoin Payments For Merch Soon, Will DOGE Get Its Glory Back?',\n",
       " 'DeFi Version of Telegram is Launching Market, What can Defigram Bring us?']"
      ]
     },
     "execution_count": 23,
     "metadata": {},
     "output_type": "execute_result"
    }
   ],
   "source": [
    "df.loc[df['has_quest_mark'], 'title'].head(10).tolist()"
   ]
  },
  {
   "cell_type": "code",
   "execution_count": 24,
   "metadata": {},
   "outputs": [],
   "source": [
    "df = df[~df['has_quest_mark']]"
   ]
  },
  {
   "cell_type": "markdown",
   "metadata": {},
   "source": [
    "## Non-eng languages"
   ]
  },
  {
   "cell_type": "code",
   "execution_count": 25,
   "metadata": {},
   "outputs": [],
   "source": [
    "def text_in_english_spacy(text: str):\n",
    "    doc = nlp(text, disable=['ner', 'tok2vec'])\n",
    "    lang, confidence = doc._.language['language'], doc._.language['score']\n",
    "    return (lang == 'en') and (confidence >= 0.8)"
   ]
  },
  {
   "cell_type": "code",
   "execution_count": 26,
   "metadata": {},
   "outputs": [],
   "source": [
    "df['lang_eng'] = df['title'].apply(text_in_english_spacy)"
   ]
  },
  {
   "cell_type": "code",
   "execution_count": 27,
   "metadata": {},
   "outputs": [
    {
     "data": {
      "text/plain": [
       "True     1213\n",
       "False      43\n",
       "Name: lang_eng, dtype: int64"
      ]
     },
     "execution_count": 27,
     "metadata": {},
     "output_type": "execute_result"
    }
   ],
   "source": [
    "df['lang_eng'].value_counts()"
   ]
  },
  {
   "cell_type": "markdown",
   "metadata": {},
   "source": [
    "There are many false positives in detecting non-english text"
   ]
  },
  {
   "cell_type": "code",
   "execution_count": 28,
   "metadata": {},
   "outputs": [
    {
     "data": {
      "text/plain": [
       "['Bitcoin Latinum Backers Get Boost',\n",
       " 'Flyp.me implements Monero’s sub-addresses',\n",
       " 'Long Term Update: Weekly average broken down!',\n",
       " 'Volume on BitMEX Spot Exchange surpasses $10M in 24 hours since launch',\n",
       " 'What Warren Buffett Gets Right About Bitcoin',\n",
       " 'Hashing It Out #91-Paradigm Dan Robinson',\n",
       " 'Hashing It Out #89-Optimism Karl Floersch',\n",
       " 'Hashing It Out #86- Ethereum Founder Vitalik Buterin',\n",
       " 'Hashing It Out #83-Panvala Niran Babalola',\n",
       " 'Hashing It Out #74 - SKALE Labs- Stan Kladko',\n",
       " 'Hashing It Out-#69 - OpenLIbra - Lucas Geiger and Zaki Manian',\n",
       " 'Hashing It Out #62 - Bolt Labs - Ayo Akinyele',\n",
       " 'Hashing It Out #59 - Truebit - Jason Teutsch',\n",
       " 'Hashing It Out #54 - Ethereum Geth 1.9.0 - Péter Szilágyi & Martin Swende',\n",
       " 'Hashing It Out #50 - AVA Labs - Emin Gün Sirer',\n",
       " 'Hashing It Out #48 - MakerDAO pt. 2 - Nik Kunkel',\n",
       " 'Hashing It Out #47 - MakerDAO pt. 1 - Nik Kunkel',\n",
       " 'Hashing It Out #46 - Ren - Loong Wang',\n",
       " \"Hashing It Out #31: Pokt Network - Michael O'Rourke &  Luis C. de Leon\",\n",
       " 'Hashing It Out #29: Universal Logins - Alex van de Sande',\n",
       " 'Hashing It Out #28: Panvala - Niran Babalola',\n",
       " 'Hashing It Out #20: Quantstamp - Kacper Bak',\n",
       " 'Hashing It Out #14: Thaer Khawaja - Masari',\n",
       " 'Pénzkeresés játszással: újabb népszerű videójáték lépett a play-to-earn térbe',\n",
       " 'Az immerziós bányászat egyre nagyobb trend a bitcoin bányászok körében is',\n",
       " 'Gond nélkül indult a Terra Luna 2.0, ezek a tőzsdék támogatják',\n",
       " 'A bitcoin egyre jobban hasonlít az aranyhoz',\n",
       " 'Alianza Minerals Closes CA$750K Private Placement',\n",
       " 'Zoom stock falls 84% from 2020 highs',\n",
       " 'Aztec Finds Gold in Step-Out Hole At Cervantes',\n",
       " 'BTC remains dominant despite its declining market share',\n",
       " 'Ecuador Agreement Gives Green Tech Co. Big Tax Break',\n",
       " 'AI Eye Podcast 689: Stocks discussed: (NasdaqGS: $BIDU) (NasdaqGM: $VERI) (OTC: $MARUY)',\n",
       " 'LBank Exchange Will List EXA TOKEN (EXA) on April 19, 2022',\n",
       " 'LBank Exchange Will List Ethereum Signature (ETS1) on April 7, 2022',\n",
       " 'buy Ethereum in Nigeria',\n",
       " 'Buy Bitcoin in Nigeria',\n",
       " 'Become a SHIB millionaire',\n",
       " 'Bitfinex Trading 101—Understanding traders’ talk part 2',\n",
       " 'Bitfinex Trading 101—Understanding traders’ talk',\n",
       " 'Sorry, Warren Buffett, You’re Wrong',\n",
       " 'Cleocatra Slot: I’ve Never Won Bigger!',\n",
       " 'Win on Wall Street in Fat Banker Slot']"
      ]
     },
     "execution_count": 28,
     "metadata": {},
     "output_type": "execute_result"
    }
   ],
   "source": [
    "df.loc[~df['lang_eng'], 'title'].tolist()"
   ]
  },
  {
   "cell_type": "code",
   "execution_count": 29,
   "metadata": {},
   "outputs": [
    {
     "data": {
      "text/plain": [
       "['Hashing It Out #85- Gauntlet.Network Tarun Chitra',\n",
       " 'Hashing It Out #64 - Plasma - Kelvin Fichter',\n",
       " 'Creating a Humanist Blockchain Future #40',\n",
       " 'Terra’s UST Burn Proposal Gets the Green Light',\n",
       " 'SneakMart Announces A Collaboration With StockX On It’s First Metakicks Drop',\n",
       " 'Purse now supports Amazon Germany',\n",
       " 'Why crypto bookmakers are ideal for in play betting',\n",
       " 'Cannabis Stock News: Nextleaf (CSE: OILS) Completes First Shipment to Ontario and Provides Update on British Columbia Market',\n",
       " 'gm Podcast, Episode 9: Jesse Powell Releases the Kraken',\n",
       " 'Water Stock News: Eco Wave Power (Nasdaq: $WAVE) Signs Agreement to Construct 2MW Wave Energy Power Station in Spain',\n",
       " 'Why meme-stock speculators ditching Bitcoin is good for crypto',\n",
       " 'Hashing It Out #33: Loom Network / Plasma Cash - Georgios Konstantopoulos',\n",
       " 'Introducing the Coinbase Institute: Advancing the policy debate around crypto and the future of…',\n",
       " 'Parity Technologies receives 5 million dollars from Ethereum Foundation',\n",
       " 'Chairs Maloney and Khanna Call on Big Oil to End Stock Buybacks, Use Record Profits to Help Americans at the Pump and Invest in Clean Energy',\n",
       " 'Crypto2mobile.com delivers mobile top-ups for crypto in greater Africa',\n",
       " 'Hashing It Out #11: NuCypher - John \"Tux\" Pacific & David Nunez',\n",
       " 'Bitcoin Algorithm Explained',\n",
       " 'Why Coinbase and the WNBA are investing in the future together',\n",
       " 'Hashing It Out #24: Loki Network - Simon Harman & Kee Jefferys',\n",
       " 'Huobi Ventures Enters Strategic Partnership with Bit2Me, Expanding Reach to Spanish-Speaking Markets',\n",
       " 'Initial Game Offering (IGO) – All You Need To Know',\n",
       " \"Breaking Cleantech Stock News: dynaCERT (TSX: $DYA.TO) (OTCQX: $DYFSF) (FRA: DMJ) Adds Simply Green's Expertise in the Oil & Gas Industry; @dynaCERT\",\n",
       " 'Mining Stock News: ArcWest (TSXV: AWX) Provides an Exploration Update for its Oxide Peak Copper-Gold Project, Toodoggone District, B.C.',\n",
       " 'Thailand Will Exempt Crypto Transfers From VAT Payments',\n",
       " 'Dignity Gold’s Pinkham Lode Mine Ready To Produce Gold & Silver',\n",
       " 'EV Charging Stock News: Blink (Nasdaq: $BLNK) European Subsidiary Blue Corner Awarded Grant for Energy Management Development',\n",
       " 'NFT QT  013- How to Create Perpetual Non-Profit Donations w/ Rainbow Rolls',\n",
       " 'DoraHacks Raises $20M Led by FTX Ventures and Liberty City Ventures To Scale Its Global Web3 Startup Platform',\n",
       " 'Gold Stock News: Goldhills (TSXV: GHL) Closes Definitive Agreement to Acquire a 100% Interest in the Siguri Gold Project in Central Guinea']"
      ]
     },
     "execution_count": 29,
     "metadata": {},
     "output_type": "execute_result"
    }
   ],
   "source": [
    "df.loc[df['lang_eng'], 'title'].sample(30).tolist()"
   ]
  },
  {
   "cell_type": "code",
   "execution_count": 30,
   "metadata": {},
   "outputs": [],
   "source": [
    "df = df[df['lang_eng']]"
   ]
  },
  {
   "cell_type": "markdown",
   "metadata": {},
   "source": [
    "## Sources"
   ]
  },
  {
   "cell_type": "code",
   "execution_count": 31,
   "metadata": {},
   "outputs": [
    {
     "data": {
      "text/plain": [
       "78"
      ]
     },
     "execution_count": 31,
     "metadata": {},
     "output_type": "execute_result"
    }
   ],
   "source": [
    "df['source'].nunique()"
   ]
  },
  {
   "cell_type": "code",
   "execution_count": 32,
   "metadata": {},
   "outputs": [
    {
     "data": {
      "text/plain": [
       "https://www.investorideas.com/rss/feeds/iimain.xml    455\n",
       "https://feeds.simplecast.com/xCQr3ykc                 173\n",
       "https://decrypt.co/feed                                34\n",
       "https://bitcoinmagazine.com/.rss/full/                 27\n",
       "https://www.cryptoninjas.net/feed/                     22\n",
       "Name: source, dtype: int64"
      ]
     },
     "execution_count": 32,
     "metadata": {},
     "output_type": "execute_result"
    }
   ],
   "source": [
    "df['source'].value_counts().head()"
   ]
  },
  {
   "cell_type": "markdown",
   "metadata": {},
   "source": [
    "## Exact dupes\n",
    "\n",
    "No exact dupes"
   ]
  },
  {
   "cell_type": "code",
   "execution_count": 33,
   "metadata": {},
   "outputs": [
    {
     "data": {
      "text/plain": [
       "BITMAIN Invited Key Customers to Visit North America’s First Fully Operational Hydro Cooling Data Center                                                         1\n",
       "Cannabis Stock News: Craftport Cannabis (CSE: CFT) Provides Corporate Update                                                                                     1\n",
       "One-fifth of US listed SPACs averse to Chinese targets amid evolving regulatory landscape, finds GlobalData                                                      1\n",
       "Biotech Stock News: Celularity (NASDAQ: CELU) Reports Fourth Quarter and Full Year 2021 Financial Results and Provides Corporate Update                          1\n",
       "Pharma Stock News: Pharmadrug (CSE: PHRX) (OTCQB: LMLLF) Advances PD-001, Its Patented, Improved Version of Cepharanthine for Oncology and Infectious Disease    1\n",
       "Name: title, dtype: int64"
      ]
     },
     "execution_count": 33,
     "metadata": {},
     "output_type": "execute_result"
    }
   ],
   "source": [
    "df['title'].value_counts().head()"
   ]
  },
  {
   "cell_type": "markdown",
   "metadata": {},
   "source": [
    "### Short news"
   ]
  },
  {
   "cell_type": "code",
   "execution_count": 34,
   "metadata": {},
   "outputs": [],
   "source": [
    "df['title_len_words'] = df['title'].apply(lambda s: len(s.split()))"
   ]
  },
  {
   "cell_type": "code",
   "execution_count": 35,
   "metadata": {},
   "outputs": [
    {
     "data": {
      "text/plain": [
       "12    145\n",
       "10    139\n",
       "9     128\n",
       "11    117\n",
       "8      98\n",
       "Name: title_len_words, dtype: int64"
      ]
     },
     "execution_count": 35,
     "metadata": {},
     "output_type": "execute_result"
    }
   ],
   "source": [
    "df['title_len_words'].value_counts().head()"
   ]
  },
  {
   "cell_type": "code",
   "execution_count": 36,
   "metadata": {},
   "outputs": [
    {
     "data": {
      "text/plain": [
       "30"
      ]
     },
     "execution_count": 36,
     "metadata": {},
     "output_type": "execute_result"
    }
   ],
   "source": [
    "len(df[df['title_len_words'] <= 5])"
   ]
  },
  {
   "cell_type": "markdown",
   "metadata": {},
   "source": [
    "Most of the titles under 4 words in length make no sense. There are exceptions of course \"Forget Bitcoin\", \"Go buy Bitcoin\", \"Bitcoin crosses $50,000\", etc. But there are not too many of them. "
   ]
  },
  {
   "cell_type": "markdown",
   "metadata": {},
   "source": [
    "Most of the 4-word titles make sense."
   ]
  },
  {
   "cell_type": "code",
   "execution_count": 37,
   "metadata": {},
   "outputs": [
    {
     "data": {
      "text/html": [
       "<div>\n",
       "<style scoped>\n",
       "    .dataframe tbody tr th:only-of-type {\n",
       "        vertical-align: middle;\n",
       "    }\n",
       "\n",
       "    .dataframe tbody tr th {\n",
       "        vertical-align: top;\n",
       "    }\n",
       "\n",
       "    .dataframe thead th {\n",
       "        text-align: right;\n",
       "    }\n",
       "</style>\n",
       "<table border=\"1\" class=\"dataframe\">\n",
       "  <thead>\n",
       "    <tr style=\"text-align: right;\">\n",
       "      <th></th>\n",
       "      <th>title</th>\n",
       "      <th>source</th>\n",
       "      <th>pub_time</th>\n",
       "      <th>has_verb</th>\n",
       "      <th>has_quest_mark</th>\n",
       "      <th>lang_eng</th>\n",
       "      <th>title_len_words</th>\n",
       "    </tr>\n",
       "    <tr>\n",
       "      <th>title_id</th>\n",
       "      <th></th>\n",
       "      <th></th>\n",
       "      <th></th>\n",
       "      <th></th>\n",
       "      <th></th>\n",
       "      <th></th>\n",
       "      <th></th>\n",
       "    </tr>\n",
       "  </thead>\n",
       "  <tbody>\n",
       "    <tr>\n",
       "      <th>-442349478</th>\n",
       "      <td>Methods for storing Ether!</td>\n",
       "      <td>https://newsbitcoin247.com/feed/</td>\n",
       "      <td>2022-05-26 17:47:04+00:00</td>\n",
       "      <td>True</td>\n",
       "      <td>False</td>\n",
       "      <td>True</td>\n",
       "      <td>4</td>\n",
       "    </tr>\n",
       "    <tr>\n",
       "      <th>343444067</th>\n",
       "      <td>Smart SEO Shopify 101</td>\n",
       "      <td>https://joeytrend.com/feed/</td>\n",
       "      <td>2021-03-22 06:30:10+00:00</td>\n",
       "      <td>True</td>\n",
       "      <td>False</td>\n",
       "      <td>True</td>\n",
       "      <td>4</td>\n",
       "    </tr>\n",
       "    <tr>\n",
       "      <th>-1495029528</th>\n",
       "      <td>Firstrade Adds Crypto Trading</td>\n",
       "      <td>https://www.investorideas.com/rss/feeds/iimain...</td>\n",
       "      <td>2022-04-11 09:20:00-05:00</td>\n",
       "      <td>True</td>\n",
       "      <td>False</td>\n",
       "      <td>True</td>\n",
       "      <td>4</td>\n",
       "    </tr>\n",
       "    <tr>\n",
       "      <th>-964189157</th>\n",
       "      <td>Optimizing for Network Success</td>\n",
       "      <td>https://vinnylingham.com/feed</td>\n",
       "      <td>2017-06-20 06:46:29+00:00</td>\n",
       "      <td>True</td>\n",
       "      <td>False</td>\n",
       "      <td>True</td>\n",
       "      <td>4</td>\n",
       "    </tr>\n",
       "    <tr>\n",
       "      <th>613496416</th>\n",
       "      <td>Offchain: Green with Envy</td>\n",
       "      <td>https://blog.coinjar.com/rss/</td>\n",
       "      <td>2022-04-14 01:08:49+00:00</td>\n",
       "      <td>True</td>\n",
       "      <td>False</td>\n",
       "      <td>True</td>\n",
       "      <td>4</td>\n",
       "    </tr>\n",
       "    <tr>\n",
       "      <th>-682059815</th>\n",
       "      <td>Perfomance of privacy-focused cryptocurrencies</td>\n",
       "      <td>https://cryptoinsider.media/feed/</td>\n",
       "      <td>2019-04-21 14:54:00+00:00</td>\n",
       "      <td>True</td>\n",
       "      <td>False</td>\n",
       "      <td>True</td>\n",
       "      <td>4</td>\n",
       "    </tr>\n",
       "  </tbody>\n",
       "</table>\n",
       "</div>"
      ],
      "text/plain": [
       "                                                      title  \\\n",
       "title_id                                                      \n",
       "-442349478                       Methods for storing Ether!   \n",
       " 343444067                            Smart SEO Shopify 101   \n",
       "-1495029528                   Firstrade Adds Crypto Trading   \n",
       "-964189157                   Optimizing for Network Success   \n",
       " 613496416                        Offchain: Green with Envy   \n",
       "-682059815   Perfomance of privacy-focused cryptocurrencies   \n",
       "\n",
       "                                                        source  \\\n",
       "title_id                                                         \n",
       "-442349478                    https://newsbitcoin247.com/feed/   \n",
       " 343444067                         https://joeytrend.com/feed/   \n",
       "-1495029528  https://www.investorideas.com/rss/feeds/iimain...   \n",
       "-964189157                       https://vinnylingham.com/feed   \n",
       " 613496416                       https://blog.coinjar.com/rss/   \n",
       "-682059815                   https://cryptoinsider.media/feed/   \n",
       "\n",
       "                              pub_time  has_verb  has_quest_mark  lang_eng  \\\n",
       "title_id                                                                     \n",
       "-442349478   2022-05-26 17:47:04+00:00      True           False      True   \n",
       " 343444067   2021-03-22 06:30:10+00:00      True           False      True   \n",
       "-1495029528  2022-04-11 09:20:00-05:00      True           False      True   \n",
       "-964189157   2017-06-20 06:46:29+00:00      True           False      True   \n",
       " 613496416   2022-04-14 01:08:49+00:00      True           False      True   \n",
       "-682059815   2019-04-21 14:54:00+00:00      True           False      True   \n",
       "\n",
       "             title_len_words  \n",
       "title_id                      \n",
       "-442349478                 4  \n",
       " 343444067                 4  \n",
       "-1495029528                4  \n",
       "-964189157                 4  \n",
       " 613496416                 4  \n",
       "-682059815                 4  "
      ]
     },
     "execution_count": 37,
     "metadata": {},
     "output_type": "execute_result"
    }
   ],
   "source": [
    "df.loc[df['has_verb'] & (df['title_len_words']  == 4)]"
   ]
  },
  {
   "cell_type": "markdown",
   "metadata": {},
   "source": [
    "Most of the 5-word titles are not much valuable"
   ]
  },
  {
   "cell_type": "code",
   "execution_count": 38,
   "metadata": {},
   "outputs": [
    {
     "data": {
      "text/html": [
       "<div>\n",
       "<style scoped>\n",
       "    .dataframe tbody tr th:only-of-type {\n",
       "        vertical-align: middle;\n",
       "    }\n",
       "\n",
       "    .dataframe tbody tr th {\n",
       "        vertical-align: top;\n",
       "    }\n",
       "\n",
       "    .dataframe thead th {\n",
       "        text-align: right;\n",
       "    }\n",
       "</style>\n",
       "<table border=\"1\" class=\"dataframe\">\n",
       "  <thead>\n",
       "    <tr style=\"text-align: right;\">\n",
       "      <th></th>\n",
       "      <th>title</th>\n",
       "      <th>source</th>\n",
       "      <th>pub_time</th>\n",
       "      <th>has_verb</th>\n",
       "      <th>has_quest_mark</th>\n",
       "      <th>lang_eng</th>\n",
       "      <th>title_len_words</th>\n",
       "    </tr>\n",
       "    <tr>\n",
       "      <th>title_id</th>\n",
       "      <th></th>\n",
       "      <th></th>\n",
       "      <th></th>\n",
       "      <th></th>\n",
       "      <th></th>\n",
       "      <th></th>\n",
       "      <th></th>\n",
       "    </tr>\n",
       "  </thead>\n",
       "  <tbody>\n",
       "    <tr>\n",
       "      <th>-464610260</th>\n",
       "      <td>Bitcoin Latinum Pre-listed on CoinMarketCap</td>\n",
       "      <td>https://blog.coinspectator.com/feed/</td>\n",
       "      <td>2021-06-16 14:50:30+00:00</td>\n",
       "      <td>True</td>\n",
       "      <td>False</td>\n",
       "      <td>True</td>\n",
       "      <td>5</td>\n",
       "    </tr>\n",
       "    <tr>\n",
       "      <th>-1890267142</th>\n",
       "      <td>How to Overcome Sales Objections</td>\n",
       "      <td>https://about.crunchbase.com/blog/feed/</td>\n",
       "      <td>2022-05-26 21:37:50+00:00</td>\n",
       "      <td>True</td>\n",
       "      <td>False</td>\n",
       "      <td>True</td>\n",
       "      <td>5</td>\n",
       "    </tr>\n",
       "    <tr>\n",
       "      <th>-1619680382</th>\n",
       "      <td>How to Buy Cannabis Seeds</td>\n",
       "      <td>https://smartereum.com/feed/</td>\n",
       "      <td>2022-05-26 19:19:01+00:00</td>\n",
       "      <td>True</td>\n",
       "      <td>False</td>\n",
       "      <td>True</td>\n",
       "      <td>5</td>\n",
       "    </tr>\n",
       "    <tr>\n",
       "      <th>-1073875228</th>\n",
       "      <td>Why Do People Buy NFTs</td>\n",
       "      <td>https://www.mycryptopedia.com/feed/</td>\n",
       "      <td>2022-05-25 04:18:26+00:00</td>\n",
       "      <td>True</td>\n",
       "      <td>False</td>\n",
       "      <td>True</td>\n",
       "      <td>5</td>\n",
       "    </tr>\n",
       "    <tr>\n",
       "      <th>-12816746</th>\n",
       "      <td>Dose of Ether #38-Toasting Mate</td>\n",
       "      <td>https://feeds.simplecast.com/xCQr3ykc</td>\n",
       "      <td>2020-02-04 10:00:22+00:00</td>\n",
       "      <td>True</td>\n",
       "      <td>False</td>\n",
       "      <td>True</td>\n",
       "      <td>5</td>\n",
       "    </tr>\n",
       "    <tr>\n",
       "      <th>-1809669745</th>\n",
       "      <td>Hashing It Out #72-Althea-Jehan Tremback</td>\n",
       "      <td>https://feeds.simplecast.com/xCQr3ykc</td>\n",
       "      <td>2020-01-31 00:06:45+00:00</td>\n",
       "      <td>True</td>\n",
       "      <td>False</td>\n",
       "      <td>True</td>\n",
       "      <td>5</td>\n",
       "    </tr>\n",
       "    <tr>\n",
       "      <th>-362259115</th>\n",
       "      <td>Dose of Ether #13: Scalegate</td>\n",
       "      <td>https://feeds.simplecast.com/xCQr3ykc</td>\n",
       "      <td>2018-12-14 14:41:11+00:00</td>\n",
       "      <td>True</td>\n",
       "      <td>False</td>\n",
       "      <td>True</td>\n",
       "      <td>5</td>\n",
       "    </tr>\n",
       "    <tr>\n",
       "      <th>-1642715568</th>\n",
       "      <td>Spotify Plans To Integrate NFTs</td>\n",
       "      <td>https://www.cryptocynews.com/feed/</td>\n",
       "      <td>2022-05-28 20:12:26+00:00</td>\n",
       "      <td>True</td>\n",
       "      <td>False</td>\n",
       "      <td>True</td>\n",
       "      <td>5</td>\n",
       "    </tr>\n",
       "    <tr>\n",
       "      <th>-344358989</th>\n",
       "      <td>ETH struggles to find direction</td>\n",
       "      <td>https://bitcoingoldprice.blogspot.com/feeds/po...</td>\n",
       "      <td>2021-09-08 20:06:00+00:00</td>\n",
       "      <td>True</td>\n",
       "      <td>False</td>\n",
       "      <td>True</td>\n",
       "      <td>5</td>\n",
       "    </tr>\n",
       "    <tr>\n",
       "      <th>-1130173434</th>\n",
       "      <td>Dogecoin price approaches crucial threshold</td>\n",
       "      <td>https://bitcoingoldprice.blogspot.com/feeds/po...</td>\n",
       "      <td>2021-07-19 04:27:00+00:00</td>\n",
       "      <td>True</td>\n",
       "      <td>False</td>\n",
       "      <td>True</td>\n",
       "      <td>5</td>\n",
       "    </tr>\n",
       "    <tr>\n",
       "      <th>710883385</th>\n",
       "      <td>Purse now supports Amazon Germany</td>\n",
       "      <td>https://blog.purse.io/feed</td>\n",
       "      <td>2021-09-08 02:43:01+00:00</td>\n",
       "      <td>True</td>\n",
       "      <td>False</td>\n",
       "      <td>True</td>\n",
       "      <td>5</td>\n",
       "    </tr>\n",
       "    <tr>\n",
       "      <th>1272739264</th>\n",
       "      <td>Purse is here to stay</td>\n",
       "      <td>https://blog.purse.io/feed</td>\n",
       "      <td>2020-09-29 00:16:31+00:00</td>\n",
       "      <td>True</td>\n",
       "      <td>False</td>\n",
       "      <td>True</td>\n",
       "      <td>5</td>\n",
       "    </tr>\n",
       "    <tr>\n",
       "      <th>-723028793</th>\n",
       "      <td>The rising cost of everything</td>\n",
       "      <td>https://blog.trezor.io/feed</td>\n",
       "      <td>2022-04-26 14:10:49+00:00</td>\n",
       "      <td>True</td>\n",
       "      <td>False</td>\n",
       "      <td>True</td>\n",
       "      <td>5</td>\n",
       "    </tr>\n",
       "    <tr>\n",
       "      <th>1950840948</th>\n",
       "      <td>Offchain: This Time is Different</td>\n",
       "      <td>https://blog.coinjar.com/rss/</td>\n",
       "      <td>2022-05-26 01:33:11+00:00</td>\n",
       "      <td>True</td>\n",
       "      <td>False</td>\n",
       "      <td>True</td>\n",
       "      <td>5</td>\n",
       "    </tr>\n",
       "    <tr>\n",
       "      <th>-171840879</th>\n",
       "      <td>We’ve made a few changes</td>\n",
       "      <td>https://blog.coinjar.com/rss/</td>\n",
       "      <td>2022-05-18 06:50:54+00:00</td>\n",
       "      <td>True</td>\n",
       "      <td>False</td>\n",
       "      <td>True</td>\n",
       "      <td>5</td>\n",
       "    </tr>\n",
       "    <tr>\n",
       "      <th>-470162523</th>\n",
       "      <td>Offchain: When The Frost Thaws</td>\n",
       "      <td>https://blog.coinjar.com/rss/</td>\n",
       "      <td>2022-05-11 07:27:47+00:00</td>\n",
       "      <td>True</td>\n",
       "      <td>False</td>\n",
       "      <td>True</td>\n",
       "      <td>5</td>\n",
       "    </tr>\n",
       "    <tr>\n",
       "      <th>595736394</th>\n",
       "      <td>PAXG now available on CoinJar</td>\n",
       "      <td>https://blog.coinjar.com/rss/</td>\n",
       "      <td>2022-04-26 04:22:22+00:00</td>\n",
       "      <td>True</td>\n",
       "      <td>False</td>\n",
       "      <td>True</td>\n",
       "      <td>5</td>\n",
       "    </tr>\n",
       "    <tr>\n",
       "      <th>518654519</th>\n",
       "      <td>Unlocking opportunities with crypto payments</td>\n",
       "      <td>https://blog.bitfinex.com/feed/</td>\n",
       "      <td>2021-11-23 11:24:35+00:00</td>\n",
       "      <td>True</td>\n",
       "      <td>False</td>\n",
       "      <td>True</td>\n",
       "      <td>5</td>\n",
       "    </tr>\n",
       "    <tr>\n",
       "      <th>1717969159</th>\n",
       "      <td>Betting on World Cup corners</td>\n",
       "      <td>https://bitedge.com/feed/</td>\n",
       "      <td>2022-03-14 16:03:07+00:00</td>\n",
       "      <td>True</td>\n",
       "      <td>False</td>\n",
       "      <td>True</td>\n",
       "      <td>5</td>\n",
       "    </tr>\n",
       "  </tbody>\n",
       "</table>\n",
       "</div>"
      ],
      "text/plain": [
       "                                                    title  \\\n",
       "title_id                                                    \n",
       "-464610260    Bitcoin Latinum Pre-listed on CoinMarketCap   \n",
       "-1890267142              How to Overcome Sales Objections   \n",
       "-1619680382                     How to Buy Cannabis Seeds   \n",
       "-1073875228                        Why Do People Buy NFTs   \n",
       "-12816746                 Dose of Ether #38-Toasting Mate   \n",
       "-1809669745      Hashing It Out #72-Althea-Jehan Tremback   \n",
       "-362259115                   Dose of Ether #13: Scalegate   \n",
       "-1642715568               Spotify Plans To Integrate NFTs   \n",
       "-344358989                ETH struggles to find direction   \n",
       "-1130173434   Dogecoin price approaches crucial threshold   \n",
       " 710883385              Purse now supports Amazon Germany   \n",
       " 1272739264                         Purse is here to stay   \n",
       "-723028793                  The rising cost of everything   \n",
       " 1950840948              Offchain: This Time is Different   \n",
       "-171840879                       We’ve made a few changes   \n",
       "-470162523                 Offchain: When The Frost Thaws   \n",
       " 595736394                  PAXG now available on CoinJar   \n",
       " 518654519   Unlocking opportunities with crypto payments   \n",
       " 1717969159                  Betting on World Cup corners   \n",
       "\n",
       "                                                        source  \\\n",
       "title_id                                                         \n",
       "-464610260                https://blog.coinspectator.com/feed/   \n",
       "-1890267142            https://about.crunchbase.com/blog/feed/   \n",
       "-1619680382                       https://smartereum.com/feed/   \n",
       "-1073875228                https://www.mycryptopedia.com/feed/   \n",
       "-12816746                https://feeds.simplecast.com/xCQr3ykc   \n",
       "-1809669745              https://feeds.simplecast.com/xCQr3ykc   \n",
       "-362259115               https://feeds.simplecast.com/xCQr3ykc   \n",
       "-1642715568                 https://www.cryptocynews.com/feed/   \n",
       "-344358989   https://bitcoingoldprice.blogspot.com/feeds/po...   \n",
       "-1130173434  https://bitcoingoldprice.blogspot.com/feeds/po...   \n",
       " 710883385                          https://blog.purse.io/feed   \n",
       " 1272739264                         https://blog.purse.io/feed   \n",
       "-723028793                         https://blog.trezor.io/feed   \n",
       " 1950840948                      https://blog.coinjar.com/rss/   \n",
       "-171840879                       https://blog.coinjar.com/rss/   \n",
       "-470162523                       https://blog.coinjar.com/rss/   \n",
       " 595736394                       https://blog.coinjar.com/rss/   \n",
       " 518654519                     https://blog.bitfinex.com/feed/   \n",
       " 1717969159                          https://bitedge.com/feed/   \n",
       "\n",
       "                              pub_time  has_verb  has_quest_mark  lang_eng  \\\n",
       "title_id                                                                     \n",
       "-464610260   2021-06-16 14:50:30+00:00      True           False      True   \n",
       "-1890267142  2022-05-26 21:37:50+00:00      True           False      True   \n",
       "-1619680382  2022-05-26 19:19:01+00:00      True           False      True   \n",
       "-1073875228  2022-05-25 04:18:26+00:00      True           False      True   \n",
       "-12816746    2020-02-04 10:00:22+00:00      True           False      True   \n",
       "-1809669745  2020-01-31 00:06:45+00:00      True           False      True   \n",
       "-362259115   2018-12-14 14:41:11+00:00      True           False      True   \n",
       "-1642715568  2022-05-28 20:12:26+00:00      True           False      True   \n",
       "-344358989   2021-09-08 20:06:00+00:00      True           False      True   \n",
       "-1130173434  2021-07-19 04:27:00+00:00      True           False      True   \n",
       " 710883385   2021-09-08 02:43:01+00:00      True           False      True   \n",
       " 1272739264  2020-09-29 00:16:31+00:00      True           False      True   \n",
       "-723028793   2022-04-26 14:10:49+00:00      True           False      True   \n",
       " 1950840948  2022-05-26 01:33:11+00:00      True           False      True   \n",
       "-171840879   2022-05-18 06:50:54+00:00      True           False      True   \n",
       "-470162523   2022-05-11 07:27:47+00:00      True           False      True   \n",
       " 595736394   2022-04-26 04:22:22+00:00      True           False      True   \n",
       " 518654519   2021-11-23 11:24:35+00:00      True           False      True   \n",
       " 1717969159  2022-03-14 16:03:07+00:00      True           False      True   \n",
       "\n",
       "             title_len_words  \n",
       "title_id                      \n",
       "-464610260                 5  \n",
       "-1890267142                5  \n",
       "-1619680382                5  \n",
       "-1073875228                5  \n",
       "-12816746                  5  \n",
       "-1809669745                5  \n",
       "-362259115                 5  \n",
       "-1642715568                5  \n",
       "-344358989                 5  \n",
       "-1130173434                5  \n",
       " 710883385                 5  \n",
       " 1272739264                5  \n",
       "-723028793                 5  \n",
       " 1950840948                5  \n",
       "-171840879                 5  \n",
       "-470162523                 5  \n",
       " 595736394                 5  \n",
       " 518654519                 5  \n",
       " 1717969159                5  "
      ]
     },
     "execution_count": 38,
     "metadata": {},
     "output_type": "execute_result"
    }
   ],
   "source": [
    "df.loc[df['has_verb'] & (df['title_len_words']  == 5)]"
   ]
  },
  {
   "cell_type": "code",
   "execution_count": 39,
   "metadata": {},
   "outputs": [],
   "source": [
    "df = df[df['title_len_words'] >= 6]"
   ]
  },
  {
   "cell_type": "code",
   "execution_count": 40,
   "metadata": {},
   "outputs": [
    {
     "data": {
      "text/plain": [
       "1183"
      ]
     },
     "execution_count": 40,
     "metadata": {},
     "output_type": "execute_result"
    }
   ],
   "source": [
    "len(df)"
   ]
  },
  {
   "cell_type": "code",
   "execution_count": 41,
   "metadata": {},
   "outputs": [
    {
     "data": {
      "text/plain": [
       "Index(['title', 'source', 'pub_time', 'has_verb', 'has_quest_mark', 'lang_eng',\n",
       "       'title_len_words'],\n",
       "      dtype='object')"
      ]
     },
     "execution_count": 41,
     "metadata": {},
     "output_type": "execute_result"
    }
   ],
   "source": [
    "df.columns"
   ]
  },
  {
   "cell_type": "code",
   "execution_count": 42,
   "metadata": {},
   "outputs": [],
   "source": [
    "df[['title', 'source', 'pub_time']].to_csv('../data/20220530_rss_feed.csv')"
   ]
  }
 ],
 "metadata": {
  "kernelspec": {
   "display_name": "Python 3 (ipykernel)",
   "language": "python",
   "name": "python3"
  },
  "language_info": {
   "codemirror_mode": {
    "name": "ipython",
    "version": 3
   },
   "file_extension": ".py",
   "mimetype": "text/x-python",
   "name": "python",
   "nbconvert_exporter": "python",
   "pygments_lexer": "ipython3",
   "version": "3.10.4"
  }
 },
 "nbformat": 4,
 "nbformat_minor": 4
}
